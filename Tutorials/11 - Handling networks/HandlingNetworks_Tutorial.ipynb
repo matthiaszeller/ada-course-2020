{
 "cells": [
  {
   "cell_type": "markdown",
   "metadata": {},
   "source": [
    "## Installation\n",
    "\n",
    "```\n",
    "pip install networkx python-louvain\n",
    "```"
   ]
  },
  {
   "cell_type": "code",
   "execution_count": 1,
   "metadata": {},
   "outputs": [
    {
     "name": "stdout",
     "output_type": "stream",
     "text": [
      "Requirement already satisfied: networkx in /home/maousi/anaconda3/envs/ada/lib/python3.8/site-packages (2.5)\n",
      "Collecting python-louvain\n",
      "  Downloading python-louvain-0.14.tar.gz (19 kB)\n",
      "Requirement already satisfied: decorator>=4.3.0 in /home/maousi/anaconda3/envs/ada/lib/python3.8/site-packages (from networkx) (4.4.2)\n",
      "Requirement already satisfied: numpy in /home/maousi/anaconda3/envs/ada/lib/python3.8/site-packages (from python-louvain) (1.19.1)\n",
      "Building wheels for collected packages: python-louvain\n",
      "  Building wheel for python-louvain (setup.py) ... \u001b[?25ldone\n",
      "\u001b[?25h  Created wheel for python-louvain: filename=python_louvain-0.14-py3-none-any.whl size=9291 sha256=e5e6ca6fdcd3dbea44f520a4a23144eee99e5ada96c83afbef26285aef9a5fef\n",
      "  Stored in directory: /home/maousi/.cache/pip/wheels/22/f9/ce/591ffa9b16851da50ca337c9ecfd44d79a7b87fcbd2a7a0021\n",
      "Successfully built python-louvain\n",
      "Installing collected packages: python-louvain\n",
      "Successfully installed python-louvain-0.14\n"
     ]
    }
   ],
   "source": [
    "# Dependendencies\n",
    "\n",
    "!pip install networkx python-louvain"
   ]
  },
  {
   "cell_type": "code",
   "execution_count": 2,
   "metadata": {},
   "outputs": [],
   "source": [
    "import networkx as nx\n",
    "\n",
    "import pandas as pd\n",
    "from operator import itemgetter\n",
    "import matplotlib.pyplot as plt\n",
    "import collections\n",
    "from community import community_louvain\n",
    "from networkx.algorithms.community.centrality import girvan_newman\n",
    "import itertools\n",
    "%matplotlib inline\n",
    "\n",
    "import warnings\n",
    "warnings.filterwarnings('ignore')"
   ]
  },
  {
   "cell_type": "code",
   "execution_count": 3,
   "metadata": {},
   "outputs": [
    {
     "data": {
      "text/plain": [
       "'2.5'"
      ]
     },
     "execution_count": 3,
     "metadata": {},
     "output_type": "execute_result"
    }
   ],
   "source": [
    "nx.__version__"
   ]
  },
  {
   "cell_type": "markdown",
   "metadata": {},
   "source": [
    "## Introducting Networkx"
   ]
  },
  {
   "cell_type": "markdown",
   "metadata": {},
   "source": [
    "NetworkX has a broad range of example networks that you can load with just a function call ([more examples here](https://networkx.github.io/documentation/stable/auto_examples/index.html)).\n",
    "\n",
    ".. and a super friendly API that you can use to conviently build networks.\n",
    "\n",
    "In order to get used to NetworkX API, let's just construct a simple **undirected graph**"
   ]
  },
  {
   "cell_type": "markdown",
   "metadata": {},
   "source": [
    "### Creating and Visualizing a simple Undirected Graph"
   ]
  },
  {
   "cell_type": "code",
   "execution_count": 4,
   "metadata": {},
   "outputs": [
    {
     "data": {
      "text/plain": [
       "NodeView((1, 2, 3, 4, 5, 6, 7, 8))"
      ]
     },
     "execution_count": 4,
     "metadata": {},
     "output_type": "execute_result"
    }
   ],
   "source": [
    "G = nx.Graph() # for a directed graph use nx.DiGraph()\n",
    "G.add_node(1)\n",
    "G.add_nodes_from(range(2,9))  # add multiple nodes at once\n",
    "\n",
    "# add edges \n",
    "G.add_edge(1,2)\n",
    "edges = [(2,3), (1,3), (4,1), (4,5), (5,6), (5,7), (6,7), (7,8), (6,8)]\n",
    "G.add_edges_from(edges)\n",
    "G.nodes()"
   ]
  },
  {
   "cell_type": "code",
   "execution_count": 5,
   "metadata": {},
   "outputs": [
    {
     "data": {
      "text/plain": [
       "EdgeView([(1, 2), (1, 3), (1, 4), (2, 3), (4, 5), (5, 6), (5, 7), (6, 7), (6, 8), (7, 8)])"
      ]
     },
     "execution_count": 5,
     "metadata": {},
     "output_type": "execute_result"
    }
   ],
   "source": [
    "G.edges"
   ]
  },
  {
   "cell_type": "code",
   "execution_count": 6,
   "metadata": {},
   "outputs": [
    {
     "data": {
      "text/plain": [
       "AdjacencyView({1: {2: {}, 3: {}, 4: {}}, 2: {1: {}, 3: {}}, 3: {2: {}, 1: {}}, 4: {1: {}, 5: {}}, 5: {4: {}, 6: {}, 7: {}}, 6: {5: {}, 7: {}, 8: {}}, 7: {5: {}, 6: {}, 8: {}}, 8: {7: {}, 6: {}}})"
      ]
     },
     "execution_count": 6,
     "metadata": {},
     "output_type": "execute_result"
    }
   ],
   "source": [
    "G.adj"
   ]
  },
  {
   "cell_type": "markdown",
   "metadata": {},
   "source": [
    "Did you like to get a quick overview of your dataset using `.describe()` in pandas ?\n",
    "Here is the equivalent in NetworkX:"
   ]
  },
  {
   "cell_type": "code",
   "execution_count": 7,
   "metadata": {},
   "outputs": [
    {
     "name": "stdout",
     "output_type": "stream",
     "text": [
      "Name: \n",
      "Type: Graph\n",
      "Number of nodes: 8\n",
      "Number of edges: 10\n",
      "Average degree:   2.5000\n"
     ]
    }
   ],
   "source": [
    "print(nx.info(G))"
   ]
  },
  {
   "cell_type": "markdown",
   "metadata": {},
   "source": [
    "The library also has a built-in plotting engine (based on matplotlib)."
   ]
  },
  {
   "cell_type": "code",
   "execution_count": 8,
   "metadata": {},
   "outputs": [
    {
     "data": {
      "image/png": "[encoded data removed]",
      "text/plain": [
       "<Figure size 432x288 with 1 Axes>"
      ]
     },
     "metadata": {},
     "output_type": "display_data"
    }
   ],
   "source": [
    "# plot it out\n",
    "# for different layouts, please see: https://networkx.github.io/documentation/stable/reference/drawing.html#module-networkx.drawing.layout\n",
    "nx.draw_spring(G, with_labels=True,  alpha = 0.8)"
   ]
  },
  {
   "cell_type": "code",
   "execution_count": 9,
   "metadata": {},
   "outputs": [],
   "source": [
    "# Helper function for plotting the degree distribution of a Graph\n",
    "def plot_degree_distribution(G):\n",
    "    degrees = {}\n",
    "    for node in G.nodes():\n",
    "        degree = G.degree(node)\n",
    "        if degree not in degrees:\n",
    "            degrees[degree] = 0\n",
    "        degrees[degree] += 1\n",
    "    sorted_degree = sorted(degrees.items())\n",
    "    deg = [k for (k,v) in sorted_degree]\n",
    "    cnt = [v for (k,v) in sorted_degree]\n",
    "    fig, ax = plt.subplots()\n",
    "    plt.bar(deg, cnt, width=0.80, color='b')\n",
    "    plt.title(\"Degree Distribution\")\n",
    "    plt.ylabel(\"Frequency\")\n",
    "    plt.xlabel(\"Degree\")\n",
    "    ax.set_xticks([d+0.05 for d in deg])\n",
    "    ax.set_xticklabels(deg)"
   ]
  },
  {
   "cell_type": "code",
   "execution_count": 10,
   "metadata": {},
   "outputs": [],
   "source": [
    "# Helper function for printing various graph properties\n",
    "def describe_graph(G):\n",
    "    print(nx.info(G))\n",
    "    if nx.is_connected(G):\n",
    "        print(\"Avg. Shortest Path Length: %.4f\" %nx.average_shortest_path_length(G))\n",
    "        print(\"Diameter: %.4f\" %nx.diameter(G)) # Longest shortest path\n",
    "    else:\n",
    "        print(\"Graph is not connected\")\n",
    "        print(\"Diameter and Avg shortest path length are not defined!\")\n",
    "    print(\"Sparsity: %.4f\" %nx.density(G))  # #edges/#edges-complete-graph\n",
    "    # #closed-triplets(3*#triangles)/#all-triplets\n",
    "    print(\"Global clustering coefficient aka Transitivity: %.4f\" %nx.transitivity(G))"
   ]
  },
  {
   "cell_type": "code",
   "execution_count": 11,
   "metadata": {},
   "outputs": [],
   "source": [
    "# Helper function for visualizing the graph\n",
    "def visualize_graph(G, with_labels=True, k=None, alpha=1.0, node_shape='o'):\n",
    "    #nx.draw_spring(G, with_labels=with_labels, alpha = alpha)\n",
    "    pos = nx.spring_layout(G, k=k)\n",
    "    if with_labels:\n",
    "        lab = nx.draw_networkx_labels(G, pos, labels=dict([(n, n) for n in G.nodes()]))\n",
    "    ec = nx.draw_networkx_edges(G, pos, alpha=alpha)\n",
    "    nc = nx.draw_networkx_nodes(G, pos, nodelist=G.nodes(), node_color='g', node_shape=node_shape)\n",
    "    plt.axis('off')"
   ]
  },
  {
   "cell_type": "markdown",
   "metadata": {},
   "source": [
    "### Creating and Visualizing an Erdős–Rényi graph"
   ]
  },
  {
   "cell_type": "code",
   "execution_count": 12,
   "metadata": {},
   "outputs": [
    {
     "name": "stdout",
     "output_type": "stream",
     "text": [
      "Name: \n",
      "Type: Graph\n",
      "Number of nodes: 10\n",
      "Number of edges: 20\n",
      "Average degree:   4.0000\n",
      "Avg. Shortest Path Length: 1.6667\n",
      "Diameter: 3.0000\n",
      "Sparsity: 0.4444\n",
      "Global clustering coefficient aka Transitivity: 0.4800\n"
     ]
    },
    {
     "data": {
      "image/png": "[encoded data removed]",
      "text/plain": [
       "<Figure size 432x288 with 1 Axes>"
      ]
     },
     "metadata": {},
     "output_type": "display_data"
    },
    {
     "data": {
      "image/png": "[encoded data removed]",
      "text/plain": [
       "<Figure size 432x288 with 1 Axes>"
      ]
     },
     "metadata": {
      "needs_background": "light"
     },
     "output_type": "display_data"
    }
   ],
   "source": [
    "n = 10  # 10 nodes\n",
    "m = 20  # 20 edges\n",
    "\n",
    "erG = nx.gnm_random_graph(n, m)\n",
    "\n",
    "describe_graph(erG)\n",
    "visualize_graph(erG, k=0.05, alpha=0.8)\n",
    "plot_degree_distribution(erG)"
   ]
  },
  {
   "cell_type": "markdown",
   "metadata": {},
   "source": [
    "### Creating and Visualizing the Zachary's Karate Club Network"
   ]
  },
  {
   "cell_type": "code",
   "execution_count": 17,
   "metadata": {},
   "outputs": [
    {
     "name": "stdout",
     "output_type": "stream",
     "text": [
      "Name: Zachary's Karate Club\n",
      "Type: Graph\n",
      "Number of nodes: 34\n",
      "Number of edges: 78\n",
      "Average degree:   4.5882\n",
      "Avg. Shortest Path Length: 2.4082\n",
      "Diameter: 5.0000\n",
      "Sparsity: 0.1390\n",
      "Global clustering coefficient aka Transitivity: 0.2557\n"
     ]
    },
    {
     "data": {
      "image/png": "[encoded data removed]",
      "text/plain": [
       "<Figure size 432x288 with 1 Axes>"
      ]
     },
     "metadata": {},
     "output_type": "display_data"
    },
    {
     "data": {
      "image/png": "[encoded data removed]",
      "text/plain": [
       "<Figure size 432x288 with 1 Axes>"
      ]
     },
     "metadata": {
      "needs_background": "light"
     },
     "output_type": "display_data"
    }
   ],
   "source": [
    "karateG = nx.karate_club_graph()\n",
    "describe_graph(karateG)\n",
    "visualize_graph(karateG, k=0.05, alpha=0.8)\n",
    "plot_degree_distribution(karateG)"
   ]
  },
  {
   "cell_type": "code",
   "execution_count": null,
   "metadata": {},
   "outputs": [],
   "source": [
    "# Draw the graph with a circular layout instead?\n",
    "nx.draw_circular(karateG, with_labels=True,  node_color='g', alpha = 0.8)"
   ]
  },
  {
   "cell_type": "markdown",
   "metadata": {},
   "source": [
    "## Section 2: Quakers !"
   ]
  },
  {
   "cell_type": "markdown",
   "metadata": {},
   "source": [
    "Let's now go beyond toy examples and load real data! \n",
    "\n",
    "England, in the mid-17th century. A novel group of Protestant Christians, called \"Religious Society of Friends\" dissent from the main doctrine. Their members are known as the \"Quakers\". This dataset is derived from the [\"Oxford Dictionary of National Biography\"](http://www.oxforddnb.com/) and from the ongoing work of the *\"Six Degrees of Francis Bacon project\"*, which is reconstructing the social networks of early modern Britain (1500-1700) to trace the personal relationships among figures like **Bacon**, **Shakespeare**, **Sir Isaac Newton** and many others.\n",
    "\n",
    "[Credits](https://programminghistorian.org/en/lessons/exploring-and-analyzing-network-data-with-python)"
   ]
  },
  {
   "cell_type": "markdown",
   "metadata": {},
   "source": [
    "### Meet the Quakers"
   ]
  },
  {
   "cell_type": "code",
   "execution_count": 18,
   "metadata": {},
   "outputs": [
    {
     "data": {
      "text/html": [
       "<div>\n",
       "<style scoped>\n",
       "    .dataframe tbody tr th:only-of-type {\n",
       "        vertical-align: middle;\n",
       "    }\n",
       "\n",
       "    .dataframe tbody tr th {\n",
       "        vertical-align: top;\n",
       "    }\n",
       "\n",
       "    .dataframe thead th {\n",
       "        text-align: right;\n",
       "    }\n",
       "</style>\n",
       "<table border=\"1\" class=\"dataframe\">\n",
       "  <thead>\n",
       "    <tr style=\"text-align: right;\">\n",
       "      <th></th>\n",
       "      <th>Name</th>\n",
       "      <th>Historical Significance</th>\n",
       "      <th>Gender</th>\n",
       "      <th>Birthdate</th>\n",
       "      <th>Deathdate</th>\n",
       "      <th>ID</th>\n",
       "    </tr>\n",
       "  </thead>\n",
       "  <tbody>\n",
       "    <tr>\n",
       "      <th>0</th>\n",
       "      <td>Joseph Wyeth</td>\n",
       "      <td>religious writer</td>\n",
       "      <td>male</td>\n",
       "      <td>1663</td>\n",
       "      <td>1731</td>\n",
       "      <td>10013191</td>\n",
       "    </tr>\n",
       "    <tr>\n",
       "      <th>1</th>\n",
       "      <td>Alexander Skene of Newtyle</td>\n",
       "      <td>local politician and author</td>\n",
       "      <td>male</td>\n",
       "      <td>1621</td>\n",
       "      <td>1694</td>\n",
       "      <td>10011149</td>\n",
       "    </tr>\n",
       "    <tr>\n",
       "      <th>2</th>\n",
       "      <td>James Logan</td>\n",
       "      <td>colonial official and scholar</td>\n",
       "      <td>male</td>\n",
       "      <td>1674</td>\n",
       "      <td>1751</td>\n",
       "      <td>10007567</td>\n",
       "    </tr>\n",
       "    <tr>\n",
       "      <th>3</th>\n",
       "      <td>Dorcas Erbery</td>\n",
       "      <td>Quaker preacher</td>\n",
       "      <td>female</td>\n",
       "      <td>1656</td>\n",
       "      <td>1659</td>\n",
       "      <td>10003983</td>\n",
       "    </tr>\n",
       "    <tr>\n",
       "      <th>4</th>\n",
       "      <td>Lilias Skene</td>\n",
       "      <td>Quaker preacher and poet</td>\n",
       "      <td>male</td>\n",
       "      <td>1626</td>\n",
       "      <td>1697</td>\n",
       "      <td>10011152</td>\n",
       "    </tr>\n",
       "    <tr>\n",
       "      <th>5</th>\n",
       "      <td>William Mucklow</td>\n",
       "      <td>religious writer</td>\n",
       "      <td>male</td>\n",
       "      <td>1630</td>\n",
       "      <td>1713</td>\n",
       "      <td>10008595</td>\n",
       "    </tr>\n",
       "    <tr>\n",
       "      <th>6</th>\n",
       "      <td>Thomas Salthouse</td>\n",
       "      <td>Quaker preacher and writer</td>\n",
       "      <td>male</td>\n",
       "      <td>1630</td>\n",
       "      <td>1691</td>\n",
       "      <td>10010643</td>\n",
       "    </tr>\n",
       "    <tr>\n",
       "      <th>7</th>\n",
       "      <td>William Dewsbury</td>\n",
       "      <td>Quaker activist</td>\n",
       "      <td>male</td>\n",
       "      <td>1621</td>\n",
       "      <td>1688</td>\n",
       "      <td>10003478</td>\n",
       "    </tr>\n",
       "    <tr>\n",
       "      <th>8</th>\n",
       "      <td>John Audland</td>\n",
       "      <td>Quaker preacher</td>\n",
       "      <td>male</td>\n",
       "      <td>1630</td>\n",
       "      <td>1664</td>\n",
       "      <td>10000411</td>\n",
       "    </tr>\n",
       "    <tr>\n",
       "      <th>9</th>\n",
       "      <td>Richard Claridge</td>\n",
       "      <td>Quaker minister and schoolmaster</td>\n",
       "      <td>male</td>\n",
       "      <td>1649</td>\n",
       "      <td>1723</td>\n",
       "      <td>10002469</td>\n",
       "    </tr>\n",
       "  </tbody>\n",
       "</table>\n",
       "</div>"
      ],
      "text/plain": [
       "                         Name           Historical Significance  Gender  \\\n",
       "0                Joseph Wyeth                  religious writer    male   \n",
       "1  Alexander Skene of Newtyle       local politician and author    male   \n",
       "2                 James Logan     colonial official and scholar    male   \n",
       "3               Dorcas Erbery                   Quaker preacher  female   \n",
       "4                Lilias Skene          Quaker preacher and poet    male   \n",
       "5             William Mucklow                  religious writer    male   \n",
       "6            Thomas Salthouse        Quaker preacher and writer    male   \n",
       "7            William Dewsbury                   Quaker activist    male   \n",
       "8                John Audland                   Quaker preacher    male   \n",
       "9            Richard Claridge  Quaker minister and schoolmaster    male   \n",
       "\n",
       "   Birthdate  Deathdate        ID  \n",
       "0       1663       1731  10013191  \n",
       "1       1621       1694  10011149  \n",
       "2       1674       1751  10007567  \n",
       "3       1656       1659  10003983  \n",
       "4       1626       1697  10011152  \n",
       "5       1630       1713  10008595  \n",
       "6       1630       1691  10010643  \n",
       "7       1621       1688  10003478  \n",
       "8       1630       1664  10000411  \n",
       "9       1649       1723  10002469  "
      ]
     },
     "execution_count": 18,
     "metadata": {},
     "output_type": "execute_result"
    }
   ],
   "source": [
    "data_folder = './data/quakers/'\n",
    "nodes = pd.read_csv(data_folder + 'quakers_nodelist.csv')\n",
    "nodes.head(10)"
   ]
  },
  {
   "cell_type": "code",
   "execution_count": 19,
   "metadata": {},
   "outputs": [
    {
     "name": "stdout",
     "output_type": "stream",
     "text": [
      "There are  119 quakers\n"
     ]
    }
   ],
   "source": [
    "nodes.Gender = nodes.Gender.astype('category')\n",
    "nodes = nodes.rename({'Historical Significance': 'Role'}, axis = 1)\n",
    "print('There are ', len(nodes), 'quakers')"
   ]
  },
  {
   "cell_type": "code",
   "execution_count": 20,
   "metadata": {},
   "outputs": [
    {
     "data": {
      "text/plain": [
       "2"
      ]
     },
     "execution_count": 20,
     "metadata": {},
     "output_type": "execute_result"
    }
   ],
   "source": [
    "nodes['Role'].isna().sum()"
   ]
  },
  {
   "cell_type": "code",
   "execution_count": 21,
   "metadata": {},
   "outputs": [],
   "source": [
    "# some don't have a known 'historical significance' or 'role'\n",
    "nodes['Role'].fillna('Unknown', inplace=True)"
   ]
  },
  {
   "cell_type": "code",
   "execution_count": 22,
   "metadata": {},
   "outputs": [
    {
     "data": {
      "text/plain": [
       "True"
      ]
     },
     "execution_count": 22,
     "metadata": {},
     "output_type": "execute_result"
    }
   ],
   "source": [
    "# check if the names are unique\n",
    "len(nodes['Name'].unique()) == len(nodes)"
   ]
  },
  {
   "cell_type": "code",
   "execution_count": 23,
   "metadata": {},
   "outputs": [
    {
     "data": {
      "text/html": [
       "<div>\n",
       "<style scoped>\n",
       "    .dataframe tbody tr th:only-of-type {\n",
       "        vertical-align: middle;\n",
       "    }\n",
       "\n",
       "    .dataframe tbody tr th {\n",
       "        vertical-align: top;\n",
       "    }\n",
       "\n",
       "    .dataframe thead th {\n",
       "        text-align: right;\n",
       "    }\n",
       "</style>\n",
       "<table border=\"1\" class=\"dataframe\">\n",
       "  <thead>\n",
       "    <tr style=\"text-align: right;\">\n",
       "      <th></th>\n",
       "      <th>Role</th>\n",
       "      <th>Gender</th>\n",
       "      <th>Birthdate</th>\n",
       "      <th>Deathdate</th>\n",
       "      <th>ID</th>\n",
       "      <th>Quaker</th>\n",
       "    </tr>\n",
       "    <tr>\n",
       "      <th>Name</th>\n",
       "      <th></th>\n",
       "      <th></th>\n",
       "      <th></th>\n",
       "      <th></th>\n",
       "      <th></th>\n",
       "      <th></th>\n",
       "    </tr>\n",
       "  </thead>\n",
       "  <tbody>\n",
       "    <tr>\n",
       "      <th>Joseph Wyeth</th>\n",
       "      <td>religious writer</td>\n",
       "      <td>male</td>\n",
       "      <td>1663</td>\n",
       "      <td>1731</td>\n",
       "      <td>10013191</td>\n",
       "      <td>False</td>\n",
       "    </tr>\n",
       "    <tr>\n",
       "      <th>Alexander Skene of Newtyle</th>\n",
       "      <td>local politician and author</td>\n",
       "      <td>male</td>\n",
       "      <td>1621</td>\n",
       "      <td>1694</td>\n",
       "      <td>10011149</td>\n",
       "      <td>False</td>\n",
       "    </tr>\n",
       "    <tr>\n",
       "      <th>James Logan</th>\n",
       "      <td>colonial official and scholar</td>\n",
       "      <td>male</td>\n",
       "      <td>1674</td>\n",
       "      <td>1751</td>\n",
       "      <td>10007567</td>\n",
       "      <td>False</td>\n",
       "    </tr>\n",
       "    <tr>\n",
       "      <th>Dorcas Erbery</th>\n",
       "      <td>Quaker preacher</td>\n",
       "      <td>female</td>\n",
       "      <td>1656</td>\n",
       "      <td>1659</td>\n",
       "      <td>10003983</td>\n",
       "      <td>True</td>\n",
       "    </tr>\n",
       "    <tr>\n",
       "      <th>Lilias Skene</th>\n",
       "      <td>Quaker preacher and poet</td>\n",
       "      <td>male</td>\n",
       "      <td>1626</td>\n",
       "      <td>1697</td>\n",
       "      <td>10011152</td>\n",
       "      <td>True</td>\n",
       "    </tr>\n",
       "  </tbody>\n",
       "</table>\n",
       "</div>"
      ],
      "text/plain": [
       "                                                     Role  Gender  Birthdate  \\\n",
       "Name                                                                           \n",
       "Joseph Wyeth                             religious writer    male       1663   \n",
       "Alexander Skene of Newtyle    local politician and author    male       1621   \n",
       "James Logan                 colonial official and scholar    male       1674   \n",
       "Dorcas Erbery                             Quaker preacher  female       1656   \n",
       "Lilias Skene                     Quaker preacher and poet    male       1626   \n",
       "\n",
       "                            Deathdate        ID  Quaker  \n",
       "Name                                                     \n",
       "Joseph Wyeth                     1731  10013191   False  \n",
       "Alexander Skene of Newtyle       1694  10011149   False  \n",
       "James Logan                      1751  10007567   False  \n",
       "Dorcas Erbery                    1659  10003983    True  \n",
       "Lilias Skene                     1697  10011152    True  "
      ]
     },
     "execution_count": 23,
     "metadata": {},
     "output_type": "execute_result"
    }
   ],
   "source": [
    "# since the names are unique, index based on names\n",
    "nodes.set_index('Name', inplace=True)\n",
    "\n",
    "# let's also add a new attribute based on the role column. Is (s)he a directly involved Quaker or not? \n",
    "nodes['Quaker'] = ['quaker' in role.lower() for role in nodes.Role]\n",
    "nodes.head()"
   ]
  },
  {
   "cell_type": "code",
   "execution_count": 24,
   "metadata": {},
   "outputs": [
    {
     "data": {
      "text/html": [
       "<div>\n",
       "<style scoped>\n",
       "    .dataframe tbody tr th:only-of-type {\n",
       "        vertical-align: middle;\n",
       "    }\n",
       "\n",
       "    .dataframe tbody tr th {\n",
       "        vertical-align: top;\n",
       "    }\n",
       "\n",
       "    .dataframe thead th {\n",
       "        text-align: right;\n",
       "    }\n",
       "</style>\n",
       "<table border=\"1\" class=\"dataframe\">\n",
       "  <thead>\n",
       "    <tr style=\"text-align: right;\">\n",
       "      <th></th>\n",
       "      <th>Source</th>\n",
       "      <th>Target</th>\n",
       "    </tr>\n",
       "  </thead>\n",
       "  <tbody>\n",
       "    <tr>\n",
       "      <th>0</th>\n",
       "      <td>George Keith</td>\n",
       "      <td>Robert Barclay</td>\n",
       "    </tr>\n",
       "    <tr>\n",
       "      <th>1</th>\n",
       "      <td>George Keith</td>\n",
       "      <td>Benjamin Furly</td>\n",
       "    </tr>\n",
       "    <tr>\n",
       "      <th>2</th>\n",
       "      <td>George Keith</td>\n",
       "      <td>Anne Conway Viscountess Conway and Killultagh</td>\n",
       "    </tr>\n",
       "    <tr>\n",
       "      <th>3</th>\n",
       "      <td>George Keith</td>\n",
       "      <td>Franciscus Mercurius van Helmont</td>\n",
       "    </tr>\n",
       "    <tr>\n",
       "      <th>4</th>\n",
       "      <td>George Keith</td>\n",
       "      <td>William Penn</td>\n",
       "    </tr>\n",
       "  </tbody>\n",
       "</table>\n",
       "</div>"
      ],
      "text/plain": [
       "         Source                                         Target\n",
       "0  George Keith                                 Robert Barclay\n",
       "1  George Keith                                 Benjamin Furly\n",
       "2  George Keith  Anne Conway Viscountess Conway and Killultagh\n",
       "3  George Keith               Franciscus Mercurius van Helmont\n",
       "4  George Keith                                   William Penn"
      ]
     },
     "execution_count": 24,
     "metadata": {},
     "output_type": "execute_result"
    }
   ],
   "source": [
    "# let's see which quaker knows whom, this will translate into edges in our graph\n",
    "edges = pd.read_csv(data_folder + 'quakers_edgelist.csv')\n",
    "edges.head()"
   ]
  },
  {
   "cell_type": "code",
   "execution_count": 25,
   "metadata": {},
   "outputs": [
    {
     "name": "stdout",
     "output_type": "stream",
     "text": [
      "There are 174 edges\n"
     ]
    }
   ],
   "source": [
    "print('There are',len(edges), 'edges')"
   ]
  },
  {
   "cell_type": "markdown",
   "metadata": {},
   "source": [
    "### The Quaker network"
   ]
  },
  {
   "cell_type": "markdown",
   "metadata": {},
   "source": [
    "Now we have all the ingredients and more to translate this data into a network: nodes are the quakers and there exists an edge between two quakers if they know each other. Since being acquainted or friends is a symmetric relation, we will build an undirected graph.\n",
    "\n",
    "Another bonus of NetworkX is the smooth integration with panda dataframes, which makes loading the network a one-liner.   \n",
    "*Note: Only if you don't have isolated nodes*"
   ]
  },
  {
   "cell_type": "code",
   "execution_count": 26,
   "metadata": {},
   "outputs": [
    {
     "name": "stdout",
     "output_type": "stream",
     "text": [
      "Name: \n",
      "Type: Graph\n",
      "Number of nodes: 119\n",
      "Number of edges: 174\n",
      "Average degree:   2.9244\n",
      "Graph is not connected\n",
      "Diameter and Avg shortest path length are not defined!\n",
      "Sparsity: 0.0248\n",
      "Global clustering coefficient aka Transitivity: 0.1694\n"
     ]
    }
   ],
   "source": [
    "quakerG =nx.from_pandas_edgelist(edges, 'Source', 'Target', edge_attr=None, create_using= nx.Graph())\n",
    "describe_graph(quakerG)"
   ]
  },
  {
   "cell_type": "code",
   "execution_count": 27,
   "metadata": {},
   "outputs": [],
   "source": [
    "# add node attributes by passing dictionary of type name -> attribute\n",
    "nx.set_node_attributes(quakerG, nodes['Role'].to_dict(), 'Role' )\n",
    "nx.set_node_attributes(quakerG, nodes['Gender'].to_dict(), 'Gender' )\n",
    "nx.set_node_attributes(quakerG, nodes['Birthdate'].to_dict(), 'Birthdate' )\n",
    "nx.set_node_attributes(quakerG, nodes['Deathdate'].to_dict(), 'Deathdate' )\n",
    "nx.set_node_attributes(quakerG, nodes['Quaker'].to_dict(), 'Quaker' )"
   ]
  },
  {
   "cell_type": "code",
   "execution_count": 28,
   "metadata": {},
   "outputs": [
    {
     "data": {
      "text/plain": [
       "{'Role': 'Quaker leader and founder of Pennsylvania',\n",
       " 'Gender': 'male',\n",
       " 'Birthdate': 1644,\n",
       " 'Deathdate': 1718,\n",
       " 'Quaker': True}"
      ]
     },
     "execution_count": 28,
     "metadata": {},
     "output_type": "execute_result"
    }
   ],
   "source": [
    "# You can easily get the attributes of a node\n",
    "quakerG.nodes['William Penn']"
   ]
  },
  {
   "cell_type": "markdown",
   "metadata": {},
   "source": [
    "### How connected is the quaker network ?  "
   ]
  },
  {
   "cell_type": "markdown",
   "metadata": {},
   "source": [
    "To get a feel of the network, we could start by visually inspecting the graph. "
   ]
  },
  {
   "cell_type": "code",
   "execution_count": 31,
   "metadata": {},
   "outputs": [
    {
     "data": {
      "image/png": "[encoded data removed]",
      "text/plain": [
       "<Figure size 432x288 with 1 Axes>"
      ]
     },
     "metadata": {},
     "output_type": "display_data"
    }
   ],
   "source": [
    "visualize_graph(quakerG, False, k=0.05, alpha=0.4)"
   ]
  },
  {
   "cell_type": "markdown",
   "metadata": {},
   "source": [
    "Let's try to make the visualization a bit better..."
   ]
  },
  {
   "cell_type": "code",
   "execution_count": 32,
   "metadata": {},
   "outputs": [
    {
     "data": {
      "image/png": "[encoded data removed]",
      "text/plain": [
       "<Figure size 432x288 with 1 Axes>"
      ]
     },
     "metadata": {},
     "output_type": "display_data"
    }
   ],
   "source": [
    "visualize_graph(quakerG, False, k=0.2, alpha=0.4, node_shape='.')"
   ]
  },
  {
   "cell_type": "markdown",
   "metadata": {},
   "source": [
    "Still not a very pretty visualisation (.. install  [Gephy](https://gephi.org/) for some better-looking plots). However, a few things come across:\n",
    "\n",
    "* The graph is not connected (there are a few isolated communities)\n",
    "* There seem to be a few nodes with many connections (i.e. hubs)\n",
    "\n",
    "That's as far as we can get, let's revert to **numbers and graph properties** for more insights!"
   ]
  },
  {
   "cell_type": "markdown",
   "metadata": {},
   "source": [
    "### Sparsity\n",
    "\"Sparsity\" of a graph with $n$ nodes is defined as follows: \n",
    "\n",
    "$$L = \\frac{|E|}{|E_{max}|},$$ \n",
    "\n",
    "where $E_{max} = \\frac{n \\cdot (n-1)}{2}$"
   ]
  },
  {
   "cell_type": "code",
   "execution_count": 35,
   "metadata": {},
   "outputs": [
    {
     "name": "stdout",
     "output_type": "stream",
     "text": [
      "Network sparsity: 0.0248\n"
     ]
    }
   ],
   "source": [
    "# 174 * (2) / ( 119* 118)\n",
    "print(\"Network sparsity: %.4f\" %nx.density(quakerG))"
   ]
  },
  {
   "cell_type": "markdown",
   "metadata": {},
   "source": [
    "### Connected Components\n",
    "If the graph is not connected, how many \"connected components\" are there ?"
   ]
  },
  {
   "cell_type": "code",
   "execution_count": 36,
   "metadata": {},
   "outputs": [
    {
     "name": "stdout",
     "output_type": "stream",
     "text": [
      "False\n",
      "The graph contains 12 connected components\n"
     ]
    }
   ],
   "source": [
    "print(nx.is_connected(quakerG))\n",
    "comp = list(nx.connected_components(quakerG))\n",
    "print('The graph contains', len(comp), 'connected components')"
   ]
  },
  {
   "cell_type": "code",
   "execution_count": 37,
   "metadata": {},
   "outputs": [
    {
     "name": "stdout",
     "output_type": "stream",
     "text": [
      "The largest component has 96 nodes accounting for 80.67 % of the nodes\n"
     ]
    }
   ],
   "source": [
    "largest_comp = max(comp, key=len)\n",
    "percentage_lcc = len(largest_comp)/quakerG.number_of_nodes() * 100\n",
    "print('The largest component has', len(largest_comp), 'nodes', 'accounting for %.2f'% percentage_lcc, '% of the nodes') "
   ]
  },
  {
   "cell_type": "markdown",
   "metadata": {},
   "source": [
    "From visually inspecting the graph, we already saw that most of the nodes are in the largest component, which is often the case in a graph. That is why we usually call this component as a **giant component**."
   ]
  },
  {
   "cell_type": "markdown",
   "metadata": {},
   "source": [
    "### Diameter and Shortest Paths\n",
    "Suppose I want to find the shortest path between two quakers, given that they are in the same connected component"
   ]
  },
  {
   "cell_type": "code",
   "execution_count": 38,
   "metadata": {},
   "outputs": [
    {
     "name": "stdout",
     "output_type": "stream",
     "text": [
      "Shortest path between Fell and Whitehead: ['Margaret Fell', 'George Fox', 'George Whitehead']\n"
     ]
    }
   ],
   "source": [
    "fell_whitehead_path = nx.shortest_path(quakerG, source=\"Margaret Fell\", target=\"George Whitehead\")\n",
    "print(\"Shortest path between Fell and Whitehead:\", fell_whitehead_path)"
   ]
  },
  {
   "cell_type": "code",
   "execution_count": 39,
   "metadata": {},
   "outputs": [
    {
     "name": "stdout",
     "output_type": "stream",
     "text": [
      "The diameter of the largest connected component is 8\n",
      "The avg shortest path length of the largest connected component is 3.3789473684210525\n"
     ]
    }
   ],
   "source": [
    "# take the largest component and analyse its diameter = longest shortest-path\n",
    "lcc_quakerG = quakerG.subgraph(largest_comp)\n",
    "print(\"The diameter of the largest connected component is\", nx.diameter(lcc_quakerG))\n",
    "print(\"The avg shortest path length of the largest connected component is\", nx.average_shortest_path_length(lcc_quakerG))"
   ]
  },
  {
   "cell_type": "markdown",
   "metadata": {},
   "source": [
    "### A more social look at the network!\n",
    "\n",
    "**Triadic Closure:**   \n",
    "    A *friend* of my *friend* is my *friend*   \n",
    "    OR   \n",
    "    *quaker_1* knows *quaker_2* and *quaker_2* knows *quaker_3*, how likely is that *quaker_1* and *quaker_3* know each other?\n",
    "\n",
    "Employ a **global** measure called **transitivity** (aka global clustering coefficient), or the ratio of all existing triangles (closed triples) over all possible triangles (open and closed triplets)."
   ]
  },
  {
   "cell_type": "code",
   "execution_count": 40,
   "metadata": {},
   "outputs": [
    {
     "name": "stdout",
     "output_type": "stream",
     "text": [
      "0.1694\n"
     ]
    }
   ],
   "source": [
    "print('%.4f' %nx.transitivity(quakerG))"
   ]
  },
  {
   "cell_type": "markdown",
   "metadata": {},
   "source": [
    "Employ a **local** measure called **clustering coefficient**, which quantifies for a node how close its neighbours are to being a clique (complete graph). Measured as the ratio of, the number of edges to the number of all possible edges, among the neighbors of a node."
   ]
  },
  {
   "cell_type": "code",
   "execution_count": 41,
   "metadata": {},
   "outputs": [
    {
     "name": "stdout",
     "output_type": "stream",
     "text": [
      "{'Alexander Parker': 0.06666666666666667, 'John Crook': 0.8333333333333334}\n"
     ]
    }
   ],
   "source": [
    "# Similar measure but for individual nodes called clustering coefficient\n",
    "print(nx.clustering(quakerG, ['Alexander Parker', 'John Crook']))"
   ]
  },
  {
   "cell_type": "code",
   "execution_count": 42,
   "metadata": {},
   "outputs": [],
   "source": [
    "# Lets check by looking at the subgraphs induced by Alex and John\n",
    "subgraph_Alex = quakerG.subgraph(['Alexander Parker']+list(quakerG.neighbors('Alexander Parker')))\n",
    "subgraph_John = quakerG.subgraph(['John Crook']+list(quakerG.neighbors('John Crook')))"
   ]
  },
  {
   "cell_type": "code",
   "execution_count": 43,
   "metadata": {},
   "outputs": [
    {
     "data": {
      "image/png": "[encoded data removed]",
      "text/plain": [
       "<Figure size 432x288 with 1 Axes>"
      ]
     },
     "metadata": {},
     "output_type": "display_data"
    }
   ],
   "source": [
    "nx.draw_spring(subgraph_Alex, with_labels=True)"
   ]
  },
  {
   "cell_type": "code",
   "execution_count": 44,
   "metadata": {},
   "outputs": [
    {
     "data": {
      "image/png": "[encoded data removed]",
      "text/plain": [
       "<Figure size 432x288 with 1 Axes>"
      ]
     },
     "metadata": {},
     "output_type": "display_data"
    }
   ],
   "source": [
    "nx.draw_circular(subgraph_John, with_labels=True)"
   ]
  },
  {
   "cell_type": "markdown",
   "metadata": {},
   "source": [
    "### Which quakers are the most important ?\n",
    "\n",
    "As always, the answer is ... it depends. There are many ways to detect important nodes in a graph, for example based on:\n",
    "\n",
    "* **Degree** (generalized by **Katz**)\n",
    "* **Betweeness centrality**\n",
    "* More ..."
   ]
  },
  {
   "cell_type": "markdown",
   "metadata": {},
   "source": [
    "#### Degree: the more people you know, the more important you are!"
   ]
  },
  {
   "cell_type": "code",
   "execution_count": 45,
   "metadata": {},
   "outputs": [
    {
     "name": "stdout",
     "output_type": "stream",
     "text": [
      "George Fox who is  a founder of the Religious Society of Friends (Quakers) knows 22 people\n",
      "William Penn who is Quaker leader and founder of Pennsylvania knows 18 people\n",
      "James Nayler who is Quaker preacher and writer knows 16 people\n",
      "George Whitehead who is Quaker leader and writer knows 13 people\n",
      "Margaret Fell who is Quaker leader knows 13 people\n"
     ]
    }
   ],
   "source": [
    "degrees = dict(quakerG.degree(quakerG.nodes()))\n",
    "sorted_degree = sorted(degrees.items(), key=itemgetter(1), reverse=True)\n",
    "\n",
    "# And the top 5 most popular quakers are.. \n",
    "for quaker, degree in sorted_degree[:5]:\n",
    "    print(quaker, 'who is', quakerG.nodes[quaker]['Role'], 'knows', degree, 'people')"
   ]
  },
  {
   "cell_type": "markdown",
   "metadata": {},
   "source": [
    "Let's also analyze the *degree distribution*. \n",
    "We can see that most of the people know less than 5 quakers and there are some *leaders that are comparatively very popular*. "
   ]
  },
  {
   "cell_type": "code",
   "execution_count": 48,
   "metadata": {},
   "outputs": [
    {
     "data": {
      "image/png": "[encoded data removed]",
      "text/plain": [
       "<Figure size 432x288 with 1 Axes>"
      ]
     },
     "metadata": {
      "needs_background": "light"
     },
     "output_type": "display_data"
    }
   ],
   "source": [
    "degree_seq = [d[1] for d in sorted_degree]\n",
    "degreeCount = collections.Counter(degree_seq)\n",
    "degreeCount = pd.DataFrame.from_dict( degreeCount, orient='index').reset_index()\n",
    "fig = plt.figure()\n",
    "ax = plt.gca()\n",
    "ax.plot(degreeCount['index'], degreeCount[0], 'o', c='blue', markersize= 4)\n",
    "plt.ylabel('Frequency')\n",
    "plt.xlabel('Degree')\n",
    "plt.title('Degree distribution for the Quaker network');"
   ]
  },
  {
   "cell_type": "code",
   "execution_count": 49,
   "metadata": {},
   "outputs": [
    {
     "data": {
      "image/png": "[encoded data removed]",
      "text/plain": [
       "<Figure size 432x288 with 1 Axes>"
      ]
     },
     "metadata": {
      "needs_background": "light"
     },
     "output_type": "display_data"
    }
   ],
   "source": [
    "# As a bar plot\n",
    "plot_degree_distribution(quakerG)"
   ]
  },
  {
   "cell_type": "markdown",
   "metadata": {},
   "source": [
    "#### What about the Katz Centrality (the generalization over degree centrality)?"
   ]
  },
  {
   "cell_type": "code",
   "execution_count": 50,
   "metadata": {},
   "outputs": [
    {
     "name": "stdout",
     "output_type": "stream",
     "text": [
      "George Fox who is  a founder of the Religious Society of Friends (Quakers) has katz-centrality: 0.342\n",
      "James Nayler who is Quaker preacher and writer has katz-centrality: 0.261\n",
      "William Penn who is Quaker leader and founder of Pennsylvania has katz-centrality: 0.249\n",
      "George Whitehead who is Quaker leader and writer has katz-centrality: 0.216\n",
      "Margaret Fell who is Quaker leader has katz-centrality: 0.215\n"
     ]
    }
   ],
   "source": [
    "degrees = dict(quakerG.degree(quakerG.nodes()))\n",
    "\n",
    "katz = nx.katz_centrality(quakerG)\n",
    "nx.set_node_attributes(quakerG, katz, 'katz')\n",
    "sorted_katz = sorted(katz.items(), key=itemgetter(1), reverse=True)\n",
    "\n",
    "# And the top 5 most popular quakers are.. \n",
    "for quaker, katzc in sorted_katz[:5]:\n",
    "    print(quaker, 'who is', quakerG.nodes[quaker]['Role'], 'has katz-centrality: %.3f' %katzc)"
   ]
  },
  {
   "cell_type": "markdown",
   "metadata": {},
   "source": [
    "Note: this is an undirected graph. If you were to have a **directed** one, use separate metrics for **indegree** and **outdegree**."
   ]
  },
  {
   "cell_type": "markdown",
   "metadata": {},
   "source": [
    "#### Betweeness centrality: the more shortest paths pass through a node, the more important it is!"
   ]
  },
  {
   "cell_type": "code",
   "execution_count": 51,
   "metadata": {},
   "outputs": [
    {
     "name": "stdout",
     "output_type": "stream",
     "text": [
      "William Penn who is Quaker leader and founder of Pennsylvania has betweeness: 0.240\n",
      "George Fox who is  a founder of the Religious Society of Friends (Quakers) has betweeness: 0.237\n",
      "George Whitehead who is Quaker leader and writer has betweeness: 0.126\n",
      "Margaret Fell who is Quaker leader has betweeness: 0.121\n",
      "James Nayler who is Quaker preacher and writer has betweeness: 0.104\n"
     ]
    }
   ],
   "source": [
    "# Compute betweenness centrality\n",
    "betweenness = nx.betweenness_centrality(quakerG)\n",
    "# Assign the computed centrality values as a node-attribute in your network\n",
    "nx.set_node_attributes(quakerG, betweenness, 'betweenness')\n",
    "sorted_betweenness = sorted(betweenness.items(), key=itemgetter(1), reverse=True)\n",
    "\n",
    "for quaker, bw in sorted_betweenness[:5]:\n",
    "    print(quaker, 'who is', quakerG.nodes[quaker]['Role'], 'has betweeness: %.3f' %bw)"
   ]
  },
  {
   "cell_type": "markdown",
   "metadata": {},
   "source": [
    "Let's analyze the betweeness centrality values for all the nodes in the network. As in the case with degree, there are a *few nodes with very high betweeness centrality*, while most of them have a low value."
   ]
  },
  {
   "cell_type": "code",
   "execution_count": 52,
   "metadata": {},
   "outputs": [
    {
     "data": {
      "image/png": "[encoded data removed]",
      "text/plain": [
       "<Figure size 432x288 with 2 Axes>"
      ]
     },
     "metadata": {
      "needs_background": "light"
     },
     "output_type": "display_data"
    }
   ],
   "source": [
    "# similar pattern\n",
    "list_nodes =list(quakerG.nodes())\n",
    "list_nodes.reverse()   # for showing the nodes with high betweeness centrality \n",
    "pos = nx.spring_layout(quakerG)\n",
    "ec = nx.draw_networkx_edges(quakerG, pos, alpha=0.1)\n",
    "nc = nx.draw_networkx_nodes(quakerG, pos, nodelist=list_nodes, node_color=[quakerG.nodes[n][\"betweenness\"] for n in list_nodes], \n",
    "                            alpha=0.8, node_shape = '.')\n",
    "plt.colorbar(nc)\n",
    "plt.axis('off')\n",
    "plt.show()"
   ]
  },
  {
   "cell_type": "markdown",
   "metadata": {},
   "source": [
    "At this point you might be tempted to think the measures are very similar, but let's revisit the original graph (G)"
   ]
  },
  {
   "cell_type": "code",
   "execution_count": 54,
   "metadata": {},
   "outputs": [
    {
     "data": {
      "image/png": "[encoded data removed]",
      "text/plain": [
       "<Figure size 432x288 with 2 Axes>"
      ]
     },
     "metadata": {
      "needs_background": "light"
     },
     "output_type": "display_data"
    }
   ],
   "source": [
    "nx.set_node_attributes(G, nx.betweenness_centrality(G), 'betweenness')\n",
    "pos = nx.spring_layout(G)\n",
    "ec = nx.draw_networkx(G, pos, nodelist=G.nodes(),\n",
    "                         node_color=[G.nodes[n][\"betweenness\"] for n in G.nodes()], \n",
    "                         node_shape = '.', node_size=1200, font_color=\"white\", font_weight=\"bold\")\n",
    "plt.colorbar(nc)\n",
    "plt.axis('off')\n",
    "plt.show()"
   ]
  },
  {
   "cell_type": "markdown",
   "metadata": {},
   "source": [
    "The node with the **lowest degree** is the one with the **highest betweeness centrality**. \n",
    "\n",
    "This concept also translates to edges. In particular, edge betweeness is the number of shortest paths that pass through an edge. This brings us to ..."
   ]
  },
  {
   "cell_type": "markdown",
   "metadata": {},
   "source": [
    "### The quaker communities\n",
    "\n",
    "Community detection is a common class of methods applied to graphs. \n",
    "Two important algorithms:\n",
    "* **Girvan Newman**\n",
    "* **Louvain**"
   ]
  },
  {
   "cell_type": "markdown",
   "metadata": {},
   "source": [
    "#### Girvan Newman\n",
    "**Idea:** Edges possessing high betweeness centrality separate communities. Let's apply this on our toy sample graph (G) to get a better understanding of the idea.\n",
    "\n",
    "The algorithm starts with the entire graph and then it iteratively removes the edge with the highest betweeness."
   ]
  },
  {
   "cell_type": "code",
   "execution_count": 56,
   "metadata": {},
   "outputs": [
    {
     "name": "stdout",
     "output_type": "stream",
     "text": [
      "Iteration 1\n",
      "([1, 2, 3, 4], [5, 6, 7, 8])\n",
      "Iteration 2\n",
      "([1, 2, 3], [4], [5, 6, 7, 8])\n",
      "Iteration 3\n",
      "([1, 2, 3], [4], [5], [6, 7, 8])\n",
      "Iteration 4\n",
      "([1], [2, 3], [4], [5], [6, 7, 8])\n"
     ]
    }
   ],
   "source": [
    "comp = girvan_newman(G)\n",
    "it = 0\n",
    "for communities in itertools.islice(comp, 4):\n",
    "    it +=1\n",
    "    print('Iteration', it)\n",
    "    print(tuple(sorted(c) for c in communities)) "
   ]
  },
  {
   "cell_type": "code",
   "execution_count": 57,
   "metadata": {},
   "outputs": [
    {
     "data": {
      "image/png": "[encoded data removed]",
      "text/plain": [
       "<Figure size 432x288 with 1 Axes>"
      ]
     },
     "metadata": {},
     "output_type": "display_data"
    }
   ],
   "source": [
    "visualize_graph(G,alpha=0.7)"
   ]
  },
  {
   "cell_type": "markdown",
   "metadata": {},
   "source": [
    "#### The [Louvain method](https://en.wikipedia.org/wiki/Louvain_Modularity)\n",
    "\n",
    "Another clustering algorithm and has become a standard algorithm in the data scientist toolbox.   \n",
    "**Idea:** It proceeds the other way around: initially every node is considered as a community. The communities are traversed, and for each community it is tested whether by joining it to a neighboring community, we can obtain a better clustering. "
   ]
  },
  {
   "cell_type": "code",
   "execution_count": 58,
   "metadata": {},
   "outputs": [],
   "source": [
    "partition = community_louvain.best_partition(quakerG)\n",
    "# add it as an attribute to the nodes\n",
    "for n in quakerG.nodes:\n",
    "    quakerG.nodes[n][\"louvain\"] = partition[n]"
   ]
  },
  {
   "cell_type": "code",
   "execution_count": 59,
   "metadata": {},
   "outputs": [
    {
     "data": {
      "image/png": "[encoded data removed]",
      "text/plain": [
       "<Figure size 432x288 with 1 Axes>"
      ]
     },
     "metadata": {},
     "output_type": "display_data"
    }
   ],
   "source": [
    "# plot it out\n",
    "pos = nx.spring_layout(quakerG,k=0.2)\n",
    "ec = nx.draw_networkx_edges(quakerG, pos, alpha=0.2)\n",
    "nc = nx.draw_networkx_nodes(quakerG, pos, nodelist=quakerG.nodes(), node_color=[quakerG.nodes[n][\"louvain\"] for n in quakerG.nodes], \n",
    "                            node_size=100, cmap=plt.cm.jet)\n",
    "plt.axis('off')\n",
    "plt.show()"
   ]
  },
  {
   "cell_type": "markdown",
   "metadata": {},
   "source": [
    "Let's get a closer look at a few clusters and show their member's role and period in which they lived"
   ]
  },
  {
   "cell_type": "code",
   "execution_count": 60,
   "metadata": {},
   "outputs": [
    {
     "name": "stdout",
     "output_type": "stream",
     "text": [
      "Dorcas Erbery who is Quaker preacher and died in  1659\n",
      "James Nayler who is Quaker preacher and writer and died in  1660\n",
      "Francis Howgill who is Quaker activist and died in  1669\n",
      "Martha Simmonds who is Quaker and author and died in  1665\n",
      "Richard Farnworth who is Quaker preacher and writer and died in  1666\n",
      "William Crouch who is Quaker leader and writer and died in  1711\n",
      "Hannah Stranger who is Quaker missionary and died in  1671\n",
      "Gervase Benson who is Quaker leader and died in  1679\n",
      "Robert Rich who is Quaker adherent and sectary and died in  1679\n",
      "Anthony Pearson who is Quaker administrator and died in  1666\n",
      "William Tomlinson who is religious writer and died in  1696\n",
      "Richard Hubberthorne who is Quaker activist and died in  1662\n",
      "Thomas Aldam who is Quaker preacher and writer and died in  1660\n"
     ]
    }
   ],
   "source": [
    "cluster_James = partition['James Nayler']\n",
    "# Take all the nodes that belong to James' cluster\n",
    "members_c = [q for q in quakerG.nodes if partition[q] == cluster_James]\n",
    "# get info about these quakers\n",
    "for quaker in members_c:\n",
    "    print(quaker, 'who is', quakerG.nodes[quaker]['Role'], 'and died in ',quakerG.nodes[quaker]['Deathdate'])"
   ]
  },
  {
   "cell_type": "code",
   "execution_count": 61,
   "metadata": {},
   "outputs": [
    {
     "name": "stdout",
     "output_type": "stream",
     "text": [
      "Lydia Lancaster who is Quaker minister and died in  1761\n",
      "Grace Chamber who is Quaker minister and died in  1762\n"
     ]
    }
   ],
   "source": [
    "cluster_Lydia = partition['Lydia Lancaster']\n",
    "# Take all the nodes that belong to Lydia's cluster\n",
    "members_c = [q for q in quakerG.nodes if partition[q] == cluster_Lydia]\n",
    "# get info about these quakers\n",
    "for quaker in members_c:\n",
    "    print(quaker, 'who is', quakerG.nodes[quaker]['Role'], 'and died in ',quakerG.nodes[quaker]['Deathdate'])"
   ]
  },
  {
   "cell_type": "markdown",
   "metadata": {},
   "source": [
    "### Homophily in quakers \n",
    "How likely is it that two quakers who have the same attribute are linked?\n",
    "\n",
    "Try to measure the similarity of connections in the graph with respect to a given attribute.   \n",
    "*Intuition: Like correlation, but translated to graphs.*"
   ]
  },
  {
   "cell_type": "code",
   "execution_count": 62,
   "metadata": {},
   "outputs": [
    {
     "data": {
      "text/plain": [
       "0.1882377889305155"
      ]
     },
     "execution_count": 62,
     "metadata": {},
     "output_type": "execute_result"
    }
   ],
   "source": [
    "# for categorical attributes\n",
    "nx.attribute_assortativity_coefficient(quakerG, 'Gender')"
   ]
  },
  {
   "cell_type": "code",
   "execution_count": 63,
   "metadata": {},
   "outputs": [
    {
     "data": {
      "text/plain": [
       "Gender\n",
       "female    22\n",
       "male      97\n",
       "dtype: int64"
      ]
     },
     "execution_count": 63,
     "metadata": {},
     "output_type": "execute_result"
    }
   ],
   "source": [
    "nodes.groupby('Gender').size()"
   ]
  },
  {
   "cell_type": "markdown",
   "metadata": {},
   "source": [
    "There is no notion of *gender homophily* in this network, which makes sense due to the following:\n",
    "* Couples\n",
    "* Gender imbalance"
   ]
  },
  {
   "cell_type": "markdown",
   "metadata": {},
   "source": [
    "However, there exists **age homophily**: quakers that died in the same period are more likely to be linked"
   ]
  },
  {
   "cell_type": "code",
   "execution_count": 64,
   "metadata": {},
   "outputs": [
    {
     "data": {
      "text/plain": [
       "0.5841284189313894"
      ]
     },
     "execution_count": 64,
     "metadata": {},
     "output_type": "execute_result"
    }
   ],
   "source": [
    "# for numerical attributes, values must be integers\n",
    "nx.numeric_assortativity_coefficient(quakerG, 'Deathdate')"
   ]
  },
  {
   "cell_type": "markdown",
   "metadata": {},
   "source": [
    "### Few Exercises\n",
    "1. Visually determine the diameter of the small graph we built at the beginning (G) and then check you got it right.\n",
    "2. Experiment with the Girvan Newman algorithm on the Quaker (quakerG) network.\n",
    "3. Compute role homophily in the Quaker network.   \n",
    "*Hint: You can either do it based on the given roles you have or develop a more coarse categorisation of roles and repeat your analysis after.*"
   ]
  },
  {
   "cell_type": "markdown",
   "metadata": {},
   "source": [
    "### Take it further \n",
    "Course at Stanford taught by Jure Leskovec: http://web.stanford.edu/class/cs224w/\n",
    "\n",
    "(Better) alternative to NetworkX, see igraph: http://igraph.org/python/\n",
    "\n",
    "For larger graph analysis:\n",
    "\n",
    "* Apache GraphX: https://spark.apache.org/graphx/\n",
    "* Apache Giraph: http://giraph.apache.org\n",
    "* Webgraph: http://webgraph.di.unimi.it/\n",
    "* SNAP: http://snap.stanford.edu/snap/\n",
    "* Graph tool: https://graph-tool.skewed.de\n",
    "* Network kit: https://networkit.iti.kit.edu/api/structures.html\n",
    "* Pajek: http://mrvar.fdv.uni-lj.si/pajek/\n",
    "* Network Workbench: http://nwb.cns.iu.edu"
   ]
  },
  {
   "cell_type": "code",
   "execution_count": null,
   "metadata": {},
   "outputs": [],
   "source": []
  }
 ],
 "metadata": {
  "kernelspec": {
   "display_name": "Python 3",
   "language": "python",
   "name": "python3"
  },
  "language_info": {
   "codemirror_mode": {
    "name": "ipython",
    "version": 3
   },
   "file_extension": ".py",
   "mimetype": "text/x-python",
   "name": "python",
   "nbconvert_exporter": "python",
   "pygments_lexer": "ipython3",
   "version": "3.8.5"
  }
 },
 "nbformat": 4,
 "nbformat_minor": 4
}
