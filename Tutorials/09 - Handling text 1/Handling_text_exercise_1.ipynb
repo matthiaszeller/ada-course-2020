{
 "cells": [
  {
   "cell_type": "markdown",
   "metadata": {},
   "source": [
    "# Handling text exercise 1"
   ]
  },
  {
   "cell_type": "markdown",
   "metadata": {},
   "source": [
    "## Welcome! This exercise consists of:\n",
    "\n",
    "## Part 1: Hands on tutorial\n",
    "1. Implementing the natural language processing pipeline\n",
    "2. Solving four typical language processing tasks:\n",
    "   * Sentiment analysis\n",
    "   * Document classification\n",
    "   * Topic detection\n",
    "   * Semantic analysis\n",
    "\n",
    "\n",
    "### We will be working with four books in plain text:\n",
    "1. Moby-Dick, by Herman Melville\n",
    "2. Frankenstein; or, The Modern Prometheus, by Mary Shelley\n",
    "3. Pride and Prejudice, by Jane Austen\n",
    "4. Dracula, Bram Stoker\n",
    "\n",
    "#### To run this notebook, you need to install the following libraries:\n",
    "\n",
    "conda install nltk gensim spacy <br>\n",
    "pip install pyLDAvis  <br>\n",
    "pip install vaderSentiment  <br>\n",
    "pip install empath <br>\n",
    "python -m spacy download en  <br>\n",
    "python -m nltk.downloader punkt <br>\n",
    "python -m nltk.downloader all-corpora <br>\n",
    "\n",
    "## Part 2: Handling text comprehension questions\n",
    "- You can test your understanding of important NLP concepts. Solutions will be released next week."
   ]
  },
  {
   "cell_type": "markdown",
   "metadata": {},
   "source": [
    "## Part 1"
   ]
  },
  {
   "cell_type": "code",
   "execution_count": 1,
   "metadata": {},
   "outputs": [],
   "source": [
    "%load_ext autoreload\n",
    "%autoreload 2\n",
    "\n",
    "import warnings; warnings.simplefilter('ignore')\n",
    "import os, codecs, string, random\n",
    "import numpy as np\n",
    "from numpy.random import seed as random_seed\n",
    "from numpy.random import shuffle as random_shuffle\n",
    "import matplotlib.pyplot as plt\n",
    "%matplotlib inline  \n",
    "\n",
    "seed = 42\n",
    "random.seed(seed)\n",
    "np.random.seed(seed)\n",
    "\n",
    "#NLP libraries\n",
    "import spacy, nltk, gensim, sklearn"
   ]
  },
  {
   "cell_type": "code",
   "execution_count": 2,
   "metadata": {},
   "outputs": [],
   "source": [
    "import pyLDAvis.gensim\n",
    "\n",
    "#Vader\n",
    "import vaderSentiment\n",
    "from vaderSentiment.vaderSentiment import SentimentIntensityAnalyzer\n",
    "\n",
    "#Scikit imports\n",
    "from sklearn.feature_extraction.text import CountVectorizer\n",
    "from sklearn.model_selection import train_test_split\n",
    "from sklearn.model_selection import cross_val_score\n",
    "from sklearn.linear_model import LogisticRegression\n",
    "from sklearn import preprocessing\n",
    "from sklearn.preprocessing import StandardScaler\n",
    "from sklearn.utils import shuffle\n",
    "\n",
    "#The data\n",
    "corpus_root = 'books/'"
   ]
  },
  {
   "cell_type": "markdown",
   "metadata": {},
   "source": [
    "#### In this tutorial we will be working with text in English. The same principles apply, but the methods cannot be applied directly to the text in unknown or other languages. We will be working mainly with the Spacy library."
   ]
  },
  {
   "cell_type": "markdown",
   "metadata": {},
   "source": [
    "Initialize the Spacy analyzer in English"
   ]
  },
  {
   "cell_type": "code",
   "execution_count": 4,
   "metadata": {},
   "outputs": [],
   "source": [
    "nlp = spacy.load('en')"
   ]
  },
  {
   "cell_type": "markdown",
   "metadata": {},
   "source": [
    "Load the books"
   ]
  },
  {
   "cell_type": "code",
   "execution_count": 5,
   "metadata": {},
   "outputs": [
    {
     "name": "stdout",
     "output_type": "stream",
     "text": [
      "DRACULA.txt\n",
      "Frankenstein.txt\n",
      "Moby_Dick.txt\n",
      "PRIDE_AND_PREJUDICE.txt\n"
     ]
    }
   ],
   "source": [
    "books = list()\n",
    "\n",
    "for book_file in os.listdir(corpus_root):\n",
    "    if \".txt\" in book_file:\n",
    "        print(book_file)\n",
    "        with codecs.open(os.path.join(corpus_root,book_file),encoding=\"utf8\") as f:\n",
    "            books.append(f.read())"
   ]
  },
  {
   "cell_type": "markdown",
   "metadata": {},
   "source": [
    "Print the beginning of Pride and Prejudice"
   ]
  },
  {
   "cell_type": "code",
   "execution_count": 6,
   "metadata": {},
   "outputs": [
    {
     "name": "stdout",
     "output_type": "stream",
     "text": [
      "PRIDE AND PREJUDICE\n",
      "\n",
      "By Jane Austen\n",
      "\n",
      "\n",
      "\n",
      "Chapter 1\n",
      "\n",
      "\n",
      "It is a truth universally acknowledged, that a single man in possession\n",
      "of a good fortune, must be in want of a wife.\n",
      "\n",
      "However little known the feelings or views of such a man may be on his\n",
      "first entering a neighbourhood, this truth is so well fixed in the minds\n",
      "of the surrounding families, that he is considered the rightful property\n",
      "of some one or other of their daughters.\n",
      "\n",
      "“My dear Mr. Bennet,” said his lady to him one day, “have you heard that\n",
      "Netherfield Park is let at last?”\n",
      "\n",
      "Mr. Bennet replied that he had not.\n",
      "\n",
      "“But it is,” returned she;\n"
     ]
    }
   ],
   "source": [
    "print(books[3][0:600])"
   ]
  },
  {
   "cell_type": "markdown",
   "metadata": {},
   "source": [
    "#### Let's remove the new lines"
   ]
  },
  {
   "cell_type": "code",
   "execution_count": 7,
   "metadata": {},
   "outputs": [],
   "source": [
    "books = [\" \".join(b.split()) for b in books]"
   ]
  },
  {
   "cell_type": "code",
   "execution_count": 8,
   "metadata": {},
   "outputs": [
    {
     "name": "stdout",
     "output_type": "stream",
     "text": [
      "PRIDE AND PREJUDICE By Jane Austen Chapter 1 It is a truth universally acknowledged, that a single man in possession of a good fortune, must be in want of a wife. However little known the feelings or views of such a man may be on his first entering a neighbourhood, this truth is so well fixed in the minds of the surrounding families, that he is considered the rightful property of some one or other of their daughters. “My dear Mr. Bennet,” said his lady to him one day, “have you heard that Netherfield Park is let at last?” Mr. Bennet replied that he had not. “But it is,” returned she; “for Mrs.\n"
     ]
    }
   ],
   "source": [
    "print(books[3][0:600])"
   ]
  },
  {
   "cell_type": "markdown",
   "metadata": {},
   "source": [
    "### Load Frankenstein"
   ]
  },
  {
   "cell_type": "code",
   "execution_count": 9,
   "metadata": {},
   "outputs": [],
   "source": [
    "#index all books\n",
    "book = books[1]\n",
    "\n",
    "#put in raw text, get a Spacy object\n",
    "doc = nlp(book)"
   ]
  },
  {
   "cell_type": "markdown",
   "metadata": {},
   "source": [
    "## Let's create our own NLP pipeline with Spacy!"
   ]
  },
  {
   "cell_type": "markdown",
   "metadata": {},
   "source": [
    "### Step 1: Sentence splitting\n",
    "\n",
    "#### May sound trivial, but it's not! (e.g., U.K. or Yahoo!) Spacy uses a statistical model to generate accurate predictions. This works well out of the box for general-purpose text or web text. For social media use dedicated libraries."
   ]
  },
  {
   "cell_type": "code",
   "execution_count": 10,
   "metadata": {},
   "outputs": [
    {
     "name": "stdout",
     "output_type": "stream",
     "text": [
      "Sentence 1: Frankenstein, or the Modern Prometheus by Mary Wollstonecraft (Godwin) Shelley Letter 1 St. Petersburgh, Dec. 11th, 17-- TO Mrs. Saville, England \n",
      "\n",
      "Sentence 2: You will rejoice to hear that no disaster has accompanied the commencement of an enterprise which you have regarded with such evil forebodings. \n",
      "\n",
      "Sentence 3: I arrived here yesterday, and my first task is to assure my dear sister of my welfare and increasing confidence in the success of my undertaking. \n",
      "\n"
     ]
    }
   ],
   "source": [
    "sentences = [sent for sent in doc.sents]\n",
    "print('Sentence 1:',sentences[0],'\\n')\n",
    "print('Sentence 2:',sentences[1],'\\n')\n",
    "print('Sentence 3:',sentences[2],'\\n')"
   ]
  },
  {
   "cell_type": "markdown",
   "metadata": {},
   "source": [
    "### Step 2: Tokenization\n",
    "\n",
    "#### The task of splitting a text into meaningful segments called tokens. We segment the sentence into words, punctuation, etc. This is done by first splitting on whitespace characters and them applying rules specific to each language. For example, \"don't\" does not contain whitespace, but should be split into two tokens, \"do\" and \"n't\", while \"U.K.\" should always remain one token and \"but,\" shouldn't."
   ]
  },
  {
   "cell_type": "markdown",
   "metadata": {},
   "source": [
    "### We will analyze the methods on an example sentence first"
   ]
  },
  {
   "cell_type": "code",
   "execution_count": 11,
   "metadata": {},
   "outputs": [
    {
     "name": "stdout",
     "output_type": "stream",
     "text": [
      "I am already far north of London, and as I walk in the streets of Petersburgh, I feel a cold northern breeze play upon my cheeks, which braces my nerves and fills me with delight. \n",
      "\n",
      "['I', 'am', 'already', 'far', 'north', 'of', 'London', ',', 'and', 'as', 'I', 'walk', 'in', 'the', 'streets', 'of', 'Petersburgh', ',', 'I', 'feel', 'a', 'cold', 'northern', 'breeze', 'play', 'upon', 'my', 'cheeks', ',', 'which', 'braces', 'my', 'nerves', 'and', 'fills', 'me', 'with', 'delight', '.']\n"
     ]
    }
   ],
   "source": [
    "example = 'I am already far north of London, and as I walk in the streets of Petersburgh, I feel a cold northern breeze play upon my cheeks, which braces my nerves and fills me with delight.'\n",
    "\n",
    "doc = nlp(example)\n",
    "\n",
    "#strings are encoded to hashes\n",
    "tokens = [token.text for token in doc]\n",
    "\n",
    "print(example,'\\n')\n",
    "print(tokens)"
   ]
  },
  {
   "cell_type": "markdown",
   "metadata": {},
   "source": [
    "### Step 3: Part of speech tagging\n",
    "\n",
    "#### The model makes a prediction of which tag or label most likely applies in this context. For example, a word following \"the\" in English is most likely a noun."
   ]
  },
  {
   "cell_type": "code",
   "execution_count": 12,
   "metadata": {},
   "outputs": [
    {
     "name": "stdout",
     "output_type": "stream",
     "text": [
      "I am already far north of London, and as I walk in the streets of Petersburgh, I feel a cold northern breeze play upon my cheeks, which braces my nerves and fills me with delight. \n",
      "\n",
      "[('I', 'PRON'), ('am', 'AUX'), ('already', 'ADV'), ('far', 'ADV'), ('north', 'ADV'), ('of', 'ADP'), ('London', 'PROPN'), (',', 'PUNCT'), ('and', 'CCONJ'), ('as', 'SCONJ'), ('I', 'PRON'), ('walk', 'VERB'), ('in', 'ADP'), ('the', 'DET'), ('streets', 'NOUN'), ('of', 'ADP'), ('Petersburgh', 'PROPN'), (',', 'PUNCT'), ('I', 'PRON'), ('feel', 'VERB'), ('a', 'DET'), ('cold', 'ADJ'), ('northern', 'ADJ'), ('breeze', 'NOUN'), ('play', 'NOUN'), ('upon', 'SCONJ'), ('my', 'DET'), ('cheeks', 'NOUN'), (',', 'PUNCT'), ('which', 'DET'), ('braces', 'VERB'), ('my', 'DET'), ('nerves', 'NOUN'), ('and', 'CCONJ'), ('fills', 'VERB'), ('me', 'PRON'), ('with', 'ADP'), ('delight', 'NOUN'), ('.', 'PUNCT')]\n"
     ]
    }
   ],
   "source": [
    "pos_tagged = [(token.text, token.pos_) for token in doc]\n",
    "\n",
    "print(example,'\\n')\n",
    "print(pos_tagged)"
   ]
  },
  {
   "cell_type": "code",
   "execution_count": 13,
   "metadata": {},
   "outputs": [
    {
     "name": "stdout",
     "output_type": "stream",
     "text": [
      "coordinating conjunction\n",
      "adposition\n",
      "determiner\n"
     ]
    }
   ],
   "source": [
    "print(spacy.explain('CCONJ'))\n",
    "print(spacy.explain('ADP'))\n",
    "print(spacy.explain('DET'))"
   ]
  },
  {
   "cell_type": "markdown",
   "metadata": {},
   "source": [
    "### When unsure, see here for more details: http://universaldependencies.org/u/pos/all.html"
   ]
  },
  {
   "cell_type": "markdown",
   "metadata": {},
   "source": [
    "#### More detailed annotation:"
   ]
  },
  {
   "cell_type": "code",
   "execution_count": 14,
   "metadata": {},
   "outputs": [
    {
     "name": "stdout",
     "output_type": "stream",
     "text": [
      "[('I', 'PRP'), ('am', 'VBP'), ('already', 'RB'), ('far', 'RB'), ('north', 'RB'), ('of', 'IN'), ('London', 'NNP'), (',', ','), ('and', 'CC'), ('as', 'IN'), ('I', 'PRP'), ('walk', 'VBP'), ('in', 'IN'), ('the', 'DT'), ('streets', 'NNS'), ('of', 'IN'), ('Petersburgh', 'NNP'), (',', ','), ('I', 'PRP'), ('feel', 'VBP'), ('a', 'DT'), ('cold', 'JJ'), ('northern', 'JJ'), ('breeze', 'NN'), ('play', 'NN'), ('upon', 'IN'), ('my', 'PRP$'), ('cheeks', 'NNS'), (',', ','), ('which', 'WDT'), ('braces', 'VBZ'), ('my', 'PRP$'), ('nerves', 'NNS'), ('and', 'CC'), ('fills', 'VBZ'), ('me', 'PRP'), ('with', 'IN'), ('delight', 'NN'), ('.', '.')]\n"
     ]
    }
   ],
   "source": [
    "pos_tagged = [(token.text, token.tag_) for token in doc]\n",
    "\n",
    "print(pos_tagged)"
   ]
  },
  {
   "cell_type": "code",
   "execution_count": 15,
   "metadata": {},
   "outputs": [
    {
     "name": "stdout",
     "output_type": "stream",
     "text": [
      "pronoun, personal\n",
      "verb, non-3rd person singular present\n"
     ]
    }
   ],
   "source": [
    "print(spacy.explain('PRP'))\n",
    "print(spacy.explain('VBP'))"
   ]
  },
  {
   "cell_type": "markdown",
   "metadata": {},
   "source": [
    "### Step 4: Named entity recognition\n",
    "\n",
    "#### For example, a person, a country, a product or a book title. Spacy can recognise various types of named entities in a document. This doesn't always work perfectly and might need some tuning later, depending on your use case.\n",
    "\n",
    "Built in entity types: <br>\n",
    "\n",
    "PERSON  People, including fictional.  <br>\n",
    "NORP\tNationalities or religious or political groups. <br>\n",
    "FAC\tBuildings, airports, highways, bridges, etc. <br>\n",
    "ORG\tCompanies, agencies, institutions, etc. <br>\n",
    "GPE\tCountries, cities, states. <br>\n",
    "LOC\tNon-GPE locations, mountain ranges, bodies of water. <br>\n",
    "PRODUCT\tObjects, vehicles, foods, etc. (Not services.) <br>\n",
    "EVENT\tNamed hurricanes, battles, wars, sports events, etc. <br>\n",
    "WORK_OF_ART\tTitles of books, songs, etc. <br>\n",
    "LAW\tNamed documents made into laws. <br>\n",
    "LANGUAGE\tAny named language. <br>\n",
    "DATE\tAbsolute or relative dates or periods. <br>\n",
    "TIME\tTimes smaller than a day. <br>\n",
    "PERCENT\tPercentage, including \"%\". <br>\n",
    "MONEY\tMonetary values, including unit. <br>\n",
    "QUANTITY\tMeasurements, as of weight or distance. <br>\n",
    "ORDINAL\t\"first\", \"second\", etc. <br>\n",
    "CARDINAL\tNumerals that do not fall under another type. <br>"
   ]
  },
  {
   "cell_type": "code",
   "execution_count": 16,
   "metadata": {},
   "outputs": [
    {
     "name": "stdout",
     "output_type": "stream",
     "text": [
      "I am already far north of London, and as I walk in the streets of Petersburgh, I feel a cold northern breeze play upon my cheeks, which braces my nerves and fills me with delight. \n",
      "\n",
      "London GPE\n",
      "Petersburgh GPE\n"
     ]
    }
   ],
   "source": [
    "print(example,'\\n')\n",
    "for ent in doc.ents:\n",
    "    print(ent.text, ent.label_)"
   ]
  },
  {
   "cell_type": "markdown",
   "metadata": {},
   "source": [
    "### Step 5: Removing stop words"
   ]
  },
  {
   "cell_type": "markdown",
   "metadata": {},
   "source": [
    "Let's check out all the stopwords:"
   ]
  },
  {
   "cell_type": "code",
   "execution_count": 17,
   "metadata": {},
   "outputs": [
    {
     "name": "stdout",
     "output_type": "stream",
     "text": [
      "Number of stop words: 326\n",
      "First ten stop words: ['her', 'whatever', '’re', 'much', 'an', 'because', 'again', 'namely', 'are', 'most']\n"
     ]
    }
   ],
   "source": [
    "spacy_stopwords = spacy.lang.en.stop_words.STOP_WORDS\n",
    "print('Number of stop words: %d' % len(spacy_stopwords))\n",
    "print('First ten stop words:',list(spacy_stopwords)[:10])"
   ]
  },
  {
   "cell_type": "markdown",
   "metadata": {},
   "source": [
    "Detecting stopwords in the example:"
   ]
  },
  {
   "cell_type": "code",
   "execution_count": 18,
   "metadata": {},
   "outputs": [
    {
     "name": "stdout",
     "output_type": "stream",
     "text": [
      "I am already far north of London, and as I walk in the streets of Petersburgh, I feel a cold northern breeze play upon my cheeks, which braces my nerves and fills me with delight. \n",
      "\n",
      "['I', 'am', 'already', 'of', 'and', 'as', 'I', 'in', 'the', 'of', 'I', 'a', 'upon', 'my', 'which', 'my', 'and', 'me', 'with']\n"
     ]
    }
   ],
   "source": [
    "print(example,'\\n')\n",
    "\n",
    "stop_words = [token.text for token in doc if token.is_stop]\n",
    "\n",
    "print(stop_words)"
   ]
  },
  {
   "cell_type": "markdown",
   "metadata": {},
   "source": [
    "#### Sometimes it's useful to define a custom list of stopwords. Other solutions: https://www.ranks.nl/stopwords \n"
   ]
  },
  {
   "cell_type": "markdown",
   "metadata": {},
   "source": [
    "### Step 6: Lemmatization\n",
    "\n",
    "#### A rule-based deterministic lemmatizer maps the surface form of a token to a lemma."
   ]
  },
  {
   "cell_type": "code",
   "execution_count": 19,
   "metadata": {},
   "outputs": [
    {
     "name": "stdout",
     "output_type": "stream",
     "text": [
      "I am already far north of London, and as I walk in the streets of Petersburgh, I feel a cold northern breeze play upon my cheeks, which braces my nerves and fills me with delight. \n",
      "\n",
      "I ---> -PRON-\n",
      "am ---> be\n",
      "I ---> -PRON-\n",
      "streets ---> street\n",
      "I ---> -PRON-\n",
      "my ---> -PRON-\n",
      "cheeks ---> cheek\n",
      "braces ---> brace\n",
      "my ---> -PRON-\n",
      "nerves ---> nerve\n",
      "fills ---> fill\n",
      "me ---> -PRON-\n"
     ]
    }
   ],
   "source": [
    "print(example,'\\n')\n",
    "for token in doc:\n",
    "    if token.text != token.lemma_:\n",
    "        print(token.text,'--->',token.lemma_)"
   ]
  },
  {
   "cell_type": "markdown",
   "metadata": {},
   "source": [
    "### Step 7: Chunking (shallow parsing)\n",
    "\n",
    "#### Noun chunks are \"base noun phrases\" – flat phrases that have a noun as their head -- a noun plus the words describing the noun – for example, \"the lavish green grass\" or \"the world’s largest tech fund\". "
   ]
  },
  {
   "cell_type": "code",
   "execution_count": 20,
   "metadata": {},
   "outputs": [
    {
     "name": "stdout",
     "output_type": "stream",
     "text": [
      "I am already far north of London, and as I walk in the streets of Petersburgh, I feel a cold northern breeze play upon my cheeks, which braces my nerves and fills me with delight. \n",
      "\n",
      "I\n",
      "London\n",
      "I\n",
      "the streets\n",
      "Petersburgh\n",
      "I\n",
      "a cold northern breeze\n",
      "my cheeks\n",
      "my nerves\n",
      "me\n",
      "delight\n"
     ]
    }
   ],
   "source": [
    "print(example,'\\n')\n",
    "\n",
    "for chunk in doc.noun_chunks:\n",
    "    print(chunk.text)"
   ]
  },
  {
   "cell_type": "markdown",
   "metadata": {},
   "source": [
    "### Step 8: Dependancy parsing\n",
    "\n",
    "The terms head and child describe the words connected by an arc in the dependency tree. The type of syntactic relation that connects the child to the head can be obtain through .dep_."
   ]
  },
  {
   "cell_type": "code",
   "execution_count": 21,
   "metadata": {},
   "outputs": [
    {
     "name": "stdout",
     "output_type": "stream",
     "text": [
      "I am already far north of London, and as I walk in the streets of Petersburgh, I feel a cold northern breeze play upon my cheeks, which braces my nerves and fills me with delight. \n",
      "\n",
      "Token: I Head: am Children: []\n",
      "Token: am Head: am Children: [I, already, north, ,, and, feel]\n",
      "Token: already Head: am Children: []\n",
      "Token: far Head: north Children: []\n",
      "Token: north Head: am Children: [far, of]\n",
      "Token: of Head: north Children: [London]\n",
      "Token: London Head: of Children: []\n",
      "Token: , Head: am Children: []\n",
      "Token: and Head: am Children: []\n",
      "Token: as Head: walk Children: []\n",
      "Token: I Head: walk Children: []\n",
      "Token: walk Head: feel Children: [as, I, in]\n",
      "Token: in Head: walk Children: [streets]\n",
      "Token: the Head: streets Children: []\n",
      "Token: streets Head: in Children: [the, of]\n",
      "Token: of Head: streets Children: [Petersburgh]\n",
      "Token: Petersburgh Head: of Children: []\n",
      "Token: , Head: feel Children: []\n",
      "Token: I Head: feel Children: []\n",
      "Token: feel Head: am Children: [walk, ,, I, play, .]\n",
      "Token: a Head: breeze Children: []\n",
      "Token: cold Head: breeze Children: []\n",
      "Token: northern Head: breeze Children: []\n",
      "Token: breeze Head: play Children: [a, cold, northern]\n",
      "Token: play Head: feel Children: [breeze, upon]\n",
      "Token: upon Head: play Children: [cheeks]\n",
      "Token: my Head: cheeks Children: []\n",
      "Token: cheeks Head: upon Children: [my, ,, braces]\n",
      "Token: , Head: cheeks Children: []\n",
      "Token: which Head: braces Children: []\n",
      "Token: braces Head: cheeks Children: [which, nerves, and, fills]\n",
      "Token: my Head: nerves Children: []\n",
      "Token: nerves Head: braces Children: [my]\n",
      "Token: and Head: braces Children: []\n",
      "Token: fills Head: braces Children: [me, with]\n",
      "Token: me Head: fills Children: []\n",
      "Token: with Head: fills Children: [delight]\n",
      "Token: delight Head: with Children: []\n",
      "Token: . Head: feel Children: []\n"
     ]
    }
   ],
   "source": [
    "print(example,'\\n')\n",
    "\n",
    "for token in doc:\n",
    "    print('Token:',token.text,'Head:',token.head.text, 'Children:',[child for child in token.children])"
   ]
  },
  {
   "cell_type": "markdown",
   "metadata": {},
   "source": [
    "### Counting word occurences"
   ]
  },
  {
   "cell_type": "code",
   "execution_count": 22,
   "metadata": {},
   "outputs": [
    {
     "name": "stdout",
     "output_type": "stream",
     "text": [
      "I am already far north of London, and as I walk in the streets of Petersburgh, I feel a cold northern breeze play upon my cheeks, which braces my nerves and fills me with delight. \n",
      "\n",
      "[('I', 3), (',', 3), ('of', 2), ('and', 2), ('my', 2), ('am', 1), ('already', 1), ('far', 1), ('north', 1), ('London', 1), ('as', 1), ('walk', 1), ('in', 1), ('the', 1), ('streets', 1), ('Petersburgh', 1), ('feel', 1), ('a', 1), ('cold', 1), ('northern', 1), ('breeze', 1), ('play', 1), ('upon', 1), ('cheeks', 1), ('which', 1), ('braces', 1), ('nerves', 1), ('fills', 1), ('me', 1), ('with', 1), ('delight', 1), ('.', 1)]\n"
     ]
    }
   ],
   "source": [
    "from collections import Counter\n",
    "\n",
    "print(example,'\\n')\n",
    "words = [token.text for token in doc]\n",
    "\n",
    "# five most common tokens\n",
    "word_freq = Counter(words)\n",
    "common_words = word_freq.most_common()\n",
    "\n",
    "print(common_words)"
   ]
  },
  {
   "cell_type": "markdown",
   "metadata": {},
   "source": [
    "### Without stop words and punctuation"
   ]
  },
  {
   "cell_type": "code",
   "execution_count": 23,
   "metadata": {},
   "outputs": [
    {
     "name": "stdout",
     "output_type": "stream",
     "text": [
      "[('far', 1), ('north', 1), ('London', 1), ('walk', 1), ('streets', 1), ('Petersburgh', 1), ('feel', 1), ('cold', 1), ('northern', 1), ('breeze', 1), ('play', 1), ('cheeks', 1), ('braces', 1), ('nerves', 1), ('fills', 1), ('delight', 1)]\n"
     ]
    }
   ],
   "source": [
    "words = [token.text for token in doc if token.is_stop != True and token.is_punct != True]\n",
    "\n",
    "# five most common tokens\n",
    "word_freq = Counter(words)\n",
    "common_words = word_freq.most_common()\n",
    "\n",
    "print(common_words)"
   ]
  },
  {
   "cell_type": "markdown",
   "metadata": {},
   "source": [
    "## Putting all the components together"
   ]
  },
  {
   "cell_type": "markdown",
   "metadata": {},
   "source": [
    "### Under the hood: the pipeline [\"tokenizer\",\"tagger\", \"parser\", \"ner\"]."
   ]
  },
  {
   "cell_type": "markdown",
   "metadata": {},
   "source": [
    "#### The NLP pipeline with Spacy\n",
    "<img src=\"spacy.png\">"
   ]
  },
  {
   "cell_type": "code",
   "execution_count": 24,
   "metadata": {},
   "outputs": [],
   "source": [
    "nlp = spacy.load('en')"
   ]
  },
  {
   "cell_type": "markdown",
   "metadata": {},
   "source": [
    "### If you don't need a particular component of the pipeline – for example, the tagger or the parser, you can disable loading it. This can sometimes make a big difference and improve loading speed. "
   ]
  },
  {
   "cell_type": "code",
   "execution_count": 25,
   "metadata": {},
   "outputs": [
    {
     "data": {
      "text/plain": [
       "('tagger', <spacy.pipeline.pipes.Tagger at 0x7fc148b0b9d0>)"
      ]
     },
     "execution_count": 25,
     "metadata": {},
     "output_type": "execute_result"
    }
   ],
   "source": [
    "nlp.remove_pipe('parser')\n",
    "nlp.remove_pipe('tagger')"
   ]
  },
  {
   "cell_type": "markdown",
   "metadata": {},
   "source": [
    "# Task 1: Sentiment analysis"
   ]
  },
  {
   "cell_type": "markdown",
   "metadata": {},
   "source": [
    "### Initialize the analyzer. Typically used for data from social media (short sentences)."
   ]
  },
  {
   "cell_type": "code",
   "execution_count": 26,
   "metadata": {},
   "outputs": [],
   "source": [
    "analyzer = SentimentIntensityAnalyzer()\n",
    "vs = analyzer.polarity_scores(example)"
   ]
  },
  {
   "cell_type": "markdown",
   "metadata": {},
   "source": [
    "### The sentiment score consits of four values. Neutral, positive and negative sum to one. The final score is obtained by thresholding the compound value (e.g. +/-0.05)."
   ]
  },
  {
   "cell_type": "code",
   "execution_count": 27,
   "metadata": {},
   "outputs": [
    {
     "name": "stdout",
     "output_type": "stream",
     "text": [
      "I am already far north of London, and as I walk in the streets of Petersburgh, I feel a cold northern breeze play upon my cheeks, which braces my nerves and fills me with delight. \n",
      "\n",
      "Negative sentiment: 0.035\n",
      "Neutral sentiment: 0.806\n",
      "Positive sentiment: 0.159\n",
      "Compound sentiment: 0.7096\n"
     ]
    }
   ],
   "source": [
    "print(example, '\\n')\n",
    "print('Negative sentiment:',vs['neg'])\n",
    "print('Neutral sentiment:',vs['neu'])\n",
    "print('Positive sentiment:',vs['pos'])\n",
    "print('Compound sentiment:',vs['compound'])"
   ]
  },
  {
   "cell_type": "markdown",
   "metadata": {},
   "source": [
    "### We can now observe the distributions of sentiment across all sentences in the book Pride and Prejudice:"
   ]
  },
  {
   "cell_type": "code",
   "execution_count": 28,
   "metadata": {},
   "outputs": [],
   "source": [
    "nlp = spacy.load('en')\n",
    "doc = nlp(books[3])"
   ]
  },
  {
   "cell_type": "code",
   "execution_count": 29,
   "metadata": {},
   "outputs": [
    {
     "data": {
      "text/plain": [
       "Text(0, 0.5, 'Number of sentences')"
      ]
     },
     "execution_count": 29,
     "metadata": {},
     "output_type": "execute_result"
    },
    {
     "data": {
      "image/png": "[encoded data removed]",
      "text/plain": [
       "<Figure size 432x288 with 1 Axes>"
      ]
     },
     "metadata": {
      "needs_background": "light"
     },
     "output_type": "display_data"
    }
   ],
   "source": [
    "positive_sent = []\n",
    "#iterate through the sentences, get polarity scores, choose a value\n",
    "[positive_sent.append(analyzer.polarity_scores(sent.text)['pos']) for sent in doc.sents]\n",
    "plt.hist(positive_sent,bins=15)\n",
    "plt.xlim([0,1])\n",
    "plt.ylim([0,8000])\n",
    "plt.xlabel('Positive sentiment')\n",
    "plt.ylabel('Number of sentences')"
   ]
  },
  {
   "cell_type": "code",
   "execution_count": 30,
   "metadata": {},
   "outputs": [
    {
     "data": {
      "image/png": "[encoded data removed]",
      "text/plain": [
       "<Figure size 432x288 with 1 Axes>"
      ]
     },
     "metadata": {
      "needs_background": "light"
     },
     "output_type": "display_data"
    }
   ],
   "source": [
    "negative_sent = []\n",
    "[negative_sent.append(analyzer.polarity_scores(sent.text)['neg']) for sent in doc.sents]\n",
    "plt.hist(negative_sent,bins=15)\n",
    "plt.xlim([0,1])\n",
    "plt.ylim([0,8000])\n",
    "plt.xlabel('Negative sentiment')\n",
    "plt.ylabel('Number of sentences');"
   ]
  },
  {
   "cell_type": "code",
   "execution_count": 37,
   "metadata": {},
   "outputs": [
    {
     "data": {
      "text/plain": [
       "Text(0, 0.5, 'Number of sentences')"
      ]
     },
     "execution_count": 37,
     "metadata": {},
     "output_type": "execute_result"
    },
    {
     "data": {
      "image/png": "[encoded data removed]",
      "text/plain": [
       "<Figure size 432x288 with 1 Axes>"
      ]
     },
     "metadata": {
      "needs_background": "light"
     },
     "output_type": "display_data"
    }
   ],
   "source": [
    "total_sent = []\n",
    "[total_sent.append(analyzer.polarity_scores(sent.text)['compound']) for sent in doc.sents]\n",
    "plt.hist(total_sent,bins = 15)\n",
    "plt.xlim([-1,1])\n",
    "plt.ylim([0,8000])\n",
    "plt.xlabel('Compound sentiment')\n",
    "plt.ylabel('Number of sentences')"
   ]
  },
  {
   "cell_type": "code",
   "execution_count": 38,
   "metadata": {},
   "outputs": [
    {
     "name": "stdout",
     "output_type": "stream",
     "text": [
      "Number of positive sentences: 2788\n",
      "Number of negative sentences: 1368\n",
      "Number of neutral sentences: 2000\n"
     ]
    }
   ],
   "source": [
    "sents = [analyzer.polarity_scores(sent.text)['compound'] for sent in doc.sents]\n",
    "print('Number of positive sentences:',sum(np.array(sents)>=0.05))\n",
    "print('Number of negative sentences:',sum(np.array(sents)<=-0.05))\n",
    "print('Number of neutral sentences:',sum(np.abs(np.array(sents))<0.05))"
   ]
  },
  {
   "cell_type": "markdown",
   "metadata": {},
   "source": [
    "#### Most of the sentences are quite neutral in sentiment. This is not the case when working with data from other sources (e.g., in social media opinions are strong and polarized (bimodal distribution))."
   ]
  },
  {
   "cell_type": "markdown",
   "metadata": {},
   "source": [
    "# Task 2: Document classification: Can we detect paragraphs from Frankenstein?"
   ]
  },
  {
   "cell_type": "code",
   "execution_count": 39,
   "metadata": {},
   "outputs": [
    {
     "name": "stdout",
     "output_type": "stream",
     "text": [
      "['DRACULA.txt', 'Frankenstein.txt', 'Moby_Dick.txt', 'PRIDE_AND_PREJUDICE.txt']\n"
     ]
    },
    {
     "data": {
      "text/plain": [
       "\u001b[0;31mInit signature:\u001b[0m\n",
       "\u001b[0mPlaintextCorpusReader\u001b[0m\u001b[0;34m(\u001b[0m\u001b[0;34m\u001b[0m\n",
       "\u001b[0;34m\u001b[0m    \u001b[0mroot\u001b[0m\u001b[0;34m,\u001b[0m\u001b[0;34m\u001b[0m\n",
       "\u001b[0;34m\u001b[0m    \u001b[0mfileids\u001b[0m\u001b[0;34m,\u001b[0m\u001b[0;34m\u001b[0m\n",
       "\u001b[0;34m\u001b[0m    \u001b[0mword_tokenizer\u001b[0m\u001b[0;34m=\u001b[0m\u001b[0mWordPunctTokenizer\u001b[0m\u001b[0;34m(\u001b[0m\u001b[0mpattern\u001b[0m\u001b[0;34m=\u001b[0m\u001b[0;34m'\\\\w+|[^\\\\w\\\\s]+'\u001b[0m\u001b[0;34m,\u001b[0m \u001b[0mgaps\u001b[0m\u001b[0;34m=\u001b[0m\u001b[0;32mFalse\u001b[0m\u001b[0;34m,\u001b[0m \u001b[0mdiscard_empty\u001b[0m\u001b[0;34m=\u001b[0m\u001b[0;32mTrue\u001b[0m\u001b[0;34m,\u001b[0m \u001b[0mflags\u001b[0m\u001b[0;34m=\u001b[0m\u001b[0mre\u001b[0m\u001b[0;34m.\u001b[0m\u001b[0mUNICODE\u001b[0m\u001b[0;34m|\u001b[0m\u001b[0mre\u001b[0m\u001b[0;34m.\u001b[0m\u001b[0mMULTILINE\u001b[0m\u001b[0;34m|\u001b[0m\u001b[0mre\u001b[0m\u001b[0;34m.\u001b[0m\u001b[0mDOTALL\u001b[0m\u001b[0;34m)\u001b[0m\u001b[0;34m,\u001b[0m\u001b[0;34m\u001b[0m\n",
       "\u001b[0;34m\u001b[0m    \u001b[0msent_tokenizer\u001b[0m\u001b[0;34m=\u001b[0m\u001b[0;34m<\u001b[0m\u001b[0mnltk\u001b[0m\u001b[0;34m.\u001b[0m\u001b[0mtokenize\u001b[0m\u001b[0;34m.\u001b[0m\u001b[0mpunkt\u001b[0m\u001b[0;34m.\u001b[0m\u001b[0mPunktSentenceTokenizer\u001b[0m \u001b[0mobject\u001b[0m \u001b[0mat\u001b[0m \u001b[0;36m0x7fc14caf65e0\u001b[0m\u001b[0;34m>\u001b[0m\u001b[0;34m,\u001b[0m\u001b[0;34m\u001b[0m\n",
       "\u001b[0;34m\u001b[0m    \u001b[0mpara_block_reader\u001b[0m\u001b[0;34m=\u001b[0m\u001b[0;34m<\u001b[0m\u001b[0mfunction\u001b[0m \u001b[0mread_blankline_block\u001b[0m \u001b[0mat\u001b[0m \u001b[0;36m0x7fc14cafdf70\u001b[0m\u001b[0;34m>\u001b[0m\u001b[0;34m,\u001b[0m\u001b[0;34m\u001b[0m\n",
       "\u001b[0;34m\u001b[0m    \u001b[0mencoding\u001b[0m\u001b[0;34m=\u001b[0m\u001b[0;34m'utf8'\u001b[0m\u001b[0;34m,\u001b[0m\u001b[0;34m\u001b[0m\n",
       "\u001b[0;34m\u001b[0m\u001b[0;34m)\u001b[0m\u001b[0;34m\u001b[0m\u001b[0;34m\u001b[0m\u001b[0m\n",
       "\u001b[0;31mDocstring:\u001b[0m     \n",
       "Reader for corpora that consist of plaintext documents.  Paragraphs\n",
       "are assumed to be split using blank lines.  Sentences and words can\n",
       "be tokenized using the default tokenizers, or by custom tokenizers\n",
       "specificed as parameters to the constructor.\n",
       "\n",
       "This corpus reader can be customized (e.g., to skip preface\n",
       "sections of specific document formats) by creating a subclass and\n",
       "overriding the ``CorpusView`` class variable.\n",
       "\u001b[0;31mInit docstring:\u001b[0m\n",
       "Construct a new plaintext corpus reader for a set of documents\n",
       "located at the given root directory.  Example usage:\n",
       "\n",
       "    >>> root = '/usr/local/share/nltk_data/corpora/webtext/'\n",
       "    >>> reader = PlaintextCorpusReader(root, '.*\\.txt') # doctest: +SKIP\n",
       "\n",
       ":param root: The root directory for this corpus.\n",
       ":param fileids: A list or regexp specifying the fileids in this corpus.\n",
       ":param word_tokenizer: Tokenizer for breaking sentences or\n",
       "    paragraphs into words.\n",
       ":param sent_tokenizer: Tokenizer for breaking paragraphs\n",
       "    into words.\n",
       ":param para_block_reader: The block reader used to divide the\n",
       "    corpus into paragraph blocks.\n",
       "\u001b[0;31mFile:\u001b[0m           ~/anaconda3/envs/ada/lib/python3.8/site-packages/nltk/corpus/reader/plaintext.py\n",
       "\u001b[0;31mType:\u001b[0m           type\n",
       "\u001b[0;31mSubclasses:\u001b[0m     CategorizedPlaintextCorpusReader, EuroparlCorpusReader, UdhrCorpusReader\n"
      ]
     },
     "metadata": {},
     "output_type": "display_data"
    }
   ],
   "source": [
    "# Let's load our corpus via NLTK this time\n",
    "from nltk.corpus import PlaintextCorpusReader\n",
    "?PlaintextCorpusReader\n",
    "our_books = PlaintextCorpusReader(corpus_root, '.*.txt')\n",
    "print(our_books.fileids())"
   ]
  },
  {
   "cell_type": "markdown",
   "metadata": {},
   "source": [
    "### We will segment the books into equally long chunks"
   ]
  },
  {
   "cell_type": "code",
   "execution_count": 40,
   "metadata": {},
   "outputs": [
    {
     "name": "stdout",
     "output_type": "stream",
     "text": [
      "DRACULA.txt :\n",
      "Number of sentences: 9303\n",
      "Number of chunks: 187 \n",
      "\n",
      "Frankenstein.txt :\n",
      "Number of sentences: 3378\n",
      "Number of chunks: 68 \n",
      "\n",
      "Moby_Dick.txt :\n",
      "Number of sentences: 9609\n",
      "Number of chunks: 193 \n",
      "\n",
      "PRIDE_AND_PREJUDICE.txt :\n",
      "Number of sentences: 6055\n",
      "Number of chunks: 122 \n",
      "\n"
     ]
    }
   ],
   "source": [
    "def get_chunks(l, n):\n",
    "    \"\"\"Yield successive n-sized chunks from l.\"\"\"\n",
    "    for i in range(0, len(l), n):\n",
    "        yield l[i:i + n]\n",
    "\n",
    "\n",
    "# Get the data\n",
    "book_id = {f:n for n,f in enumerate(our_books.fileids())} # dictionary of books\n",
    "\n",
    "chunks = list()\n",
    "chunk_class = list() # this list contains the original book of the chunk, for evaluation\n",
    "\n",
    "limit = 500 # how many chunks total\n",
    "size = 50 # how many sentences per chunk/page\n",
    "\n",
    "for f in our_books.fileids():\n",
    "    sentences = our_books.sents(f)\n",
    "    print(f,\":\")\n",
    "    print('Number of sentences:',len(sentences))\n",
    "    \n",
    "    # create chunks\n",
    "    chunks_of_sents = [x for x in get_chunks(sentences,size)] # this is a list of lists of sentences, which are a list of tokens\n",
    "    chs = list()\n",
    "    \n",
    "    # regroup so to have a list of chunks which are strings\n",
    "    for c in chunks_of_sents:\n",
    "        grouped_chunk = list()\n",
    "        for s in c:\n",
    "            grouped_chunk.extend(s)\n",
    "        chs.append(\" \".join(grouped_chunk))\n",
    "    print(\"Number of chunks:\",len(chs),'\\n')\n",
    "    \n",
    "    # filter to the limit, to have the same number of chunks per book\n",
    "    chunks.extend(chs[:limit])\n",
    "    chunk_class.extend([book_id[f] for _ in range(len(chs[:limit]))])"
   ]
  },
  {
   "cell_type": "markdown",
   "metadata": {},
   "source": [
    "### Representing the chunks with bag-of-words"
   ]
  },
  {
   "cell_type": "code",
   "execution_count": 41,
   "metadata": {},
   "outputs": [
    {
     "name": "stdout",
     "output_type": "stream",
     "text": [
      "Number of samples: 570\n",
      "Number of features: 23116\n"
     ]
    }
   ],
   "source": [
    "vectorizer = CountVectorizer()\n",
    "\n",
    "#initialize and specify minumum number of occurences to avoid untractable number of features\n",
    "#vectorizer = CountVectorizer(min_df = 2) if we want high frequency\n",
    "\n",
    "#create bag of words features\n",
    "X = vectorizer.fit_transform(chunks)\n",
    "\n",
    "print('Number of samples:',X.toarray().shape[0])\n",
    "print('Number of features:',X.toarray().shape[1])\n",
    "\n",
    "#mask and convert to int Frankenstein\n",
    "Y = np.array(chunk_class) == 1\n",
    "Y = Y.astype(int)  \n",
    "\n",
    "#shuffle the data\n",
    "X, Y = shuffle(X, Y, random_state=0)\n",
    "\n",
    "#split into training and test set\n",
    "X_train, X_test, Y_train, Y_test = train_test_split(X, Y, test_size=0.2, random_state=42)"
   ]
  },
  {
   "cell_type": "markdown",
   "metadata": {},
   "source": [
    "### Let's fit the regularized logistic regression. We will crossvalidate the regularization parameter on the training set."
   ]
  },
  {
   "cell_type": "code",
   "execution_count": 45,
   "metadata": {},
   "outputs": [],
   "source": [
    "accs = []\n",
    "\n",
    "#the grid of regularization parameter \n",
    "grid = [0.01,0.1,1,10,100,1000,10000]\n",
    "\n",
    "for c in grid:\n",
    "    \n",
    "    #initialize the classifier\n",
    "    clf = LogisticRegression(random_state=0, solver='lbfgs',C = c)\n",
    "    \n",
    "    #crossvalidate\n",
    "    scores = cross_val_score(clf, X_train,Y_train, cv=10)\n",
    "    accs.append(np.mean(scores))"
   ]
  },
  {
   "cell_type": "code",
   "execution_count": 47,
   "metadata": {},
   "outputs": [
    {
     "data": {
      "text/plain": [
       "(0.986, 1.0)"
      ]
     },
     "execution_count": 47,
     "metadata": {},
     "output_type": "execute_result"
    },
    {
     "data": {
      "image/png": "[encoded data removed]",
      "text/plain": [
       "<Figure size 432x288 with 1 Axes>"
      ]
     },
     "metadata": {
      "needs_background": "light"
     },
     "output_type": "display_data"
    }
   ],
   "source": [
    "plt.plot(accs, '-o')\n",
    "plt.xticks(range(len(grid)), grid)\n",
    "plt.xlabel('Regularization parameter \\n (Low - strong regularization, High - weak regularization)')\n",
    "plt.ylabel('Crossvalidation accuracy')\n",
    "plt.ylim([0.986,1])"
   ]
  },
  {
   "cell_type": "markdown",
   "metadata": {},
   "source": [
    "### Let's train again, on the entire training set, with the chosen regularization parameter. We will test on the test set"
   ]
  },
  {
   "cell_type": "code",
   "execution_count": 48,
   "metadata": {},
   "outputs": [
    {
     "name": "stdout",
     "output_type": "stream",
     "text": [
      "Accuracy: 0.9824561403508771\n"
     ]
    }
   ],
   "source": [
    "clf = LogisticRegression(random_state=0, solver='lbfgs',C = 10).fit(X_train,Y_train)\n",
    "\n",
    "#predict on the test set\n",
    "print('Accuracy:',clf.score(X_test,Y_test))"
   ]
  },
  {
   "cell_type": "markdown",
   "metadata": {},
   "source": [
    "### What features characterize Frankenstein? BOW are interpretable!"
   ]
  },
  {
   "cell_type": "code",
   "execution_count": 52,
   "metadata": {},
   "outputs": [
    {
     "name": "stdout",
     "output_type": "stream",
     "text": [
      "['frankenstein' 'towards' 'death' 'yet' 'justine' 'had' 'my' 'this' 'but'\n",
      " 'who' 'will' 'of' 'which' 'poor' 'father' 'and' 'creature' 'me' 'by'\n",
      " 'misery']\n"
     ]
    }
   ],
   "source": [
    "coefs=clf.coef_[0]\n",
    "top_three = np.argpartition(coefs, -20)[-20:]\n",
    "\n",
    "print(np.array(vectorizer.get_feature_names())[top_three])"
   ]
  },
  {
   "cell_type": "markdown",
   "metadata": {},
   "source": [
    "### We can perfectly predict paragraphs from Frankenstein! We saw issues of high dimensionality when using bag of words (more features than samples) and how regularization helps."
   ]
  },
  {
   "cell_type": "markdown",
   "metadata": {},
   "source": [
    "### Alternative text representation: word emdeddings, pretrained on intergraded in Spacy (300-dimensional word vectors trained on Common Crawl with GloVe.) Depending on the application, might be suitable or not"
   ]
  },
  {
   "cell_type": "code",
   "execution_count": 70,
   "metadata": {},
   "outputs": [
    {
     "name": "stdout",
     "output_type": "stream",
     "text": [
      "I am already far north of London, and as I walk in the streets of Petersburgh, I feel a cold northern breeze play upon my cheeks, which braces my nerves and fills me with delight. \n",
      "\n",
      "Embedding representation: [0.44159147, 0.47352052, 0.38473955, -0.8381282, 0.8601264, -0.7688055, 0.01724484, 1.2903913, -0.6650688, 0.7241268] ...\n"
     ]
    }
   ],
   "source": [
    "print(example,'\\n')\n",
    "print('Embedding representation:',list((nlp(example).vector)[0:10]),'...')"
   ]
  },
  {
   "cell_type": "markdown",
   "metadata": {},
   "source": [
    "# Task 3: Topic detection"
   ]
  },
  {
   "cell_type": "code",
   "execution_count": 71,
   "metadata": {},
   "outputs": [
    {
     "name": "stdout",
     "output_type": "stream",
     "text": [
      "DRACULA.txt\n",
      "Number of sentences: 9303\n",
      "Number of chunks: 187 \n",
      "\n",
      "Frankenstein.txt\n",
      "Number of sentences: 3378\n",
      "Number of chunks: 68 \n",
      "\n",
      "Moby_Dick.txt\n",
      "Number of sentences: 9609\n",
      "Number of chunks: 193 \n",
      "\n",
      "PRIDE_AND_PREJUDICE.txt\n",
      "Number of sentences: 6055\n",
      "Number of chunks: 122 \n",
      "\n"
     ]
    }
   ],
   "source": [
    "# Get the chunks again (into smaller chunks)\n",
    "book_id = {f:n for n,f in enumerate(our_books.fileids())} # dictionary of books\n",
    "chunks = list()\n",
    "chunk_class = list() # this list contains the original book of the chunk, for evaluation\n",
    "\n",
    "limit = 60 # how many chunks total\n",
    "size = 50 # how many sentences per chunk/page\n",
    "\n",
    "for f in our_books.fileids():\n",
    "    sentences = our_books.sents(f)\n",
    "    print(f)\n",
    "    print('Number of sentences:',len(sentences))\n",
    "    \n",
    "    # create chunks\n",
    "    chunks_of_sents = [x for x in get_chunks(sentences,size)] # this is a list of lists of sentences, which are a list of tokens\n",
    "    chs = list()\n",
    "    \n",
    "    # regroup so to have a list of chunks which are strings\n",
    "    for c in chunks_of_sents:\n",
    "        grouped_chunk = list()\n",
    "        for s in c:\n",
    "            grouped_chunk.extend(s)\n",
    "        chs.append(\" \".join(grouped_chunk))\n",
    "    print(\"Number of chunks:\",len(chs),'\\n')\n",
    "    \n",
    "    # filter to the limit, to have the same number of chunks per book\n",
    "    chunks.extend(chs[:limit])\n",
    "    chunk_class.extend([book_id[f] for _ in range(len(chs[:limit]))])"
   ]
  },
  {
   "cell_type": "code",
   "execution_count": 73,
   "metadata": {},
   "outputs": [],
   "source": [
    "STOPWORDS = spacy.lang.en.stop_words.STOP_WORDS\n",
    "\n",
    "processed_docs = list()\n",
    "for doc in nlp.pipe(chunks, n_process=5, batch_size=10):\n",
    "\n",
    "    # Process document using Spacy NLP pipeline.\n",
    "    ents = doc.ents  # Named entities\n",
    "\n",
    "    # Keep only words (no numbers, no punctuation).\n",
    "    # Lemmatize tokens, remove punctuation and remove stopwords.\n",
    "    doc = [token.lemma_ for token in doc if token.is_alpha and not token.is_stop]\n",
    "\n",
    "    # Remove common words from a stopword list and keep only words of length 3 or more.\n",
    "    doc = [token for token in doc if token not in STOPWORDS and len(token) > 2]\n",
    "\n",
    "    # Add named entities, but only if they are a compound of more than word.\n",
    "    doc.extend([str(entity) for entity in ents if len(entity) > 1])\n",
    "\n",
    "    processed_docs.append(doc)\n",
    "docs = processed_docs\n",
    "del processed_docs"
   ]
  },
  {
   "cell_type": "code",
   "execution_count": 75,
   "metadata": {},
   "outputs": [],
   "source": [
    "# Add bigrams too\n",
    "from gensim.models.phrases import Phrases\n",
    "\n",
    "# Add bigrams to docs (only ones that appear 15 times or more).\n",
    "bigram = Phrases(docs, min_count=15)\n",
    "\n",
    "for idx in range(len(docs)):\n",
    "    for token in bigram[docs[idx]]:\n",
    "        if '_' in token:\n",
    "            # Token is a bigram, add to document.\n",
    "            docs[idx].append(token)"
   ]
  },
  {
   "cell_type": "code",
   "execution_count": 80,
   "metadata": {},
   "outputs": [
    {
     "name": "stdout",
     "output_type": "stream",
     "text": [
      "Number of unique tokens: 3085\n",
      "Number of chunks: 240\n"
     ]
    }
   ],
   "source": [
    "# Create a dictionary representation of the documents, and filter out frequent and rare words.\n",
    "from gensim.corpora import Dictionary\n",
    "dictionary = Dictionary(docs)\n",
    "\n",
    "# Remove rare and common tokens.\n",
    "# Filter out words that occur too frequently or too rarely.\n",
    "max_freq = 0.5\n",
    "min_wordcount = 5\n",
    "dictionary.filter_extremes(no_below=min_wordcount, no_above=max_freq)\n",
    "\n",
    "# Bag-of-words representation of the documents.\n",
    "corpus = [dictionary.doc2bow(doc) for doc in docs]\n",
    "#MmCorpus.serialize(\"models/corpus.mm\", corpus)\n",
    "\n",
    "print('Number of unique tokens: %d' % len(dictionary))\n",
    "print('Number of chunks: %d' % len(corpus))"
   ]
  },
  {
   "cell_type": "code",
   "execution_count": 82,
   "metadata": {},
   "outputs": [],
   "source": [
    "# models\n",
    "from gensim.models import LdaMulticore\n",
    "params = {'passes': 10, 'random_state': seed}\n",
    "base_models = dict()\n",
    "model = LdaMulticore(corpus=corpus, num_topics=4, id2word=dictionary, workers=6,\n",
    "                passes=params['passes'], random_state=params['random_state'])"
   ]
  },
  {
   "cell_type": "code",
   "execution_count": 83,
   "metadata": {},
   "outputs": [
    {
     "data": {
      "text/plain": [
       "[(0,\n",
       "  '0.011*\"ship\" + 0.010*\"old\" + 0.007*\"sea\" + 0.007*\"Captain\" + 0.007*\"Ahab\"'),\n",
       " (1,\n",
       "  '0.005*\"father\" + 0.005*\"life\" + 0.004*\"dear\" + 0.004*\"mind\" + 0.004*\"pass\"'),\n",
       " (2,\n",
       "  '0.023*\"whale\" + 0.008*\"sea\" + 0.008*\"head\" + 0.007*\"room\" + 0.007*\"Queequeg\"'),\n",
       " (3,\n",
       "  '0.015*\"Elizabeth\" + 0.011*\"Darcy\" + 0.010*\"Bingley\" + 0.009*\"Miss\" + 0.008*\"Mrs\"')]"
      ]
     },
     "execution_count": 83,
     "metadata": {},
     "output_type": "execute_result"
    }
   ],
   "source": [
    "model.show_topics(num_words=5)"
   ]
  },
  {
   "cell_type": "code",
   "execution_count": 84,
   "metadata": {},
   "outputs": [
    {
     "data": {
      "text/plain": [
       "[('father', 0.004936826),\n",
       " ('life', 0.0049256277),\n",
       " ('dear', 0.0038935426),\n",
       " ('mind', 0.0038345437),\n",
       " ('pass', 0.0037508816),\n",
       " ('fear', 0.003742169),\n",
       " ('heart', 0.003625109),\n",
       " ('feeling', 0.0035501504),\n",
       " ('love', 0.0035243954),\n",
       " ('appear', 0.0032555072),\n",
       " ('sleep', 0.0030968923),\n",
       " ('return', 0.0030752276),\n",
       " ('room', 0.0029766748),\n",
       " ('Lucy', 0.0029652573),\n",
       " ('word', 0.0028522166),\n",
       " ('old', 0.0027812498),\n",
       " ('remain', 0.0027675275),\n",
       " ('death', 0.0027245781),\n",
       " ('door', 0.0026066632),\n",
       " ('Elizabeth', 0.0026062424)]"
      ]
     },
     "execution_count": 84,
     "metadata": {},
     "output_type": "execute_result"
    }
   ],
   "source": [
    "model.show_topic(1,20)"
   ]
  },
  {
   "cell_type": "code",
   "execution_count": 85,
   "metadata": {},
   "outputs": [
    {
     "data": {
      "text/plain": [
       "[(2, 0.9972014)]"
      ]
     },
     "execution_count": 85,
     "metadata": {},
     "output_type": "execute_result"
    }
   ],
   "source": [
    "sorted(model[corpus[0]],key=lambda x:x[1],reverse=True)"
   ]
  },
  {
   "cell_type": "code",
   "execution_count": 86,
   "metadata": {},
   "outputs": [
    {
     "data": {
      "text/html": [
       "\n",
       "<link rel=\"stylesheet\" type=\"text/css\" href=\"https://cdn.rawgit.com/bmabey/pyLDAvis/files/ldavis.v1.0.0.css\">\n",
       "\n",
       "\n",
       "<div id=\"ldavis_el4748041404680239591046394267984\"></div>\n",
       "<script type=\"text/javascript\">\n",
       "\n",
       "var ldavis_el4748041404680239591046394267984_data = {\"mdsDat\": {\"x\": [0.03143640297403041, 0.17589974937292743, -0.1098280938127596, -0.0975080585341982], \"y\": [-0.11220127154809326, 0.05379424176870427, 0.019483156847580237, 0.03892387293180886], \"topics\": [1, 2, 3, 4], \"cluster\": [1, 1, 1, 1], \"Freq\": [36.80510834398552, 28.669534062867612, 20.33181733087747, 14.193540262269394]}, \"tinfo\": {\"Term\": [\"whale\", \"Elizabeth\", \"Darcy\", \"Bingley\", \"ship\", \"Miss\", \"Bennet\", \"sea\", \"Queequeg\", \"Jane\", \"Mrs\", \"Collins\", \"Ahab\", \"old\", \"sister\", \"Captain\", \"Whale\", \"head\", \"Bildad\", \"bed\", \"room\", \"Jonah\", \"Peleg\", \"Lady\", \"Mrs_Bennet\", \"door\", \"Catherine\", \"Wickham\", \"thou\", \"harpooneer\", \"Justine\", \"Felix\", \"Clerval\", \"Geneva\", \"Victor\", \"Safie\", \"Agatha\", \"wretch\", \"beheld\", \"creator\", \"labour\", \"victim\", \"fiend\", \"horrible\", \"inhabit\", \"Frankenstein\", \"hovel\", \"protector\", \"lake\", \"Ernest\", \"thirst\", \"Mont\", \"weep\", \"forever\", \"Ingolstadt\", \"contemplate\", \"unfortunate\", \"Arabian\", \"hatred\", \"desolate\", \"cottage\", \"sensation\", \"murderer\", \"crime\", \"cottager\", \"horror\", \"mountain\", \"gentle\", \"despair\", \"tale\", \"misery\", \"miserable\", \"murder\", \"scene\", \"destroy\", \"human\", \"Lucy\", \"tear\", \"fear\", \"father\", \"life\", \"cause\", \"appear\", \"mind\", \"Count\", \"heart\", \"death\", \"feeling\", \"remain\", \"pass\", \"creature\", \"child\", \"love\", \"discover\", \"dear\", \"return\", \"sleep\", \"work\", \"enter\", \"thought\", \"word\", \"happy\", \"room\", \"door\", \"hope\", \"hour\", \"spirit\", \"old\", \"wish\", \"letter\", \"Elizabeth\", \"moment\", \"Bingley\", \"Bennet\", \"Jane\", \"Collins\", \"Darcy\", \"Wickham\", \"Mrs_Bennet\", \"Catherine\", \"Lady_Catherine\", \"Miss_Bingley\", \"Netherfield\", \"Lady Catherine\", \"Charlotte\", \"Lucas\", \"Longbourn\", \"Lydia\", \"Lizzy\", \"Lady\", \"Miss\", \"Miss_Bennet\", \"Colonel\", \"Bourgh\", \"Fitzwilliam\", \"Hurst\", \"Meryton\", \"Hertfordshire\", \"Colonel_Fitzwilliam\", \"Miss_Lucas\", \"ladyship\", \"Phillips\", \"young_lady\", \"Mrs\", \"Sir_William\", \"sister\", \"Elizabeth\", \"dance\", \"lady\", \"daughter\", \"marry\", \"young\", \"family\", \"wish\", \"dear\", \"gentleman\", \"mother\", \"hope\", \"reply\", \"manner\", \"girl\", \"room\", \"believe\", \"walk\", \"love\", \"father\", \"Bildad\", \"Peleg\", \"Captain_Peleg\", \"Pequod\", \"Captain_Ahab\", \"Captain Ahab\", \"Ahab\", \"Stubb\", \"Starbuck\", \"Flask\", \"fishery\", \"dost\", \"Tashtego\", \"Thou\", \"bulwark\", \"fiery\", \"pulpit\", \"driver\", \"brave\", \"pious\", \"commander\", \"doesn\", \"beef\", \"kick\", \"aloft\", \"thou\", \"tar\", \"Bible\", \"Captain\", \"leg\", \"fight\", \"craft\", \"deck\", \"cabin\", \"mate\", \"ship\", \"passenger\", \"captain\", \"crew\", \"mast\", \"sailor\", \"queer\", \"thee\", \"whaling\", \"old\", \"don\", \"Queequeg\", \"voyage\", \"sail\", \"sea\", \"stand\", \"round\", \"lay\", \"sort\", \"whale\", \"God\", \"world\", \"head\", \"boat\", \"right\", \"white\", \"water\", \"young\", \"Whale\", \"Jonah\", \"landlord\", \"Folio\", \"fin\", \"Sperm\", \"entry\", \"Leviathan\", \"swing\", \"horn\", \"naturalist\", \"shoal\", \"spout\", \"oil\", \"lowly\", \"sperm\", \"sperm_whale\", \"crooked\", \"pier\", \"tomahawk\", \"South\", \"boot\", \"whale_ship\", \"Greenland\", \"West\", \"bedfellow\", \"leviathan\", \"available\", \"wrist\", \"shirt\", \"whale\", \"CHAPTER\", \"fish\", \"bed\", \"key\", \"harpooneer\", \"whaleman\", \"lock\", \"head\", \"Queequeg\", \"sea\", \"foot\", \"door\", \"room\", \"run\", \"open\", \"sleep\", \"sort\", \"light\", \"white\", \"ship\", \"wall\", \"old\", \"large\", \"God\", \"try\", \"window\", \"sit\", \"round\", \"stand\", \"book\", \"face\", \"world\"], \"Freq\": [323.0, 388.0, 222.0, 207.0, 208.0, 195.0, 176.0, 218.0, 160.0, 144.0, 194.0, 143.0, 105.0, 282.0, 179.0, 117.0, 63.0, 187.0, 74.0, 110.0, 256.0, 61.0, 69.0, 89.0, 84.0, 166.0, 79.0, 77.0, 70.0, 73.0, 52.06289407774185, 46.3731216998197, 45.184699057950574, 34.67866583814473, 25.176799726379322, 23.29515164084494, 24.110774968066995, 20.401160022980736, 19.411759549709114, 17.51777962853491, 33.187112267488814, 16.574957581476056, 30.36533322866972, 18.39075982201635, 15.592051989578039, 14.602639014128604, 13.68604028503151, 13.664503720977219, 31.866447839807766, 12.74092174418572, 13.63891645131167, 11.780519290964122, 28.08367640125155, 29.88701240774054, 15.394719177757457, 11.758845984340006, 11.752296405938473, 13.53154931102998, 10.820580199707702, 10.817543733271487, 53.151402440077774, 43.03009873809659, 26.86437338018551, 23.31384083390243, 23.272908703744243, 54.46800053442529, 58.051799813095265, 34.347095580378905, 38.63458931385989, 29.619447049285903, 49.361426621557094, 54.76665880909967, 39.09078440560537, 58.04040407801915, 39.63913617555138, 55.91433997902224, 79.61188671494094, 49.964140986176396, 100.47058268823754, 132.54500113041212, 132.24434875837665, 64.1229261208327, 87.40458166072902, 102.95068345852938, 63.12962809362803, 97.32773522101513, 73.15007985274006, 95.31522840308934, 74.30319321892217, 100.70450468619869, 62.11649536132379, 58.204126347563, 94.6237517015456, 49.11831552290374, 104.53469688519779, 82.56439477605663, 83.1460523476952, 66.97669198158512, 69.77577331658559, 60.9969565936572, 76.57694554441838, 65.63029494642146, 79.91842761272609, 69.98427213596497, 69.69126484566186, 64.24949816900666, 60.923750091475995, 74.67161364579042, 68.9436533657399, 64.49224670450343, 69.97297641831136, 62.79707016381501, 205.5743622755834, 174.1068374495097, 142.74739202372135, 141.74231592834795, 220.04872407185084, 76.37981833283797, 82.91520865761917, 78.16949750654919, 71.44117990123513, 67.57547152260962, 48.74640974495672, 59.99143443775174, 72.16053410753183, 58.10085810899846, 40.23435596953785, 36.37930896444474, 36.33050621668116, 87.5724199393349, 189.93897957976435, 34.3999113912958, 29.73803043284221, 30.64717120903996, 28.75404335723074, 29.603218472295197, 29.584152654498414, 24.01376149663284, 23.065412965384713, 23.007682321584767, 21.10625958518435, 19.242941703124057, 34.53581164459663, 176.30469214170728, 38.03764556726039, 157.39946447924342, 313.14632110925, 60.09807738898847, 103.35446651768218, 73.71259052336204, 45.29601043687282, 130.84073889911076, 77.20256278540698, 106.07293903830443, 112.47720347687707, 45.7605483205738, 71.47126255283736, 89.69620255380941, 69.16525542057224, 82.8833243580576, 69.36428882689164, 93.15740201101175, 71.94339657388043, 67.91281792969973, 70.32991370127422, 67.94906513891421, 73.30032295338869, 68.50267985082844, 28.6338083245943, 44.31676770842296, 38.425850157894295, 21.81294654770461, 100.82963215063415, 42.40647956471269, 38.70695231928602, 35.095941365678485, 14.284471555393338, 9.707920622447295, 12.336461340807276, 9.665627356576932, 13.11118349728688, 9.606341676905258, 16.510120355484776, 27.64018333759515, 11.183959054539168, 6.873519871297296, 7.705016355939762, 7.702310761017579, 7.701816951095598, 23.064773692615642, 8.532469987672023, 62.46065646417361, 5.884971543819489, 5.877318784984873, 102.09131304807927, 32.34710526976852, 18.15637903888216, 18.12659504883261, 57.479837506288334, 41.53767798505512, 49.84914472343106, 159.78472161901624, 17.169954007738465, 40.01223697816366, 27.325034190708525, 42.84270710593118, 35.98969243265293, 21.325799606454158, 30.90271124797422, 28.091320139919606, 147.54115006839308, 49.057595044225486, 90.83583097882632, 49.71514957376234, 53.40951771413, 109.71004734310563, 68.41074832815028, 61.5612732015156, 40.044766275122136, 60.774305940257356, 83.0388554744785, 47.15951747313148, 49.90979701342878, 52.37225443353593, 39.179794312272094, 41.14556873448858, 40.47279933420873, 40.34990627474399, 40.1650003580839, 62.210093402304466, 58.295536465564616, 25.350772587726873, 11.701537066990323, 11.652617279179879, 13.37352081954156, 8.62804647325555, 15.521441337855773, 5.995747614893376, 13.576311456223673, 5.93772211237801, 5.905496235304634, 12.608447930485598, 26.04295395635587, 4.822289538404442, 15.17012431441088, 13.472177613319827, 6.297075114370484, 13.27949975000118, 13.99449331751897, 10.116174823111965, 14.572241242720784, 17.57126674920785, 18.327076627143644, 7.615661432651403, 5.307569771499986, 7.558649618145414, 5.879537505442622, 5.059791757388633, 5.683811346076751, 234.6352031381971, 27.136186943724557, 37.676305136675005, 66.19027850163002, 22.83517260277241, 43.04483299443211, 21.509215651700362, 23.710225216831482, 79.42458415898959, 69.00782974770826, 84.50530417429357, 44.33595572021165, 63.27002294175509, 77.5662589971807, 43.867783732280316, 47.34374281782852, 49.740621977370836, 43.876370549615395, 40.64419800630809, 31.610506979521254, 45.381990140313754, 21.683271065857443, 47.541254080573566, 25.770716651007554, 32.094345931478614, 32.06084480837204, 29.638641528643028, 33.084626305728456, 30.59478195143318, 29.306144629548214, 27.563090620044647, 26.90342681992573, 26.693941744237573], \"Total\": [323.0, 388.0, 222.0, 207.0, 208.0, 195.0, 176.0, 218.0, 160.0, 144.0, 194.0, 143.0, 105.0, 282.0, 179.0, 117.0, 63.0, 187.0, 74.0, 110.0, 256.0, 61.0, 69.0, 89.0, 84.0, 166.0, 79.0, 77.0, 70.0, 73.0, 53.05137834427402, 47.26436430447818, 46.295962158613165, 35.68483039168136, 26.03856281070014, 24.110103029627723, 25.072254219626586, 21.21571610595378, 20.250196954324345, 18.321227756486433, 34.716503415793454, 17.356652045523806, 31.817801316679006, 19.284330532750122, 16.391763562416585, 15.426298382864882, 14.462512393199548, 14.462193465601061, 33.74023543248316, 13.497764600002979, 14.461666869475913, 12.533172061868676, 29.89371570763253, 31.815160110107335, 16.388512801754533, 12.532790329316926, 12.532693321392031, 14.459560999619201, 11.568385677828697, 11.568430094864535, 56.882927694479946, 46.28732750892893, 28.926294258664736, 25.07386884322967, 25.06459618493336, 59.74393708782833, 64.57067296537151, 37.59563453859065, 43.35205297541152, 32.77245433509616, 56.85401196272688, 63.613701264877776, 44.31644137329291, 71.27607407116489, 46.258711253690706, 68.39423520560534, 104.91500395117646, 63.52127722636701, 149.10576018425226, 211.56259565758185, 214.35476134687212, 87.57174431900232, 132.77996900989967, 171.0440975196719, 89.65020778317863, 161.44297955250426, 109.61592886033813, 161.54363100371714, 113.48418644507352, 180.63131098705688, 89.52524058976566, 83.71141351272156, 182.49759825570703, 64.5106076151774, 235.1939477229279, 156.69275788925177, 160.76061924971253, 112.52786598043315, 123.09356314403598, 94.2304432210295, 169.93149246057573, 118.2202341237026, 256.77802438141583, 166.5808514307478, 171.81634937058735, 123.03727648561602, 99.98572390643606, 282.3410048393881, 188.06414138115386, 138.33016200489476, 388.1509446829325, 137.35540104503224, 207.6662504856667, 176.0867638070984, 144.50573367084866, 143.55390961743288, 222.99030374519282, 77.51783305390015, 84.21458568027701, 79.43209824178658, 72.73391581787173, 68.9041650178367, 49.76302370424678, 61.24983462498529, 73.68979838778526, 59.33463999776785, 41.150668945919385, 37.3224146458217, 37.322520621317075, 89.9669734775032, 195.2491293300062, 35.40953122315233, 30.624265760045922, 31.581367689343573, 29.667587067931883, 30.624500812360452, 30.624079214096646, 24.881941849852687, 23.92539595598254, 23.92528980987281, 22.01140123680224, 20.097086641822653, 36.37174745585538, 194.38923336562397, 40.20349062738352, 179.98264507659115, 388.1509446829325, 66.05395212450553, 126.454029242326, 88.12927146454072, 51.67475204026593, 222.16493430861368, 114.10008770950459, 188.06414138115386, 235.1939477229279, 54.575583826751156, 116.05886546579991, 171.81634937058735, 110.26196576554514, 154.52120482798358, 111.17281318220785, 256.77802438141583, 134.38577373755064, 130.4867866195961, 182.49759825570703, 211.56259565758185, 74.16407521804047, 69.41091216031728, 29.480328484406137, 45.648888414483125, 39.946634551950254, 22.826950088589765, 105.58780835307658, 44.70400349918842, 40.906327878572924, 37.09502977075242, 15.22022685195647, 10.46502993606153, 13.319141677652617, 10.46507602104495, 14.272586272655769, 10.465950310737968, 18.07109758853927, 30.457247002505, 12.368526187882281, 7.612683974883661, 8.564147807940468, 8.564047562220688, 8.564589222083233, 25.686953990173066, 9.516582559460375, 70.4613862265038, 6.6619619701975274, 6.662017528960664, 117.11953642388644, 37.14139780964286, 20.947779197323047, 20.95172769573084, 68.60736539960877, 49.54760097104577, 61.00231570248407, 208.9348699931001, 20.001571056109047, 50.538913334135984, 33.35836004688805, 56.2872169101231, 46.73688197858174, 25.725748301591597, 40.05591185997786, 36.24231468226107, 282.3410048393881, 72.57570502306216, 160.76701067916838, 75.4791705652182, 84.11184356656199, 218.37378555641155, 142.58381538645892, 122.52902826039274, 65.92058193916218, 148.38560165760893, 323.01940541599134, 119.8749818061774, 157.22985806178642, 187.22493057132223, 70.80947735057363, 99.53268092290699, 93.93338080499828, 95.88277814180145, 222.16493430861368, 63.69016898874389, 61.731051159782965, 27.007887258838, 12.5401657657875, 12.538235448306008, 14.465407604691286, 9.640574354818492, 17.353198540561568, 6.748900541757502, 15.418349262422232, 6.748071619467973, 6.746983323710067, 14.464734515745675, 30.82164308195946, 5.778417119965545, 18.295176642035457, 16.367746166283286, 7.702419613471375, 16.364971519214855, 17.326821241546185, 12.536062185818269, 18.287017348764884, 22.134562761579698, 23.096648315323506, 9.638627931619522, 6.737429279787283, 9.623189483401152, 7.706707924553024, 6.745982908062521, 7.692931032598015, 323.01940541599134, 39.40509245858378, 55.78838375502755, 110.74042183362084, 34.71664139166367, 73.86480939865186, 33.603260637085306, 39.49797404126336, 187.22493057132223, 160.76701067916838, 218.37378555641155, 96.11258309422061, 166.5808514307478, 256.77802438141583, 115.1374781780307, 142.3431810198043, 160.76061924971253, 148.38560165760893, 140.3443387351877, 93.93338080499828, 208.9348699931001, 44.259756238429475, 282.3410048393881, 67.15804833440089, 119.8749818061774, 124.88816844626183, 104.04370736956199, 152.60375502956933, 122.52902826039274, 142.58381538645892, 105.61577845510585, 124.73166397357983, 157.22985806178642], \"Category\": [\"Default\", \"Default\", \"Default\", \"Default\", \"Default\", \"Default\", \"Default\", \"Default\", \"Default\", \"Default\", \"Default\", \"Default\", \"Default\", \"Default\", \"Default\", \"Default\", \"Default\", \"Default\", \"Default\", \"Default\", \"Default\", \"Default\", \"Default\", \"Default\", \"Default\", \"Default\", \"Default\", \"Default\", \"Default\", \"Default\", \"Topic1\", \"Topic1\", \"Topic1\", \"Topic1\", \"Topic1\", \"Topic1\", \"Topic1\", \"Topic1\", \"Topic1\", \"Topic1\", \"Topic1\", \"Topic1\", \"Topic1\", \"Topic1\", \"Topic1\", \"Topic1\", \"Topic1\", \"Topic1\", \"Topic1\", \"Topic1\", \"Topic1\", \"Topic1\", \"Topic1\", \"Topic1\", \"Topic1\", \"Topic1\", \"Topic1\", \"Topic1\", \"Topic1\", \"Topic1\", \"Topic1\", \"Topic1\", \"Topic1\", \"Topic1\", \"Topic1\", \"Topic1\", \"Topic1\", \"Topic1\", \"Topic1\", \"Topic1\", \"Topic1\", \"Topic1\", \"Topic1\", \"Topic1\", \"Topic1\", \"Topic1\", \"Topic1\", \"Topic1\", \"Topic1\", \"Topic1\", \"Topic1\", \"Topic1\", \"Topic1\", \"Topic1\", \"Topic1\", \"Topic1\", \"Topic1\", \"Topic1\", \"Topic1\", \"Topic1\", \"Topic1\", \"Topic1\", \"Topic1\", \"Topic1\", \"Topic1\", \"Topic1\", \"Topic1\", \"Topic1\", \"Topic1\", \"Topic1\", \"Topic1\", \"Topic1\", \"Topic1\", \"Topic1\", \"Topic1\", \"Topic1\", \"Topic1\", \"Topic1\", \"Topic1\", \"Topic1\", \"Topic1\", \"Topic1\", \"Topic2\", \"Topic2\", \"Topic2\", \"Topic2\", \"Topic2\", \"Topic2\", \"Topic2\", \"Topic2\", \"Topic2\", \"Topic2\", \"Topic2\", \"Topic2\", \"Topic2\", \"Topic2\", \"Topic2\", \"Topic2\", \"Topic2\", \"Topic2\", \"Topic2\", \"Topic2\", \"Topic2\", \"Topic2\", \"Topic2\", \"Topic2\", \"Topic2\", \"Topic2\", \"Topic2\", \"Topic2\", \"Topic2\", \"Topic2\", \"Topic2\", \"Topic2\", \"Topic2\", \"Topic2\", \"Topic2\", \"Topic2\", \"Topic2\", \"Topic2\", \"Topic2\", \"Topic2\", \"Topic2\", \"Topic2\", \"Topic2\", \"Topic2\", \"Topic2\", \"Topic2\", \"Topic2\", \"Topic2\", \"Topic2\", \"Topic2\", \"Topic2\", \"Topic2\", \"Topic2\", \"Topic2\", \"Topic3\", \"Topic3\", \"Topic3\", \"Topic3\", \"Topic3\", \"Topic3\", \"Topic3\", \"Topic3\", \"Topic3\", \"Topic3\", \"Topic3\", \"Topic3\", \"Topic3\", \"Topic3\", \"Topic3\", \"Topic3\", \"Topic3\", \"Topic3\", \"Topic3\", \"Topic3\", \"Topic3\", \"Topic3\", \"Topic3\", \"Topic3\", \"Topic3\", \"Topic3\", \"Topic3\", \"Topic3\", \"Topic3\", \"Topic3\", \"Topic3\", \"Topic3\", \"Topic3\", \"Topic3\", \"Topic3\", \"Topic3\", \"Topic3\", \"Topic3\", \"Topic3\", \"Topic3\", \"Topic3\", \"Topic3\", \"Topic3\", \"Topic3\", \"Topic3\", \"Topic3\", \"Topic3\", \"Topic3\", \"Topic3\", \"Topic3\", \"Topic3\", \"Topic3\", \"Topic3\", \"Topic3\", \"Topic3\", \"Topic3\", \"Topic3\", \"Topic3\", \"Topic3\", \"Topic3\", \"Topic3\", \"Topic3\", \"Topic3\", \"Topic4\", \"Topic4\", \"Topic4\", \"Topic4\", \"Topic4\", \"Topic4\", \"Topic4\", \"Topic4\", \"Topic4\", \"Topic4\", \"Topic4\", \"Topic4\", \"Topic4\", \"Topic4\", \"Topic4\", \"Topic4\", \"Topic4\", \"Topic4\", \"Topic4\", \"Topic4\", \"Topic4\", \"Topic4\", \"Topic4\", \"Topic4\", \"Topic4\", \"Topic4\", \"Topic4\", \"Topic4\", \"Topic4\", \"Topic4\", \"Topic4\", \"Topic4\", \"Topic4\", \"Topic4\", \"Topic4\", \"Topic4\", \"Topic4\", \"Topic4\", \"Topic4\", \"Topic4\", \"Topic4\", \"Topic4\", \"Topic4\", \"Topic4\", \"Topic4\", \"Topic4\", \"Topic4\", \"Topic4\", \"Topic4\", \"Topic4\", \"Topic4\", \"Topic4\", \"Topic4\", \"Topic4\", \"Topic4\", \"Topic4\", \"Topic4\", \"Topic4\", \"Topic4\", \"Topic4\", \"Topic4\", \"Topic4\", \"Topic4\"], \"logprob\": [30.0, 29.0, 28.0, 27.0, 26.0, 25.0, 24.0, 23.0, 22.0, 21.0, 20.0, 19.0, 18.0, 17.0, 16.0, 15.0, 14.0, 13.0, 12.0, 11.0, 10.0, 9.0, 8.0, 7.0, 6.0, 5.0, 4.0, 3.0, 2.0, 1.0, -6.245500087738037, -6.361199855804443, -6.387199878692627, -6.651800155639648, -6.9720001220703125, -7.049699783325195, -7.0152997970581055, -7.182400226593018, -7.232100009918213, -7.334700107574463, -6.695799827575684, -7.390100002288818, -6.7846999168396, -7.286099910736084, -7.451200008392334, -7.5167999267578125, -7.581600189208984, -7.583199977874756, -6.736400127410889, -7.65310001373291, -7.585000038146973, -7.731500148773193, -6.862800121307373, -6.80049991607666, -7.463900089263916, -7.73330020904541, -7.73390007019043, -7.592899799346924, -7.816500186920166, -7.816800117492676, -6.224800109863281, -6.436100006103516, -6.907199859619141, -7.048900127410889, -7.0507001876831055, -6.200300216674805, -6.136600017547607, -6.661399841308594, -6.543799877166748, -6.809500217437744, -6.298799991607666, -6.194900035858154, -6.532100200653076, -6.1367998123168945, -6.518099784851074, -6.174099922180176, -5.820799827575684, -6.286600112915039, -5.588099956512451, -5.310999870300293, -5.313300132751465, -6.037199974060059, -5.727399826049805, -5.563700199127197, -6.052800178527832, -5.619900226593018, -5.905399799346924, -5.6407999992370605, -5.889800071716309, -5.5858001708984375, -6.068900108337402, -6.133999824523926, -5.6479997634887695, -6.303699970245361, -5.548399925231934, -5.78439998626709, -5.777400016784668, -5.993599891662598, -5.952700138092041, -6.087100028991699, -5.8597002029418945, -6.013899803161621, -5.81689977645874, -5.949699878692627, -5.95389986038208, -6.035200119018555, -6.0883002281188965, -5.884900093078613, -5.964700222015381, -6.031400203704834, -5.94980001449585, -6.058000087738037, -4.622300148010254, -4.78849983215332, -4.987100124359131, -4.994100093841553, -4.554299831390381, -5.612400054931641, -5.530300140380859, -5.589300155639648, -5.679299831390381, -5.734899997711182, -6.061500072479248, -5.854000091552734, -5.669300079345703, -5.886000156402588, -6.253399848937988, -6.3541998863220215, -6.355500221252441, -5.4756999015808105, -4.701499938964844, -6.410099983215332, -6.555699825286865, -6.525599956512451, -6.589399814605713, -6.560299873352051, -6.5609002113342285, -6.769499778747559, -6.809800148010254, -6.812300205230713, -6.898600101470947, -6.991000175476074, -6.406199932098389, -4.775899887084961, -6.309599876403809, -4.889400005340576, -4.201499938964844, -5.852200031280518, -5.309999942779541, -5.6479997634887695, -6.134900093078613, -5.07420015335083, -5.6016998291015625, -5.283999919891357, -5.225399971008301, -6.12470006942749, -5.678899765014648, -5.451700210571289, -5.711699962615967, -5.530700206756592, -5.708799839019775, -5.413899898529053, -5.672299861907959, -5.729899883270264, -5.695000171661377, -5.729400157928467, -5.309899806976318, -5.377600193023682, -6.249899864196777, -5.8130998611450195, -5.9558000564575195, -6.521999835968018, -4.991099834442139, -5.8572001457214355, -5.948500156402588, -6.04640007019043, -6.945300102233887, -7.331600189208984, -7.091899871826172, -7.335899829864502, -7.031000137329102, -7.342100143432617, -6.80049991607666, -6.285200119018555, -7.190000057220459, -7.676799774169922, -7.562600135803223, -7.563000202178955, -7.563000202178955, -6.46619987487793, -7.460599899291992, -5.46999979019165, -7.832099914550781, -7.833399772644043, -4.978600025177002, -6.127999782562256, -6.70550012588501, -6.707099914550781, -5.553100109100342, -5.877900123596191, -5.695499897003174, -4.530700206756592, -6.761300086975098, -5.915299892425537, -6.2967000007629395, -5.8470001220703125, -6.021299839019775, -6.544600009918213, -6.173699855804443, -6.269000053405762, -4.610400199890137, -5.71150016784668, -5.0954999923706055, -5.698200225830078, -5.626500129699707, -4.906700134277344, -5.379000186920166, -5.484499931335449, -5.9145002365112305, -5.497300148010254, -5.185200214385986, -5.750999927520752, -5.694300174713135, -5.646100044250488, -5.936299800872803, -5.887400150299072, -5.903900146484375, -5.906899929046631, -5.911499977111816, -5.11460018157959, -5.179599761962891, -6.01230001449585, -6.785399913787842, -6.789599895477295, -6.651800155639648, -7.090099811553955, -6.502900123596191, -7.454100131988525, -6.6367998123168945, -7.463799953460693, -7.469200134277344, -6.710700035095215, -5.985400199890137, -7.671899795532227, -6.5258002281188965, -6.644499778747559, -7.40500020980835, -6.658899784088135, -6.606400012969971, -6.931000232696533, -6.565999984741211, -6.378799915313721, -6.336699962615967, -7.214900016784668, -7.576000213623047, -7.222400188446045, -7.473599910736084, -7.623799800872803, -7.507500171661377, -3.787100076675415, -5.944200038909912, -5.616099834442139, -5.052599906921387, -6.116799831390381, -5.482900142669678, -6.176599979400635, -6.07919979095459, -4.870299816131592, -5.010900020599365, -4.808300018310547, -5.4532999992370605, -5.097700119018555, -4.894000053405762, -5.463900089263916, -5.387700080871582, -5.3383002281188965, -5.463699817657471, -5.540200233459473, -5.791600227355957, -5.429999828338623, -6.168600082397461, -5.383500099182129, -5.9959001541137695, -5.776400089263916, -5.777500152587891, -5.855999946594238, -5.745999813079834, -5.8242998123168945, -5.867300033569336, -5.928599834442139, -5.952899932861328, -5.960700035095215], \"loglift\": [30.0, 29.0, 28.0, 27.0, 26.0, 25.0, 24.0, 23.0, 22.0, 21.0, 20.0, 19.0, 18.0, 17.0, 16.0, 15.0, 14.0, 13.0, 12.0, 11.0, 10.0, 9.0, 8.0, 7.0, 6.0, 5.0, 4.0, 3.0, 2.0, 1.0, 0.9807, 0.9805, 0.9752, 0.9709, 0.9659, 0.9651, 0.9604, 0.9604, 0.9572, 0.9547, 0.9545, 0.9535, 0.9528, 0.9521, 0.9495, 0.9447, 0.9443, 0.9428, 0.9424, 0.9418, 0.941, 0.9376, 0.9371, 0.937, 0.937, 0.9358, 0.9352, 0.9332, 0.9327, 0.9324, 0.9317, 0.9266, 0.9256, 0.9268, 0.9254, 0.9071, 0.8931, 0.9092, 0.8843, 0.8984, 0.8582, 0.8498, 0.8741, 0.7941, 0.8451, 0.7981, 0.7235, 0.7595, 0.6047, 0.5319, 0.5166, 0.6879, 0.5814, 0.4919, 0.6488, 0.4935, 0.5951, 0.4719, 0.576, 0.4153, 0.634, 0.6361, 0.3427, 0.7269, 0.1886, 0.3588, 0.3402, 0.4807, 0.4319, 0.5646, 0.2024, 0.411, -0.1677, 0.1323, 0.0972, 0.3498, 0.5041, -0.3305, -0.004, 0.2364, -0.7138, 0.2169, 1.2392, 1.238, 1.2371, 1.2366, 1.2361, 1.2345, 1.2338, 1.2333, 1.2314, 1.2299, 1.2287, 1.2286, 1.2284, 1.2283, 1.2268, 1.2237, 1.2224, 1.2224, 1.2218, 1.2204, 1.22, 1.2193, 1.2181, 1.2154, 1.2148, 1.2138, 1.2127, 1.2102, 1.2073, 1.2059, 1.1975, 1.1517, 1.194, 1.1153, 1.0346, 1.1548, 1.0476, 1.0707, 1.1176, 0.7199, 0.8587, 0.6767, 0.5117, 1.0732, 0.7645, 0.5993, 0.783, 0.6264, 0.7776, 0.2354, 0.6245, 0.5963, 0.2958, 0.1136, 1.5813, 1.5798, 1.5638, 1.5634, 1.5542, 1.5475, 1.5469, 1.5402, 1.5377, 1.5376, 1.5295, 1.5179, 1.5163, 1.5135, 1.5081, 1.5073, 1.5026, 1.4959, 1.4923, 1.4908, 1.4873, 1.4869, 1.4868, 1.4853, 1.4838, 1.4725, 1.469, 1.4677, 1.4557, 1.4548, 1.45, 1.4481, 1.416, 1.4167, 1.3911, 1.3248, 1.4403, 1.3594, 1.3935, 1.3201, 1.3317, 1.4054, 1.3336, 1.3382, 0.944, 1.2013, 1.0221, 1.1754, 1.1388, 0.9046, 0.8586, 0.9047, 1.0945, 0.7003, 0.2346, 0.6601, 0.4455, 0.319, 1.0012, 0.7096, 0.751, 0.7274, -0.1174, 1.9289, 1.8951, 1.8891, 1.8832, 1.8791, 1.8739, 1.8414, 1.8408, 1.8341, 1.8252, 1.8245, 1.8192, 1.815, 1.7839, 1.7715, 1.7651, 1.7577, 1.7509, 1.7435, 1.7388, 1.7379, 1.7253, 1.7215, 1.7211, 1.7168, 1.7138, 1.7109, 1.6818, 1.6648, 1.6497, 1.6327, 1.5794, 1.5598, 1.4377, 1.5335, 1.4124, 1.5062, 1.442, 1.0949, 1.1066, 1.003, 1.1787, 0.9843, 0.7553, 0.9874, 0.8516, 0.7793, 0.7339, 0.7131, 0.8633, 0.4255, 1.2388, 0.1709, 0.9946, 0.6346, 0.5926, 0.6967, 0.4236, 0.5649, 0.3703, 0.6091, 0.4185, 0.1791]}, \"token.table\": {\"Topic\": [1, 1, 2, 3, 4, 1, 2, 3, 4, 3, 3, 2, 3, 4, 2, 1, 2, 3, 4, 1, 2, 3, 4, 3, 3, 4, 3, 2, 4, 2, 3, 4, 1, 2, 4, 2, 2, 1, 2, 3, 4, 2, 3, 4, 1, 2, 3, 4, 1, 1, 2, 2, 3, 4, 1, 1, 1, 2, 3, 4, 3, 4, 2, 2, 1, 2, 3, 4, 3, 4, 1, 2, 4, 2, 4, 2, 4, 2, 3, 4, 2, 2, 2, 4, 1, 2, 3, 4, 2, 2, 1, 2, 3, 4, 2, 2, 4, 2, 1, 1, 2, 3, 4, 2, 3, 2, 3, 3, 4, 2, 3, 4, 1, 2, 4, 1, 4, 3, 4, 1, 2, 3, 4, 1, 2, 3, 3, 3, 1, 1, 4, 3, 4, 2, 4, 3, 1, 2, 3, 4, 1, 4, 1, 2, 3, 4, 3, 4, 3, 1, 1, 2, 3, 4, 1, 2, 3, 4, 1, 2, 3, 4, 3, 4, 2, 3, 3, 4, 1, 3, 4, 1, 3, 4, 1, 2, 3, 4, 1, 2, 3, 4, 3, 1, 1, 3, 4, 1, 2, 3, 4, 1, 1, 2, 3, 4, 1, 3, 4, 1, 4, 3, 4, 1, 2, 3, 4, 1, 2, 3, 4, 1, 2, 3, 4, 1, 2, 3, 4, 1, 2, 3, 4, 1, 1, 2, 3, 1, 2, 3, 4, 1, 2, 3, 4, 3, 1, 2, 3, 4, 1, 2, 3, 4, 3, 1, 3, 4, 1, 2, 3, 4, 4, 1, 2, 3, 4, 1, 2, 3, 4, 1, 2, 3, 4, 1, 2, 3, 4, 1, 2, 3, 4, 1, 3, 3, 1, 3, 4, 4, 1, 2, 3, 4, 3, 1, 2, 3, 4, 1, 2, 1, 2, 4, 1, 2, 3, 4, 1, 2, 3, 4, 1, 2, 3, 4, 1, 2, 3, 4, 1, 1, 2, 3, 4, 1, 2, 3, 4, 1, 2, 3, 4, 3, 4, 1, 1, 3, 4, 1, 2, 3, 4, 1, 1, 2, 3, 4, 1, 1, 3, 4, 2, 3, 1, 3, 4, 1, 2, 3, 4, 2, 1, 3, 2, 3, 4, 1, 2, 3, 4, 1, 2, 3, 4, 2, 3, 4, 1, 2, 3, 4, 3, 4, 1, 2, 3, 4, 1, 2, 3, 4, 1, 3, 4, 1, 2, 3, 4, 4, 1, 2, 3, 4, 1, 2, 3, 4, 1, 3, 4, 1, 3, 4, 1, 2, 3, 4, 1, 2, 3, 4, 1, 2, 3, 4, 1, 2, 3, 4, 1, 2, 3, 4, 1, 3, 4, 1, 3, 4, 1, 3, 4, 4, 2, 3, 4, 1, 2, 3, 4, 1, 2, 3, 4, 1, 2, 3, 4, 1, 3, 4, 3, 4, 3, 1, 1, 3, 2, 3, 4, 1, 2, 3, 4, 1, 2, 3, 4, 1, 2, 3, 4, 1, 2, 3, 4, 1, 2, 3, 4, 1, 2, 3, 4, 1, 2, 3, 4, 1, 3, 4, 1, 2, 3, 4, 1, 2, 3, 4, 1, 2, 3, 4, 1, 2, 4, 1, 2, 3, 4, 3, 4, 4, 1, 2, 3, 4, 1, 2, 3, 4, 1, 2, 3, 4, 1, 2, 3, 4, 3, 4, 3, 4, 1, 2, 3, 4, 1, 4, 1, 2, 3, 4, 4, 1, 3, 4, 3, 1, 2, 3, 4, 1, 3, 4, 1, 1, 3, 4, 1, 2, 3, 4, 3, 4, 1, 2, 3, 4, 1, 1, 1, 2, 3, 4, 1, 2, 3, 4, 1, 3, 4, 1, 3, 4, 1, 4, 1, 2, 3, 4, 3, 4, 3, 4, 2, 3, 4, 1, 2, 3, 4, 1, 2, 3, 4, 1, 2, 3, 4, 1, 2, 3, 4, 1, 2, 3, 4, 1, 2, 3, 4, 1, 1, 4, 1, 2, 3, 4, 2, 4], \"Freq\": [0.9572334338095845, 0.009470790383829975, 0.009470790383829975, 0.9565498287668275, 0.01894158076765995, 0.9682174998513922, 0.9881492296071474, 0.005679018560960617, 0.005679018560960617, 0.9006280715890063, 0.9843040553715783, 0.9919763058187363, 0.004815418960285128, 0.004815418960285128, 0.981591434067634, 0.025377430621461864, 0.025377430621461864, 0.25377430621461866, 0.6851906267794703, 0.008538285161757614, 0.034153140647030455, 0.8709050864992766, 0.07684456645581852, 0.9637730802678225, 0.9512691225735507, 0.02503339796246186, 0.9837068136923844, 0.9819707867035394, 0.012589369060301787, 0.9770687608766024, 0.013570399456619479, 0.013570399456619479, 0.9720070153381172, 0.9891754280912725, 0.006966024141487834, 0.9796153231905278, 0.9613216033003146, 0.7027312212411949, 0.011154463829225317, 0.055772319146126584, 0.23424374041373167, 0.9865899830846018, 0.004484499923111826, 0.008968999846223652, 0.18034221211848564, 0.8063873199012287, 0.005152634631956732, 0.007728951947935099, 0.963122441770627, 0.9732490995471109, 0.9774977632524254, 0.026957789390654435, 0.9435226286729053, 0.9569251494855676, 0.9723654779465174, 0.9808089212092486, 0.3086548956464018, 0.03336809682663803, 0.3920751377129969, 0.26694477461310423, 0.17318530140783214, 0.7793338563352447, 0.964554942890926, 0.9796078043463685, 0.9152752407402165, 0.9895801112343516, 0.006920140638002459, 0.006920140638002459, 0.04859790889085757, 0.939559571889913, 0.9801818844846752, 0.9781367161584572, 0.02223037991269221, 0.9795944816400296, 0.016326574694000492, 0.976160835033088, 0.013748744155395606, 0.05762626398024482, 0.05762626398024482, 0.9220202236839171, 0.964565077617997, 0.972037661224132, 0.9775065628135932, 0.016853561427820574, 0.7625220129356238, 0.04765762580847649, 0.12390982710203888, 0.06672067613186708, 0.9645678164617426, 0.9796212904971401, 0.005121661763263588, 0.9731157350200818, 0.005121661763263588, 0.015364985289790765, 0.9601934514673633, 0.9868779337562156, 0.014512910790532582, 0.9613258682663485, 0.9574591285241495, 0.00514431783430677, 0.9053999388379915, 0.01028863566861354, 0.07716476751460155, 0.9855774902831177, 0.011874427593772503, 0.984666854072582, 0.9940800063343325, 0.9638788923070474, 0.021906338461523803, 0.9454106626808494, 0.5660365246300587, 0.42919252966455, 0.9539569354696008, 0.9451915594144287, 0.049746924179706775, 0.1595397318834737, 0.7976986594173686, 0.06913044051905522, 0.8986957267477178, 0.024446095551974696, 0.024446095551974696, 0.953397726527013, 0.024446095551974696, 0.022369361169590877, 0.022369361169590877, 0.9395131691228168, 0.9009589574479919, 0.955559231475271, 0.9601144341855397, 0.10374920653587007, 0.8299936522869605, 0.015701010310974872, 0.9734626392804422, 0.9804195629043867, 0.012900257406636667, 0.9457176401052872, 0.655219312436453, 0.27112523273232536, 0.030125025859147263, 0.03765628232393408, 0.12975709080839445, 0.7785425448503668, 0.2438134111550114, 0.027090379017223488, 0.12642176874704295, 0.5959883383789167, 0.14842456350526212, 0.7421228175263106, 0.9340786571961354, 0.9382624792665352, 0.4092695117223682, 0.5357709971638275, 0.04464758309698562, 0.014882527698995207, 0.2542032602625075, 0.014122403347917084, 0.5507737305687663, 0.1835912435229221, 0.2840484673675166, 0.2840484673675166, 0.17042908042050997, 0.26511190287634884, 0.1640508095325136, 0.820254047662568, 0.08085037657758465, 0.8893541423534311, 0.910837023623822, 0.0700643864326017, 0.060547835640985245, 0.8476696989737934, 0.08073044752131366, 0.019786733311587854, 0.7914693324635141, 0.17808059980429067, 0.7308293388203362, 0.15986891786694854, 0.07993445893347427, 0.03425762525720326, 0.6928565361184086, 0.1791870352030367, 0.07167481408121468, 0.047783209387476454, 0.9341268015695147, 0.9574882914883995, 0.9317382587032919, 0.03515993429069026, 0.01757996714534513, 0.9176289867309166, 0.039896912466561595, 0.8591176947983966, 0.0954575216442663, 0.9824669088362429, 0.6925421209880301, 0.12287037630432794, 0.0781902394663905, 0.10053030788535922, 0.02997749285619598, 0.8093923071172915, 0.11990997142478392, 0.9172896350301504, 0.039882158044789146, 0.1298293328827503, 0.7789759972965018, 0.06055655825801874, 0.9083483738702811, 0.015139139564504685, 0.015139139564504685, 0.13616361284489073, 0.8396756125434929, 0.022693935474148455, 0.011346967737074228, 0.44644005943425075, 0.4762027300632008, 0.07228077152745012, 0.004251810089850008, 0.6659616057535711, 0.05473657033590996, 0.19157799617568486, 0.08210485550386493, 0.05830277808660482, 0.014575694521651205, 0.8308145877341188, 0.08745416712990724, 0.9508636789777661, 0.8996113753164142, 0.023066958341446515, 0.06920087502433955, 0.8647019970062101, 0.021617549925155254, 0.04323509985031051, 0.06485264977546576, 0.759565005065489, 0.12401061307191658, 0.06200530653595829, 0.046503979901968716, 0.9341377359101881, 0.08267229368413849, 0.041336146842069245, 0.675157065087131, 0.19290201859632317, 0.4202163657994083, 0.13206800067981403, 0.07203709127989856, 0.37819472921946745, 0.9555634394834286, 0.06566581673765548, 0.9193214343271767, 0.03283290836882774, 0.5686731150847474, 0.2030975411016955, 0.10561072137288166, 0.1218585246610173, 0.9335543369884053, 0.3607744703023582, 0.1042237358651257, 0.32068841804654064, 0.21646468218141493, 0.2541628195223928, 0.6748461070077325, 0.04382117577972289, 0.026292705467833733, 0.6286555503188431, 0.3214178753509874, 0.042540601149395396, 0.009453466922087865, 0.6706649017209562, 0.10730638427535298, 0.1408396293614008, 0.08047978820651473, 0.5880764187961953, 0.34665557318512563, 0.030951390462957647, 0.030951390462957647, 0.9428684182610032, 0.03142894727536678, 0.9554794073253045, 0.0477377573336171, 0.8592796320051078, 0.0477377573336171, 0.9570724723965264, 0.07169951396269886, 0.07169951396269886, 0.17924878490674714, 0.6811453826456392, 0.9198286028306065, 0.2601116232147473, 0.020808929857179782, 0.2601116232147473, 0.4577964568579552, 0.9429466925885224, 0.03143155641961741, 0.9043603178209466, 0.05319766575417333, 0.026598832877086667, 0.036646424275532274, 0.8428677583372423, 0.054969636413298405, 0.07329284855106455, 0.26085514227718737, 0.6206553385215837, 0.098945053967209, 0.00899500490610991, 0.5582800650770097, 0.41448065437535564, 0.02537636659440953, 0.008458788864803177, 0.013538246536357426, 0.013538246536357426, 0.3926091495543654, 0.5821446010633693, 0.9508673298368646, 0.18694091589830744, 0.10682338051331854, 0.2777407893346282, 0.42195235302760825, 0.6008313292338228, 0.16104757278432363, 0.17962998502866867, 0.0557472367330351, 0.4074117524695997, 0.5238151103180568, 0.058201678924228534, 0.01746050367726856, 0.06485778619876065, 0.908009006782649, 0.9334003049486745, 0.9038574059927741, 0.06695240044390918, 0.016738100110977296, 0.5201675608243984, 0.23570092599855555, 0.1219142720682184, 0.1219142720682184, 0.968019913786416, 0.8187824577854252, 0.0731055765879844, 0.05848446127038752, 0.043863345952790636, 0.9760999747876531, 0.28804629708221857, 0.028804629708221858, 0.6625064832891028, 0.07786053577100385, 0.8953961613665442, 0.9505565582099328, 0.02880474418817978, 0.02880474418817978, 0.10280415798446312, 0.8145252517230539, 0.023724036457953027, 0.055356085068557055, 0.9540510290134908, 0.9484225462514775, 0.02963820457035867, 0.03702622091155102, 0.03702622091155102, 0.9256555227887756, 0.11912198460809198, 0.26802446536820695, 0.23824396921618396, 0.38714644997629893, 0.19720699692848045, 0.09101861396699099, 0.6067907597799399, 0.09101861396699099, 0.02692413476534193, 0.8615723124909418, 0.10769653906136772, 0.4626612090408409, 0.4409739648670515, 0.043374488347578836, 0.043374488347578836, 0.2078313020282683, 0.8313252081130732, 0.6158015766507542, 0.1772762114600656, 0.15395039416268855, 0.05598196151370493, 0.42751991666163697, 0.05700265555488493, 0.2208852902751791, 0.2921386097187853, 0.2784952967083412, 0.10127101698485136, 0.6076261019091082, 0.5205547958329318, 0.38356669166637086, 0.08767238666659906, 0.010959048333324882, 0.8652888665174475, 0.33005178840518573, 0.5371431066202043, 0.05824443324797395, 0.07765924433063194, 0.05805543097066715, 0.8708314645600073, 0.05805543097066715, 0.019351810323555717, 0.017766023173552088, 0.7639389964627399, 0.21319227808262506, 0.08196410156600654, 0.8196410156600654, 0.09835692187920785, 0.6021838899652991, 0.16370047494202306, 0.1812398115429541, 0.052618009802793124, 0.8645936159411377, 0.07859941963101251, 0.015719883926202504, 0.04715965177860751, 0.8618565042010418, 0.08794454124500427, 0.017588908249000855, 0.017588908249000855, 0.45866416260795834, 0.254813423671088, 0.16016843773611245, 0.1310469036022738, 0.29295478517338325, 0.611758521979712, 0.05169790326589116, 0.0430815860549093, 0.8982405995846553, 0.06194762755756243, 0.030973813778781216, 0.8800345603449821, 0.09025995490717764, 0.02256498872679441, 0.9334068083025283, 0.03457062252972327, 0.03457062252972327, 0.8891429045729434, 0.0324447336354148, 0.1297789345416592, 0.8435630745207848, 0.26563622964600675, 0.046043613138641165, 0.5241888265014533, 0.1700071869734443, 0.38639012846247844, 0.1475307763220372, 0.14050550125908307, 0.3301879279588452, 0.559150013627688, 0.2546623824442935, 0.13840346871972475, 0.04982524873910091, 0.049996072668230314, 0.8499332353599153, 0.09999214533646063, 0.1833183758662558, 0.7943796287537751, 0.9195180074589889, 0.9680412610507246, 0.055336981890585446, 0.9407286921399526, 0.038871561218615056, 0.8163027855909161, 0.11661468365584515, 0.6520732299192724, 0.17623600808628984, 0.1145534052560884, 0.05287080242588695, 0.2811486244124893, 0.6257824220794116, 0.07255448371935207, 0.018138620929838017, 0.5296990181171183, 0.41482453226039384, 0.012763831761858272, 0.04467341116650395, 0.15070426980278212, 0.2411268316844514, 0.41192500412760447, 0.19089207508352402, 0.31155314086056174, 0.362180526250403, 0.02336648556454213, 0.30376431233904766, 0.18771062112009504, 0.057129319471333276, 0.5060025438889518, 0.2530012719444759, 0.19107592374033605, 0.09553796187016803, 0.3300402319151259, 0.3821518474806721, 0.1188893213603919, 0.630113403210077, 0.2377786427207838, 0.021396378142176303, 0.021396378142176303, 0.770269613118347, 0.21396378142176303, 0.8137372990281491, 0.11223962745215849, 0.04208986029455943, 0.02805990686303962, 0.10532399729846928, 0.00457930423036823, 0.5037234653405053, 0.3892408595812995, 0.9289799673939957, 0.021604185288232457, 0.04320837057646491, 0.014358541492375459, 0.004786180497458486, 0.7657888795933577, 0.21537812238563186, 0.12998946640267559, 0.7799367984160535, 0.8892863242917708, 0.07778527754185598, 0.8723063267193848, 0.03889263877092799, 0.0055560912529897125, 0.31454009759261337, 0.24901091059415226, 0.2227992357947678, 0.2162463170949217, 0.5162955976866108, 0.03732257332674295, 0.1368494355313908, 0.31102144438952456, 0.07413118171250775, 0.22239354513752327, 0.411091098587543, 0.296524726850031, 0.1093184307061977, 0.8198882302964828, 0.12219153325580628, 0.7942449661627409, 0.6100870966047328, 0.26003712314300087, 0.09001285031873106, 0.04000571125276936, 0.06913365737279477, 0.898737545846332, 0.17533546799992722, 0.14026837439994178, 0.47691247295980205, 0.20338914287991558, 0.8890336971001682, 0.9154029079803424, 0.030513430266011412, 0.030513430266011412, 0.9006355825567854, 0.7871378250443227, 0.04722826950265936, 0.12594205200709163, 0.03148551300177291, 0.17475572705646225, 0.7739182198214757, 0.049930207730417786, 0.9680765105680627, 0.08515302240453397, 0.879914564846851, 0.014192170400755662, 0.6473491784063536, 0.14857194258506476, 0.13795966097184584, 0.06367368967931347, 0.17314197210083818, 0.8079958698039116, 0.3363008723926654, 0.24822207248030065, 0.1521361089395391, 0.25622923610869747, 0.957495702820496, 0.979451564472897, 0.11923819422768431, 0.01324868824752048, 0.662434412376024, 0.21197901196032767, 0.32187167059635885, 0.5211255619179143, 0.08429972325142732, 0.06897250084207689, 0.31631443979450125, 0.1807511084540007, 0.4970655482485019, 0.32331144967612396, 0.4171760640982245, 0.25030563845893467, 0.9366517121473453, 0.03345184686240519, 0.003095789241244434, 0.012383156964977736, 0.25695050702328803, 0.727510471692442, 0.18071285360752834, 0.8132078412338775, 0.3273491855091037, 0.6546983710182074, 0.027592056654412684, 0.7725775863235551, 0.19314439658088878, 0.2022710120424942, 0.03193752821723592, 0.42583370956314565, 0.3406669676505165, 0.5670693739356357, 0.10572479853037275, 0.04805672660471489, 0.28834035962828936, 0.3668960998798603, 0.5636374867719594, 0.05849068258954295, 0.010634669561735081, 0.4531237787949404, 0.2589278735971088, 0.18831118079789733, 0.10004031479888295, 0.5954080744022131, 0.10664025213173965, 0.1510736905199645, 0.14218700284231953, 0.31164564163598324, 0.20352368433370335, 0.31800575677141146, 0.1717231086565622, 0.9426973805700287, 0.14823636727641887, 0.7411818363820943, 0.18904873593443408, 0.5896520097002587, 0.1800464151756515, 0.040510443414521584, 0.9622853574049397, 0.02749386735442685], \"Term\": [\"Agatha\", \"Ahab\", \"Ahab\", \"Ahab\", \"Ahab\", \"Arabian\", \"Bennet\", \"Bennet\", \"Bennet\", \"Bible\", \"Bildad\", \"Bingley\", \"Bingley\", \"Bingley\", \"Bourgh\", \"CHAPTER\", \"CHAPTER\", \"CHAPTER\", \"CHAPTER\", \"Captain\", \"Captain\", \"Captain\", \"Captain\", \"Captain Ahab\", \"Captain_Ahab\", \"Captain_Ahab\", \"Captain_Peleg\", \"Catherine\", \"Catherine\", \"Charlotte\", \"Charlotte\", \"Charlotte\", \"Clerval\", \"Collins\", \"Collins\", \"Colonel\", \"Colonel_Fitzwilliam\", \"Count\", \"Count\", \"Count\", \"Count\", \"Darcy\", \"Darcy\", \"Darcy\", \"Elizabeth\", \"Elizabeth\", \"Elizabeth\", \"Elizabeth\", \"Ernest\", \"Felix\", \"Fitzwilliam\", \"Flask\", \"Flask\", \"Folio\", \"Frankenstein\", \"Geneva\", \"God\", \"God\", \"God\", \"God\", \"Greenland\", \"Greenland\", \"Hertfordshire\", \"Hurst\", \"Ingolstadt\", \"Jane\", \"Jane\", \"Jane\", \"Jonah\", \"Jonah\", \"Justine\", \"Lady\", \"Lady\", \"Lady Catherine\", \"Lady Catherine\", \"Lady_Catherine\", \"Lady_Catherine\", \"Leviathan\", \"Leviathan\", \"Leviathan\", \"Lizzy\", \"Longbourn\", \"Lucas\", \"Lucas\", \"Lucy\", \"Lucy\", \"Lucy\", \"Lucy\", \"Lydia\", \"Meryton\", \"Miss\", \"Miss\", \"Miss\", \"Miss\", \"Miss_Bennet\", \"Miss_Bingley\", \"Miss_Bingley\", \"Miss_Lucas\", \"Mont\", \"Mrs\", \"Mrs\", \"Mrs\", \"Mrs\", \"Mrs_Bennet\", \"Mrs_Bennet\", \"Netherfield\", \"Peleg\", \"Pequod\", \"Pequod\", \"Phillips\", \"Queequeg\", \"Queequeg\", \"Safie\", \"Sir_William\", \"Sir_William\", \"South\", \"South\", \"Sperm\", \"Sperm\", \"Starbuck\", \"Starbuck\", \"Starbuck\", \"Starbuck\", \"Stubb\", \"Stubb\", \"Stubb\", \"Tashtego\", \"Thou\", \"Victor\", \"West\", \"West\", \"Whale\", \"Whale\", \"Wickham\", \"Wickham\", \"aloft\", \"appear\", \"appear\", \"appear\", \"appear\", \"available\", \"available\", \"bed\", \"bed\", \"bed\", \"bed\", \"bedfellow\", \"bedfellow\", \"beef\", \"beheld\", \"believe\", \"believe\", \"believe\", \"believe\", \"boat\", \"boat\", \"boat\", \"boat\", \"book\", \"book\", \"book\", \"book\", \"boot\", \"boot\", \"brave\", \"brave\", \"bulwark\", \"bulwark\", \"cabin\", \"cabin\", \"cabin\", \"captain\", \"captain\", \"captain\", \"cause\", \"cause\", \"cause\", \"cause\", \"child\", \"child\", \"child\", \"child\", \"commander\", \"contemplate\", \"cottage\", \"cottage\", \"cottage\", \"cottager\", \"cottager\", \"craft\", \"craft\", \"creator\", \"creature\", \"creature\", \"creature\", \"creature\", \"crew\", \"crew\", \"crew\", \"crime\", \"crime\", \"crooked\", \"crooked\", \"dance\", \"dance\", \"dance\", \"dance\", \"daughter\", \"daughter\", \"daughter\", \"daughter\", \"dear\", \"dear\", \"dear\", \"dear\", \"death\", \"death\", \"death\", \"death\", \"deck\", \"deck\", \"deck\", \"deck\", \"desolate\", \"despair\", \"despair\", \"despair\", \"destroy\", \"destroy\", \"destroy\", \"destroy\", \"discover\", \"discover\", \"discover\", \"discover\", \"doesn\", \"don\", \"don\", \"don\", \"don\", \"door\", \"door\", \"door\", \"door\", \"dost\", \"driver\", \"driver\", \"driver\", \"enter\", \"enter\", \"enter\", \"enter\", \"entry\", \"face\", \"face\", \"face\", \"face\", \"family\", \"family\", \"family\", \"family\", \"father\", \"father\", \"father\", \"father\", \"fear\", \"fear\", \"fear\", \"fear\", \"feeling\", \"feeling\", \"feeling\", \"feeling\", \"fiend\", \"fiend\", \"fiery\", \"fight\", \"fight\", \"fight\", \"fin\", \"fish\", \"fish\", \"fish\", \"fish\", \"fishery\", \"foot\", \"foot\", \"foot\", \"foot\", \"forever\", \"forever\", \"gentle\", \"gentle\", \"gentle\", \"gentleman\", \"gentleman\", \"gentleman\", \"gentleman\", \"girl\", \"girl\", \"girl\", \"girl\", \"happy\", \"happy\", \"happy\", \"happy\", \"harpooneer\", \"harpooneer\", \"harpooneer\", \"harpooneer\", \"hatred\", \"head\", \"head\", \"head\", \"head\", \"heart\", \"heart\", \"heart\", \"heart\", \"hope\", \"hope\", \"hope\", \"hope\", \"horn\", \"horn\", \"horrible\", \"horror\", \"horror\", \"horror\", \"hour\", \"hour\", \"hour\", \"hour\", \"hovel\", \"human\", \"human\", \"human\", \"human\", \"inhabit\", \"key\", \"key\", \"key\", \"kick\", \"kick\", \"labour\", \"labour\", \"labour\", \"lady\", \"lady\", \"lady\", \"lady\", \"ladyship\", \"lake\", \"lake\", \"landlord\", \"landlord\", \"landlord\", \"large\", \"large\", \"large\", \"large\", \"lay\", \"lay\", \"lay\", \"lay\", \"leg\", \"leg\", \"leg\", \"letter\", \"letter\", \"letter\", \"letter\", \"leviathan\", \"leviathan\", \"life\", \"life\", \"life\", \"life\", \"light\", \"light\", \"light\", \"light\", \"lock\", \"lock\", \"lock\", \"love\", \"love\", \"love\", \"love\", \"lowly\", \"manner\", \"manner\", \"manner\", \"manner\", \"marry\", \"marry\", \"marry\", \"marry\", \"mast\", \"mast\", \"mast\", \"mate\", \"mate\", \"mate\", \"mind\", \"mind\", \"mind\", \"mind\", \"miserable\", \"miserable\", \"miserable\", \"miserable\", \"misery\", \"misery\", \"misery\", \"misery\", \"moment\", \"moment\", \"moment\", \"moment\", \"mother\", \"mother\", \"mother\", \"mother\", \"mountain\", \"mountain\", \"mountain\", \"murder\", \"murder\", \"murder\", \"murderer\", \"murderer\", \"murderer\", \"naturalist\", \"oil\", \"oil\", \"oil\", \"old\", \"old\", \"old\", \"old\", \"open\", \"open\", \"open\", \"open\", \"pass\", \"pass\", \"pass\", \"pass\", \"passenger\", \"passenger\", \"passenger\", \"pier\", \"pier\", \"pious\", \"protector\", \"pulpit\", \"pulpit\", \"queer\", \"queer\", \"queer\", \"remain\", \"remain\", \"remain\", \"remain\", \"reply\", \"reply\", \"reply\", \"reply\", \"return\", \"return\", \"return\", \"return\", \"right\", \"right\", \"right\", \"right\", \"room\", \"room\", \"room\", \"room\", \"round\", \"round\", \"round\", \"round\", \"run\", \"run\", \"run\", \"run\", \"sail\", \"sail\", \"sail\", \"sailor\", \"sailor\", \"sailor\", \"sailor\", \"scene\", \"scene\", \"scene\", \"scene\", \"sea\", \"sea\", \"sea\", \"sea\", \"sensation\", \"sensation\", \"sensation\", \"ship\", \"ship\", \"ship\", \"ship\", \"shirt\", \"shirt\", \"shoal\", \"sister\", \"sister\", \"sister\", \"sister\", \"sit\", \"sit\", \"sit\", \"sit\", \"sleep\", \"sleep\", \"sleep\", \"sleep\", \"sort\", \"sort\", \"sort\", \"sort\", \"sperm\", \"sperm\", \"sperm_whale\", \"sperm_whale\", \"spirit\", \"spirit\", \"spirit\", \"spirit\", \"spout\", \"spout\", \"stand\", \"stand\", \"stand\", \"stand\", \"swing\", \"tale\", \"tale\", \"tale\", \"tar\", \"tear\", \"tear\", \"tear\", \"tear\", \"thee\", \"thee\", \"thee\", \"thirst\", \"thou\", \"thou\", \"thou\", \"thought\", \"thought\", \"thought\", \"thought\", \"tomahawk\", \"tomahawk\", \"try\", \"try\", \"try\", \"try\", \"unfortunate\", \"victim\", \"voyage\", \"voyage\", \"voyage\", \"voyage\", \"walk\", \"walk\", \"walk\", \"walk\", \"wall\", \"wall\", \"wall\", \"water\", \"water\", \"water\", \"weep\", \"weep\", \"whale\", \"whale\", \"whale\", \"whale\", \"whale_ship\", \"whale_ship\", \"whaleman\", \"whaleman\", \"whaling\", \"whaling\", \"whaling\", \"white\", \"white\", \"white\", \"white\", \"window\", \"window\", \"window\", \"window\", \"wish\", \"wish\", \"wish\", \"wish\", \"word\", \"word\", \"word\", \"word\", \"work\", \"work\", \"work\", \"work\", \"world\", \"world\", \"world\", \"world\", \"wretch\", \"wrist\", \"wrist\", \"young\", \"young\", \"young\", \"young\", \"young_lady\", \"young_lady\"]}, \"R\": 30, \"lambda.step\": 0.01, \"plot.opts\": {\"xlab\": \"PC1\", \"ylab\": \"PC2\"}, \"topic.order\": [2, 4, 1, 3]};\n",
       "\n",
       "function LDAvis_load_lib(url, callback){\n",
       "  var s = document.createElement('script');\n",
       "  s.src = url;\n",
       "  s.async = true;\n",
       "  s.onreadystatechange = s.onload = callback;\n",
       "  s.onerror = function(){console.warn(\"failed to load library \" + url);};\n",
       "  document.getElementsByTagName(\"head\")[0].appendChild(s);\n",
       "}\n",
       "\n",
       "if(typeof(LDAvis) !== \"undefined\"){\n",
       "   // already loaded: just create the visualization\n",
       "   !function(LDAvis){\n",
       "       new LDAvis(\"#\" + \"ldavis_el4748041404680239591046394267984\", ldavis_el4748041404680239591046394267984_data);\n",
       "   }(LDAvis);\n",
       "}else if(typeof define === \"function\" && define.amd){\n",
       "   // require.js is available: use it to load d3/LDAvis\n",
       "   require.config({paths: {d3: \"https://cdnjs.cloudflare.com/ajax/libs/d3/3.5.5/d3.min\"}});\n",
       "   require([\"d3\"], function(d3){\n",
       "      window.d3 = d3;\n",
       "      LDAvis_load_lib(\"https://cdn.rawgit.com/bmabey/pyLDAvis/files/ldavis.v1.0.0.js\", function(){\n",
       "        new LDAvis(\"#\" + \"ldavis_el4748041404680239591046394267984\", ldavis_el4748041404680239591046394267984_data);\n",
       "      });\n",
       "    });\n",
       "}else{\n",
       "    // require.js not available: dynamically load d3 & LDAvis\n",
       "    LDAvis_load_lib(\"https://cdnjs.cloudflare.com/ajax/libs/d3/3.5.5/d3.min.js\", function(){\n",
       "         LDAvis_load_lib(\"https://cdn.rawgit.com/bmabey/pyLDAvis/files/ldavis.v1.0.0.js\", function(){\n",
       "                 new LDAvis(\"#\" + \"ldavis_el4748041404680239591046394267984\", ldavis_el4748041404680239591046394267984_data);\n",
       "            })\n",
       "         });\n",
       "}\n",
       "</script>"
      ],
      "text/plain": [
       "<IPython.core.display.HTML object>"
      ]
     },
     "execution_count": 86,
     "metadata": {},
     "output_type": "execute_result"
    }
   ],
   "source": [
    "# plot topics\n",
    "data =  pyLDAvis.gensim.prepare(model, corpus, dictionary)\n",
    "pyLDAvis.display(data)"
   ]
  },
  {
   "cell_type": "code",
   "execution_count": 87,
   "metadata": {},
   "outputs": [],
   "source": [
    "# assignment\n",
    "sent_to_cluster = list()\n",
    "for n,doc in enumerate(corpus):\n",
    "    if doc:\n",
    "        cluster = max(model[doc],key=lambda x:x[1])\n",
    "        sent_to_cluster.append(cluster[0])"
   ]
  },
  {
   "cell_type": "code",
   "execution_count": 88,
   "metadata": {},
   "outputs": [
    {
     "name": "stdout",
     "output_type": "stream",
     "text": [
      "DRACULA.txt : 1 - 31\n",
      "Accuracy: 0.5166666666666667\n",
      "------\n",
      "Frankenstein.txt : 1 - 60\n",
      "Accuracy: 1.0\n",
      "------\n",
      "Moby_Dick.txt : 0 - 35\n",
      "Accuracy: 0.5833333333333334\n",
      "------\n",
      "PRIDE_AND_PREJUDICE.txt : 3 - 60\n",
      "Accuracy: 1.0\n",
      "------\n"
     ]
    }
   ],
   "source": [
    "# accuracy\n",
    "from collections import Counter\n",
    "for book, cluster in book_id.items():\n",
    "    assignments = list()\n",
    "    for real,given in zip(chunk_class,sent_to_cluster):\n",
    "        if real == cluster:\n",
    "            assignments.append(given)\n",
    "    most_common,num_most_common = Counter(assignments).most_common(1)[0] # 4, 6 times\n",
    "    print(book,\":\",most_common,\"-\",num_most_common)\n",
    "    print(\"Accuracy:\",num_most_common/limit)\n",
    "    print(\"------\")"
   ]
  },
  {
   "cell_type": "markdown",
   "metadata": {},
   "source": [
    "# Task 4: Semantic analysis based on lexical categories"
   ]
  },
  {
   "cell_type": "code",
   "execution_count": 89,
   "metadata": {},
   "outputs": [],
   "source": [
    "from empath import Empath\n",
    "lexicon = Empath()"
   ]
  },
  {
   "cell_type": "markdown",
   "metadata": {},
   "source": [
    "### Let's see what pre-build categories we can study! More information: https://hci.stanford.edu/publications/2016/ethan/empath-chi-2016.pdf"
   ]
  },
  {
   "cell_type": "code",
   "execution_count": 90,
   "metadata": {},
   "outputs": [
    {
     "name": "stdout",
     "output_type": "stream",
     "text": [
      "help\n",
      "office\n",
      "dance\n",
      "money\n",
      "wedding\n",
      "domestic_work\n",
      "sleep\n",
      "medical_emergency\n",
      "cold\n",
      "hate\n",
      "cheerfulness\n",
      "aggression\n",
      "occupation\n",
      "envy\n",
      "anticipation\n"
     ]
    }
   ],
   "source": [
    "for cat in list(lexicon.cats.keys())[:15]:\n",
    "    print(cat)"
   ]
  },
  {
   "cell_type": "markdown",
   "metadata": {},
   "source": [
    "### For each category, we can examine representative terms"
   ]
  },
  {
   "cell_type": "code",
   "execution_count": 91,
   "metadata": {},
   "outputs": [
    {
     "data": {
      "text/plain": [
       "['surgeon',\n",
       " 'anemic',\n",
       " 'healthy',\n",
       " 'psychologist',\n",
       " 'anorexia',\n",
       " 'institution',\n",
       " 'vitamin',\n",
       " 'pharmacist',\n",
       " 'checkup',\n",
       " 'physician',\n",
       " 'cure',\n",
       " 'prenatal',\n",
       " 'nursing',\n",
       " 'severe',\n",
       " 'deficiency']"
      ]
     },
     "execution_count": 91,
     "metadata": {},
     "output_type": "execute_result"
    }
   ],
   "source": [
    "lexicon.cats[\"health\"][:15]"
   ]
  },
  {
   "cell_type": "markdown",
   "metadata": {},
   "source": [
    "### Studying Pride and Prejudice"
   ]
  },
  {
   "cell_type": "code",
   "execution_count": 92,
   "metadata": {},
   "outputs": [],
   "source": [
    "nlp = spacy.load('en')\n",
    "doc = nlp(books[3])"
   ]
  },
  {
   "cell_type": "code",
   "execution_count": 93,
   "metadata": {},
   "outputs": [],
   "source": [
    "empath_features = lexicon.analyze(doc.text,categories = [\"disappointment\", \"pain\", \"joy\", \"beauty\", \"affection\"])"
   ]
  },
  {
   "cell_type": "code",
   "execution_count": 94,
   "metadata": {},
   "outputs": [
    {
     "data": {
      "text/plain": [
       "{'disappointment': 149.0,\n",
       " 'pain': 228.0,\n",
       " 'joy': 278.0,\n",
       " 'beauty': 136.0,\n",
       " 'affection': 439.0}"
      ]
     },
     "execution_count": 94,
     "metadata": {},
     "output_type": "execute_result"
    }
   ],
   "source": [
    "empath_features"
   ]
  },
  {
   "cell_type": "code",
   "execution_count": 95,
   "metadata": {},
   "outputs": [],
   "source": [
    "empath_features = lexicon.analyze(doc.text,categories = [\"disappointment\", \"pain\", \"joy\", \"beauty\", \"affection\"], normalize = True)"
   ]
  },
  {
   "cell_type": "code",
   "execution_count": 96,
   "metadata": {},
   "outputs": [
    {
     "data": {
      "text/plain": [
       "{'disappointment': 0.0012256615693403638,\n",
       " 'pain': 0.001875508978587939,\n",
       " 'joy': 0.002286804807225645,\n",
       " 'beauty': 0.0011187246538945602,\n",
       " 'affection': 0.0036111773754390585}"
      ]
     },
     "execution_count": 96,
     "metadata": {},
     "output_type": "execute_result"
    }
   ],
   "source": [
    "empath_features"
   ]
  },
  {
   "cell_type": "markdown",
   "metadata": {},
   "source": [
    "### Usecase: the evolution of topics"
   ]
  },
  {
   "cell_type": "code",
   "execution_count": 97,
   "metadata": {},
   "outputs": [],
   "source": [
    "bins = range(0,len(doc.text),150000)"
   ]
  },
  {
   "cell_type": "code",
   "execution_count": 98,
   "metadata": {},
   "outputs": [],
   "source": [
    "love = []\n",
    "pain = []\n",
    "beauty = []\n",
    "affection = []\n",
    "\n",
    "\n",
    "for cnt,i in enumerate(bins[:-1]):\n",
    "    empath_features = lexicon.analyze(doc.text[bins[cnt]:bins[cnt+1]],\n",
    "                                      categories = [\"love\", \"pain\", \"joy\", \"beauty\", \"affection\"], normalize = True)\n",
    "    love.append(empath_features[\"love\"])\n",
    "    pain.append(empath_features[\"pain\"])\n",
    "    beauty.append(empath_features[\"beauty\"])\n",
    "    affection.append(empath_features[\"affection\"])"
   ]
  },
  {
   "cell_type": "code",
   "execution_count": 100,
   "metadata": {},
   "outputs": [
    {
     "data": {
      "image/png": "[encoded data removed]",
      "text/plain": [
       "<Figure size 432x288 with 1 Axes>"
      ]
     },
     "metadata": {
      "needs_background": "light"
     },
     "output_type": "display_data"
    }
   ],
   "source": [
    "plt.plot(love,label = \"love\")\n",
    "plt.plot(beauty, label = \"beauty\")\n",
    "plt.plot(affection, label = \"affection\")\n",
    "plt.plot(pain,label = \"pain\")\n",
    "\n",
    "plt.xlabel(\"progression in the book\")\n",
    "plt.ylabel(\"frequency of a category\")\n",
    "plt.legend();"
   ]
  },
  {
   "cell_type": "code",
   "execution_count": 67,
   "metadata": {
    "collapsed": true,
    "jupyter": {
     "outputs_hidden": true
    }
   },
   "outputs": [],
   "source": [
    "# We can observe how as the story progresses, beauty and affection categories decrease, while love and pain intensify!"
   ]
  },
  {
   "cell_type": "markdown",
   "metadata": {},
   "source": [
    "### We can create custom categories based on seed terms!\n",
    "### Models trained on: fiction, nytimes or reddit"
   ]
  },
  {
   "cell_type": "code",
   "execution_count": 101,
   "metadata": {},
   "outputs": [
    {
     "name": "stdout",
     "output_type": "stream",
     "text": [
      "[\"avocado\", \"kale\", \"Swiss_chard\", \"escarole\", \"black_beans\", \"cucumber\", \"dill\", \"leek\", \"mango\", \"red_peppers\", \"chicory\", \"chanterelles\", \"chutney\", \"tamarind\", \"papaya\", \"black_olives\", \"endive\", \"pesto\", \"walnuts\", \"green_beans\", \"bok_choy\", \"portobello_mushrooms\", \"lemon_grass\", \"radicchio\", \"ricotta\", \"chicken_breast\", \"porcini\", \"blue_cheese\", \"snow_peas\", \"pickled\", \"Gorgonzola\", \"chorizo\", \"yams\", \"hazelnuts\", \"fresh_tomatoes\", \"shiitake_mushrooms\", \"anchovies\", \"wild_rice\", \"scallion\", \"red_onions\", \"broccoli_rape\", \"red_cabbage\", \"wasabi\", \"sweet_potato\", \"feta\", \"roasted_garlic\", \"compote\", \"napoleon\", \"aioli\", \"crab_meat\", \"cauliflower\", \"jicama\", \"parsnips\", \"apricots\", \"new_potatoes\", \"truffle_oil\", \"lemongrass\", \"pistachios\", \"saut\\u00e9ed\", \"gnocchi\", \"duck_confit\", \"fresh_herbs\", \"ratatouille\", \"white_beans\", \"croutons\", \"fresh_mozzarella\", \"squab\", \"watercress\", \"roasted_red_peppers\", \"pine_nuts\", \"fritters\", \"butternut_squash\", \"fava_beans\", \"drizzled\", \"red_onion\", \"pea_shoots\", \"rosemary\", \"romaine\", \"mustard_greens\", \"horseradish\", \"caramelized_onions\", \"artichoke_hearts\", \"fettuccine\", \"grilled_eggplant\", \"julienne\", \"plum_tomatoes\", \"grilled_chicken\", \"pineapple\", \"candied\", \"pancetta\", \"celery_root\", \"sea_scallops\", \"shiitake\", \"porcini_mushrooms\", \"sour_cream\", \"bean_sprouts\", \"oyster_mushrooms\", \"monkfish\", \"chickpeas\", \"coconut_milk\"]\n"
     ]
    }
   ],
   "source": [
    "lexicon.create_category(\"healthy_food\", [\"healthy_food\",\"low_carb\",\"kale\",\"avocado\"], model=\"nytimes\")"
   ]
  },
  {
   "cell_type": "code",
   "execution_count": 102,
   "metadata": {},
   "outputs": [
    {
     "name": "stdout",
     "output_type": "stream",
     "text": [
      "[\"green_vegetables\", \"leafy_greens\", \"whole_grain_bread\", \"brown_rice\", \"white_rice\", \"green_veggies\", \"veggies\", \"whole_wheat_bread\", \"sweet_potatoes\", \"raw_veggies\", \"lean_meat\", \"spinach\", \"fatty_meat\", \"kale\", \"sweet_potato\", \"avocado\", \"hummus\", \"chicken_breast\", \"veggie\", \"whole_grain\", \"vegetables\", \"whole_wheat_pasta\", \"salads\", \"broccoli\", \"greek_yogurt\", \"Greek_yogurt\", \"yogurt\", \"avocados\", \"rice_cakes\", \"raw_vegetables\", \"almonds\", \"lean_protein\", \"grilled_chicken\", \"quinoa\", \"steamed_broccoli\", \"whole_grain_pasta\", \"brocolli\", \"kale\", \"avocado\", \"tofu\", \"Veggies\", \"edamame\", \"more_veggies\", \"lean_meats\", \"quinoa\", \"salad\", \"cottage_cheese\", \"whole_wheat\", \"wheat_bread\", \"romaine_lettuce\", \"white_bread\", \"raw_spinach\", \"oatmeal\", \"white_potatoes\", \"almond_butter\", \"pork_rinds\", \"veg\", \"cashews\", \"greek_yoghurt\", \"baby_carrots\", \"fresh_veggies\", \"fatty_meats\", \"more_vegetables\", \"avacado\", \"veges\", \"nut_butter\", \"hard_boiled_eggs\", \"carrot_sticks\", \"whole_grains\", \"grilled_chicken_breast\", \"steamed_vegetables\", \"meats\", \"lentils\", \"green_beans\", \"low_cal\", \"nuts/seeds\", \"iceberg_lettuce\", \"carrots\", \"red_meat\", \"other_foods\", \"fried_foods\", \"smoothies\", \"healthy_fats\", \"vegies\", \"avacados\", \"other_vegetables\", \"fresh_fruit\", \"spinach_salad\", \"egg_whites\", \"steamed_veggies\", \"nut_butters\", \"ground_turkey\", \"baked_chicken\"]\n"
     ]
    }
   ],
   "source": [
    "lexicon.create_category(\"healthy_food\", [\"healthy_food\",\"low_carb\",\"kale\",\"avocado\"], model=\"reddit\")"
   ]
  },
  {
   "cell_type": "code",
   "execution_count": 103,
   "metadata": {},
   "outputs": [
    {
     "name": "stdout",
     "output_type": "stream",
     "text": [
      "[\"turkey\", \"roast_beef\", \"white_bread\", \"fried_chicken\", \"pancakes\", \"peanut_butter\", \"gefilte_fish\", \"stuffing\", \"French_fries\", \"meatloaf\", \"brisket\", \"potato_salad\", \"pumpkin_pie\", \"scrambled_eggs\", \"french_fries\", \"spaghetti\", \"gravy\", \"tamales\", \"pot_roast\", \"oatmeal\", \"lasagna\", \"corned_beef\", \"latkes\", \"pickles\", \"sauerkraut\", \"burger\", \"grits\", \"biscuits\", \"hamburger\", \"salad_bar\", \"corn_bread\", \"chicken_soup\", \"bacon\", \"cream_cheese\", \"brownies\", \"tofu\", \"pastrami\", \"pork_chops\", \"salami\", \"marshmallows\", \"collard_greens\", \"macaroni\", \"pies\", \"raw_fish\", \"eggnog\", \"cheeseburgers\", \"truffles\", \"chocolate_cake\", \"hard-boiled_eggs\", \"baked_potatoes\", \"venison\", \"cottage_cheese\", \"pheasant\", \"applesauce\", \"quail\", \"fruit_salad\", \"meatballs\", \"chocolate_chip_cookies\", \"tacos\", \"roast\", \"jelly\", \"chicken_salad\", \"omelet\", \"gumbo\", \"steaks\", \"soup\", \"lox\", \"sausage\", \"roast_chicken\", \"rye\", \"bagel\", \"fruitcake\", \"fries\", \"fried_eggs\", \"ketchup\", \"chicken_wings\", \"barbecue_sauce\", \"sweet_potatoes\", \"pasta\", \"sausages\", \"crackers\", \"omelets\", \"roasting\", \"French_toast\", \"muffins\", \"mashed_potatoes\", \"fresh_fruit\", \"baked_potato\", \"waffles\", \"cranberry_sauce\", \"baked_beans\", \"cheese\", \"tripe\", \"noodles\", \"maple_syrup\", \"quiche\", \"buns\", \"baklava\", \"stews\"]\n"
     ]
    }
   ],
   "source": [
    "lexicon.create_category(\"festive_food\", [\"festive_food\",\"turkey\",\"eggnog\"], model=\"nytimes\")"
   ]
  },
  {
   "cell_type": "markdown",
   "metadata": {},
   "source": [
    "### List of further resources\n",
    "    * NLTK\n",
    "    * Jellyfish: string similarity library\n",
    "    * TextBlob: simplified text processing\n",
    "    * PyEnchant: language detection\n",
    "    * WordNet: ontology of concepts (inc. in NLTK)\n",
    "    * Stanford NLP (Java)\n",
    "    * Tweet NLP: https://www.cs.cmu.edu/~ark/TweetNLP/"
   ]
  },
  {
   "cell_type": "markdown",
   "metadata": {},
   "source": [
    "## Part 2"
   ]
  },
  {
   "cell_type": "markdown",
   "metadata": {},
   "source": [
    "### Question 1:\n",
    "An NLP preprocessing model, using the list of stopwords ['a', 'the', 'is', 'you', 'I','my','with','was'] for the input sentence\n",
    "“I was driving down the street with my CAR! :)” <br>\n",
    "gives the following output: {driving, down, street, car, :)}.\n",
    "The model consists of: <br>\n",
    "\n",
    "a) Stopword Removal, Casefolding and Stemming <br>\n",
    "b) Stopword Removal and Casefolding <br>\n",
    "c) Stopword Removal and Stemming <br>\n",
    "d) Casefolding and Stemming <br>"
   ]
  },
  {
   "cell_type": "code",
   "execution_count": 104,
   "metadata": {},
   "outputs": [
    {
     "data": {
      "text/plain": [
       "2"
      ]
     },
     "execution_count": 104,
     "metadata": {},
     "output_type": "execute_result"
    }
   ],
   "source": [
    "# write your code and/or answer here\n",
    "2"
   ]
  },
  {
   "cell_type": "markdown",
   "metadata": {},
   "source": [
    "### Question 2:\n",
    "Given the following preprocessed corpus :\n",
    "{time, flies, like, an, arrow} <br>\n",
    "{garbage, collector, is, used, by, java} <br>\n",
    "{switzerland, is, known, to, produce, clocks} <br>\n",
    "{five, apples, a, day, keep, the, doctor, away} <br>\n",
    "{it, is, about, time, you, arrive} <br>\n",
    "{my, favorite, course, this, year, is, applied, data, analysis} <br>\n",
    "The IDF value of the word \"time\" is: <br>\n",
    "\n",
    "a) log(3) <br>\n",
    "b) -log(3) <br>\n",
    "c) log(4) <br>\n",
    "d) log(2) <br>"
   ]
  },
  {
   "cell_type": "markdown",
   "metadata": {},
   "source": [
    "We can compute the **inverse document frequency** (IDF) with the formula:\n",
    "\n",
    "$$\\text{IDF} = -\\log\\left( \\text{docfreq}(w) / N \\right)$$"
   ]
  },
  {
   "cell_type": "markdown",
   "metadata": {},
   "source": [
    "where $\\text{docfreq}(w)$ is the number of documents containing word $w$, $N$ the total number of documents. "
   ]
  },
  {
   "cell_type": "markdown",
   "metadata": {},
   "source": [
    "In our case, the word \"time\" appears twice and we have 6 documents, so $\\text{IDF(time)} = -\\log(2/6) = \\log 3$"
   ]
  },
  {
   "cell_type": "code",
   "execution_count": 78,
   "metadata": {
    "collapsed": true,
    "jupyter": {
     "outputs_hidden": true
    }
   },
   "outputs": [],
   "source": [
    "# write your code and/or answer here"
   ]
  },
  {
   "cell_type": "markdown",
   "metadata": {},
   "source": [
    "### Question 3:\n",
    "\n",
    "Which statement is correct regarding character encoding?<br>\n",
    "\n",
    "a) A UTF-8 file that includes ASCII characters is encoded in the same way as the corresponding ASCII file <br>\n",
    "b) The best practice is to specify the type of encoding when reading the file, and when writing the file <br>\n",
    "c) ASCII can encode the sentence: “J'habite à Lausanne” <br>\n",
    "d) Given two raw, uncompressed .txt files with the same number of letters, the one encoded in UTF-16 can be smaller than the one encoded in ASCII <br>\n"
   ]
  },
  {
   "cell_type": "code",
   "execution_count": 79,
   "metadata": {
    "collapsed": true,
    "jupyter": {
     "outputs_hidden": true
    }
   },
   "outputs": [],
   "source": [
    "# write your code and/or answer here"
   ]
  },
  {
   "cell_type": "markdown",
   "metadata": {},
   "source": [
    "### Question 4:\n",
    "What statement is false about topic detection using LSA: <br>\n",
    "\n",
    "a) It finds the representation of documents and words in the latent \"topic space\" <br>\n",
    "b) It produces topics interpretable in “word space” <br>\n",
    "c) A document's topic representation is a probability distribution over topics <br>\n",
    "d) The vectors representing topics in “word space” are linearly independent <br>"
   ]
  },
  {
   "cell_type": "code",
   "execution_count": 80,
   "metadata": {
    "collapsed": true,
    "jupyter": {
     "outputs_hidden": true
    }
   },
   "outputs": [],
   "source": [
    "# write your code and/or answer here"
   ]
  },
  {
   "cell_type": "markdown",
   "metadata": {},
   "source": [
    "### Question 5:\n",
    "The problem of having more features than documents when using a TF-IDF matrix for document classification cannot be addressed by: <br>\n",
    "\n",
    "a) Using SVD for dimensionality reduction <br>\n",
    "b) Using min-max scaling of features <br>\n",
    "c) Penalizing very large positive and very large negative weights (a.k.a. regularization) <br>\n",
    "d) Using online feature selection <br>"
   ]
  },
  {
   "cell_type": "code",
   "execution_count": 81,
   "metadata": {
    "collapsed": true,
    "jupyter": {
     "outputs_hidden": true
    }
   },
   "outputs": [],
   "source": [
    "# write your code and/or answer here"
   ]
  },
  {
   "cell_type": "markdown",
   "metadata": {},
   "source": [
    "### Question 7:\n",
    "Which of the following is false about word vectors: <br>\n",
    "\n",
    "a) Word2vec is used to achieve a lower dimensional representation than bag of words <br>\n",
    "b) Semantically similar words typically have similar word2vec vectors <br>\n",
    "c) Each dimension in the word2vec embedding has a clear interpretation <br>\n",
    "d) Word2Vec can be used for the computation of sentence vectors <br>"
   ]
  },
  {
   "cell_type": "code",
   "execution_count": 82,
   "metadata": {
    "collapsed": true,
    "jupyter": {
     "outputs_hidden": true
    }
   },
   "outputs": [],
   "source": [
    "# write your code and/or answer here"
   ]
  },
  {
   "cell_type": "markdown",
   "metadata": {},
   "source": [
    "### Question 8:\n",
    "Given the following word (W) / context (C) co-occurrence frequencies, which statement is true regarding the pointwise mutual information (PMI)?\n",
    "\n",
    "|  |W1|W2|W3|\n",
    "|--|--|--|--|\n",
    "|C1| 2| 0| 3|\n",
    "|C2| 6| 4| 0|\n",
    "|C3| 1| 1| 3|\n",
    "\n",
    "a) PMI(w=W1, c=C2) > PMI(w=W2, c=C2) > PMI(w=W3, c=C3) <br>\n",
    "b) PMI(w=W2, c=C2) > PMI(w=W1, c=C2) >  PMI(w=W3, c=C3) <br>\n",
    "c) PMI(w=W3, c=C3) > PMI(w=W1, c=C2) > PMI(w=W2, c=C2) <br>\n",
    "d) PMI(w=W3, c=C3) > PMI(w=W2, c=C2) > PMI(w=W1, c=C2) <br>"
   ]
  },
  {
   "cell_type": "code",
   "execution_count": 83,
   "metadata": {
    "collapsed": true,
    "jupyter": {
     "outputs_hidden": true
    }
   },
   "outputs": [],
   "source": [
    "# write your code and/or answer here"
   ]
  },
  {
   "cell_type": "code",
   "execution_count": null,
   "metadata": {
    "collapsed": true,
    "jupyter": {
     "outputs_hidden": true
    }
   },
   "outputs": [],
   "source": []
  }
 ],
 "metadata": {
  "kernelspec": {
   "display_name": "Python [conda env:ada] *",
   "language": "python",
   "name": "conda-env-ada-py"
  },
  "language_info": {
   "codemirror_mode": {
    "name": "ipython",
    "version": 3
   },
   "file_extension": ".py",
   "mimetype": "text/x-python",
   "name": "python",
   "nbconvert_exporter": "python",
   "pygments_lexer": "ipython3",
   "version": "3.8.5"
  },
  "toc": {
   "colors": {
    "hover_highlight": "#DAA520",
    "navigate_num": "#000000",
    "navigate_text": "#333333",
    "running_highlight": "#FF0000",
    "selected_highlight": "#FFD700",
    "sidebar_border": "#EEEEEE",
    "wrapper_background": "#FFFFFF"
   },
   "moveMenuLeft": true,
   "nav_menu": {
    "height": "228px",
    "width": "252px"
   },
   "navigate_menu": true,
   "number_sections": true,
   "sideBar": true,
   "threshold": 4,
   "toc_cell": false,
   "toc_section_display": "block",
   "toc_window_display": false,
   "widenNotebook": false
  },
  "varInspector": {
   "cols": {
    "lenName": 16,
    "lenType": 16,
    "lenVar": 40
   },
   "kernels_config": {
    "python": {
     "delete_cmd_postfix": "",
     "delete_cmd_prefix": "del ",
     "library": "var_list.py",
     "varRefreshCmd": "print(var_dic_list())"
    },
    "r": {
     "delete_cmd_postfix": ") ",
     "delete_cmd_prefix": "rm(",
     "library": "var_list.r",
     "varRefreshCmd": "cat(var_dic_list()) "
    }
   },
   "types_to_exclude": [
    "module",
    "function",
    "builtin_function_or_method",
    "instance",
    "_Feature"
   ],
   "window_display": false
  }
 },
 "nbformat": 4,
 "nbformat_minor": 4
}
