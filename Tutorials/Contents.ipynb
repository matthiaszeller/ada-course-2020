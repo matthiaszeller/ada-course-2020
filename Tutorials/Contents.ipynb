{
 "cells": [
  {
   "cell_type": "markdown",
   "metadata": {},
   "source": [
    "# Contents\n",
    "\n"
   ]
  },
  {
   "cell_type": "markdown",
   "metadata": {},
   "source": [
    "0. Introduction\n",
    "    * Good coding practices\n",
    "        1. Coding style\n",
    "        1. Python tips\n",
    "        1. Code organization\n",
    "        1. ADA Specific Tips\n",
    "        1. Modularity\n",
    "    * Introduction to Jupyter Notebooks\n",
    "0. Handling Data\n",
    "    * Intro to Pandas I\n",
    "        1. Pandas Data Structures\n",
    "        1. Importing data\n",
    "        1. Indexing and Selection\n",
    "        1. Hierarchical indexing\n",
    "        1. Operations\n",
    "        1. Sorting\n",
    "        1. Missing data\n",
    "        1. Data summarization\n",
    "        1. Plotting\n",
    "        1. Writing to files\n",
    "    * Intro to Pandas II\n",
    "        1. Date/Time\n",
    "        1. Merging and joining DataFrames\n",
    "        1. Concatenation\n",
    "        1. Reshaping DataFrames\n",
    "        1. Pivoting\n",
    "        1. Data transformation (duplicates, replacement, indicator)\n",
    "        1. Categorical data (discretization, permutation, sampling)\n",
    "        1. Data aggregation and groupby\n",
    "0. Data visualization\n",
    "    * Becoming a Data Wizard\n",
    "        1. Visualizing single variable \n",
    "        1. Visualizing two continuous variables\n",
    "        1. Two variables, continuous and cateogorical\n",
    "        1. Visualizing uncertainty\n",
    "        1. Creating panels\n",
    "        1. Heatmaps\n",
    "        1. Visualizing skewed distributions\n"
   ]
  }
 ],
 "metadata": {
  "kernelspec": {
   "display_name": "Python [conda env:ada] *",
   "language": "python",
   "name": "conda-env-ada-py"
  },
  "language_info": {
   "codemirror_mode": {
    "name": "ipython",
    "version": 3
   },
   "file_extension": ".py",
   "mimetype": "text/x-python",
   "name": "python",
   "nbconvert_exporter": "python",
   "pygments_lexer": "ipython3",
   "version": "3.8.5"
  }
 },
 "nbformat": 4,
 "nbformat_minor": 4
}
