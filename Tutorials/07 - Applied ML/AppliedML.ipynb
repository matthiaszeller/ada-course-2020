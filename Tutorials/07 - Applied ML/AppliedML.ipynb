{
 "cells": [
  {
   "cell_type": "markdown",
   "metadata": {},
   "source": [
    "## All you need is love… And a pet!\n",
    "\n",
    "<img src=\"img/dataset-cover.jpg\" width=\"920\">\n",
    "\n",
    "Here we are going to build a classifier to predict whether an animal from an animal shelter will be adopted or not (aac_intakes_outcomes.csv, available at: https://www.kaggle.com/aaronschlegel/austin-animal-center-shelter-intakes-and-outcomes/version/1#aac_intakes_outcomes.csv). You will be working with the following features:\n",
    "\n",
    "1. *animal_type:* Type of animal. May be one of 'cat', 'dog', 'bird', etc.\n",
    "2. *intake_year:* Year of intake\n",
    "3. *intake_condition:* The intake condition of the animal. Can be one of 'normal', 'injured', 'sick', etc.\n",
    "4. *intake_number:* The intake number denoting the number of occurrences the animal has been brought into the shelter. Values higher than 1 indicate the animal has been taken into the shelter on more than one occasion.\n",
    "5. *intake_type:* The type of intake, for example, 'stray', 'owner surrender', etc.\n",
    "6. *sex_upon_intake:* The gender of the animal and if it has been spayed or neutered at the time of intake\n",
    "7. *age_upon\\_intake_(years):* The age of the animal upon intake represented in years\n",
    "8. *time_in_shelter_days:* Numeric value denoting the number of days the animal remained at the shelter from intake to outcome.\n",
    "9. *sex_upon_outcome:* The gender of the animal and if it has been spayed or neutered at time of outcome\n",
    "10. *age_upon\\_outcome_(years):* The age of the animal upon outcome represented in years\n",
    "11. *outcome_type:* The outcome type. Can be one of ‘adopted’, ‘transferred’, etc."
   ]
  },
  {
   "cell_type": "code",
   "execution_count": 128,
   "metadata": {},
   "outputs": [],
   "source": [
    "import numpy as np\n",
    "import matplotlib\n",
    "import matplotlib.pyplot as plt\n",
    "import pandas as pd\n",
    "import scipy as sp\n",
    "from itertools import combinations \n",
    "import ast\n",
    "from sklearn.linear_model import LogisticRegression\n",
    "import seaborn as sns\n",
    "import math\n",
    "%matplotlib inline\n",
    "\n",
    "\n",
    "data_folder = './data/'"
   ]
  },
  {
   "cell_type": "code",
   "execution_count": 2,
   "metadata": {},
   "outputs": [],
   "source": [
    "columns = ['animal_type', 'intake_year', 'intake_condition', 'intake_number', 'intake_type', 'sex_upon_intake', \\\n",
    "          'age_upon_intake_(years)', 'time_in_shelter_days', 'sex_upon_outcome', 'age_upon_outcome_(years)', \\\n",
    "          'outcome_type']\n",
    "original_data = pd.read_csv(data_folder+'aac_intakes_outcomes.csv', usecols=columns)"
   ]
  },
  {
   "cell_type": "markdown",
   "metadata": {},
   "source": [
    "# Getting started"
   ]
  },
  {
   "cell_type": "code",
   "execution_count": 3,
   "metadata": {},
   "outputs": [
    {
     "name": "stdout",
     "output_type": "stream",
     "text": [
      "<class 'pandas.core.frame.DataFrame'>\n",
      "RangeIndex: 79672 entries, 0 to 79671\n",
      "Data columns (total 11 columns):\n",
      " #   Column                    Non-Null Count  Dtype  \n",
      "---  ------                    --------------  -----  \n",
      " 0   outcome_type              79662 non-null  object \n",
      " 1   sex_upon_outcome          79671 non-null  object \n",
      " 2   age_upon_outcome_(years)  79672 non-null  float64\n",
      " 3   animal_type               79672 non-null  object \n",
      " 4   intake_condition          79672 non-null  object \n",
      " 5   intake_type               79672 non-null  object \n",
      " 6   sex_upon_intake           79671 non-null  object \n",
      " 7   age_upon_intake_(years)   79672 non-null  float64\n",
      " 8   intake_year               79672 non-null  int64  \n",
      " 9   intake_number             79672 non-null  float64\n",
      " 10  time_in_shelter_days      79672 non-null  float64\n",
      "dtypes: float64(4), int64(1), object(6)\n",
      "memory usage: 6.7+ MB\n"
     ]
    }
   ],
   "source": [
    "df = original_data.copy()\n",
    "df.info()"
   ]
  },
  {
   "cell_type": "code",
   "execution_count": 4,
   "metadata": {},
   "outputs": [
    {
     "data": {
      "text/html": [
       "<div>\n",
       "<style scoped>\n",
       "    .dataframe tbody tr th:only-of-type {\n",
       "        vertical-align: middle;\n",
       "    }\n",
       "\n",
       "    .dataframe tbody tr th {\n",
       "        vertical-align: top;\n",
       "    }\n",
       "\n",
       "    .dataframe thead th {\n",
       "        text-align: right;\n",
       "    }\n",
       "</style>\n",
       "<table border=\"1\" class=\"dataframe\">\n",
       "  <thead>\n",
       "    <tr style=\"text-align: right;\">\n",
       "      <th></th>\n",
       "      <th>outcome_type</th>\n",
       "      <th>sex_upon_outcome</th>\n",
       "      <th>age_upon_outcome_(years)</th>\n",
       "      <th>animal_type</th>\n",
       "      <th>intake_condition</th>\n",
       "      <th>intake_type</th>\n",
       "      <th>sex_upon_intake</th>\n",
       "      <th>age_upon_intake_(years)</th>\n",
       "      <th>intake_year</th>\n",
       "      <th>intake_number</th>\n",
       "      <th>time_in_shelter_days</th>\n",
       "    </tr>\n",
       "  </thead>\n",
       "  <tbody>\n",
       "    <tr>\n",
       "      <th>30573</th>\n",
       "      <td>Adoption</td>\n",
       "      <td>Spayed Female</td>\n",
       "      <td>5.000000</td>\n",
       "      <td>Dog</td>\n",
       "      <td>Normal</td>\n",
       "      <td>Stray</td>\n",
       "      <td>Spayed Female</td>\n",
       "      <td>5.000000</td>\n",
       "      <td>2015</td>\n",
       "      <td>1.0</td>\n",
       "      <td>50.121528</td>\n",
       "    </tr>\n",
       "    <tr>\n",
       "      <th>27789</th>\n",
       "      <td>Adoption</td>\n",
       "      <td>Spayed Female</td>\n",
       "      <td>1.000000</td>\n",
       "      <td>Dog</td>\n",
       "      <td>Normal</td>\n",
       "      <td>Stray</td>\n",
       "      <td>Intact Female</td>\n",
       "      <td>1.000000</td>\n",
       "      <td>2015</td>\n",
       "      <td>1.0</td>\n",
       "      <td>11.204861</td>\n",
       "    </tr>\n",
       "    <tr>\n",
       "      <th>61957</th>\n",
       "      <td>Transfer</td>\n",
       "      <td>Intact Female</td>\n",
       "      <td>0.328767</td>\n",
       "      <td>Dog</td>\n",
       "      <td>Injured</td>\n",
       "      <td>Stray</td>\n",
       "      <td>Intact Female</td>\n",
       "      <td>0.328767</td>\n",
       "      <td>2017</td>\n",
       "      <td>1.0</td>\n",
       "      <td>4.713194</td>\n",
       "    </tr>\n",
       "    <tr>\n",
       "      <th>46308</th>\n",
       "      <td>Return to Owner</td>\n",
       "      <td>Intact Male</td>\n",
       "      <td>5.000000</td>\n",
       "      <td>Dog</td>\n",
       "      <td>Normal</td>\n",
       "      <td>Public Assist</td>\n",
       "      <td>Intact Male</td>\n",
       "      <td>5.000000</td>\n",
       "      <td>2016</td>\n",
       "      <td>2.0</td>\n",
       "      <td>7.763889</td>\n",
       "    </tr>\n",
       "    <tr>\n",
       "      <th>51020</th>\n",
       "      <td>Adoption</td>\n",
       "      <td>Neutered Male</td>\n",
       "      <td>0.164384</td>\n",
       "      <td>Cat</td>\n",
       "      <td>Nursing</td>\n",
       "      <td>Stray</td>\n",
       "      <td>Intact Male</td>\n",
       "      <td>0.016438</td>\n",
       "      <td>2016</td>\n",
       "      <td>1.0</td>\n",
       "      <td>64.047917</td>\n",
       "    </tr>\n",
       "    <tr>\n",
       "      <th>49302</th>\n",
       "      <td>Euthanasia</td>\n",
       "      <td>Unknown</td>\n",
       "      <td>1.000000</td>\n",
       "      <td>Other</td>\n",
       "      <td>Injured</td>\n",
       "      <td>Wildlife</td>\n",
       "      <td>Unknown</td>\n",
       "      <td>1.000000</td>\n",
       "      <td>2016</td>\n",
       "      <td>1.0</td>\n",
       "      <td>0.145139</td>\n",
       "    </tr>\n",
       "    <tr>\n",
       "      <th>72602</th>\n",
       "      <td>Transfer</td>\n",
       "      <td>Spayed Female</td>\n",
       "      <td>1.000000</td>\n",
       "      <td>Dog</td>\n",
       "      <td>Normal</td>\n",
       "      <td>Public Assist</td>\n",
       "      <td>Spayed Female</td>\n",
       "      <td>1.000000</td>\n",
       "      <td>2017</td>\n",
       "      <td>1.0</td>\n",
       "      <td>11.866667</td>\n",
       "    </tr>\n",
       "    <tr>\n",
       "      <th>27936</th>\n",
       "      <td>Return to Owner</td>\n",
       "      <td>Neutered Male</td>\n",
       "      <td>2.000000</td>\n",
       "      <td>Dog</td>\n",
       "      <td>Normal</td>\n",
       "      <td>Stray</td>\n",
       "      <td>Neutered Male</td>\n",
       "      <td>2.000000</td>\n",
       "      <td>2015</td>\n",
       "      <td>3.0</td>\n",
       "      <td>0.266667</td>\n",
       "    </tr>\n",
       "    <tr>\n",
       "      <th>62389</th>\n",
       "      <td>Return to Owner</td>\n",
       "      <td>Intact Female</td>\n",
       "      <td>8.000000</td>\n",
       "      <td>Dog</td>\n",
       "      <td>Normal</td>\n",
       "      <td>Public Assist</td>\n",
       "      <td>Intact Female</td>\n",
       "      <td>8.000000</td>\n",
       "      <td>2017</td>\n",
       "      <td>1.0</td>\n",
       "      <td>1.659028</td>\n",
       "    </tr>\n",
       "    <tr>\n",
       "      <th>13349</th>\n",
       "      <td>Transfer</td>\n",
       "      <td>Intact Female</td>\n",
       "      <td>0.057534</td>\n",
       "      <td>Cat</td>\n",
       "      <td>Normal</td>\n",
       "      <td>Stray</td>\n",
       "      <td>Intact Female</td>\n",
       "      <td>0.057534</td>\n",
       "      <td>2014</td>\n",
       "      <td>1.0</td>\n",
       "      <td>0.042361</td>\n",
       "    </tr>\n",
       "  </tbody>\n",
       "</table>\n",
       "</div>"
      ],
      "text/plain": [
       "          outcome_type sex_upon_outcome  age_upon_outcome_(years) animal_type  \\\n",
       "30573         Adoption    Spayed Female                  5.000000         Dog   \n",
       "27789         Adoption    Spayed Female                  1.000000         Dog   \n",
       "61957         Transfer    Intact Female                  0.328767         Dog   \n",
       "46308  Return to Owner      Intact Male                  5.000000         Dog   \n",
       "51020         Adoption    Neutered Male                  0.164384         Cat   \n",
       "49302       Euthanasia          Unknown                  1.000000       Other   \n",
       "72602         Transfer    Spayed Female                  1.000000         Dog   \n",
       "27936  Return to Owner    Neutered Male                  2.000000         Dog   \n",
       "62389  Return to Owner    Intact Female                  8.000000         Dog   \n",
       "13349         Transfer    Intact Female                  0.057534         Cat   \n",
       "\n",
       "      intake_condition    intake_type sex_upon_intake  \\\n",
       "30573           Normal          Stray   Spayed Female   \n",
       "27789           Normal          Stray   Intact Female   \n",
       "61957          Injured          Stray   Intact Female   \n",
       "46308           Normal  Public Assist     Intact Male   \n",
       "51020          Nursing          Stray     Intact Male   \n",
       "49302          Injured       Wildlife         Unknown   \n",
       "72602           Normal  Public Assist   Spayed Female   \n",
       "27936           Normal          Stray   Neutered Male   \n",
       "62389           Normal  Public Assist   Intact Female   \n",
       "13349           Normal          Stray   Intact Female   \n",
       "\n",
       "       age_upon_intake_(years)  intake_year  intake_number  \\\n",
       "30573                 5.000000         2015            1.0   \n",
       "27789                 1.000000         2015            1.0   \n",
       "61957                 0.328767         2017            1.0   \n",
       "46308                 5.000000         2016            2.0   \n",
       "51020                 0.016438         2016            1.0   \n",
       "49302                 1.000000         2016            1.0   \n",
       "72602                 1.000000         2017            1.0   \n",
       "27936                 2.000000         2015            3.0   \n",
       "62389                 8.000000         2017            1.0   \n",
       "13349                 0.057534         2014            1.0   \n",
       "\n",
       "       time_in_shelter_days  \n",
       "30573             50.121528  \n",
       "27789             11.204861  \n",
       "61957              4.713194  \n",
       "46308              7.763889  \n",
       "51020             64.047917  \n",
       "49302              0.145139  \n",
       "72602             11.866667  \n",
       "27936              0.266667  \n",
       "62389              1.659028  \n",
       "13349              0.042361  "
      ]
     },
     "execution_count": 4,
     "metadata": {},
     "output_type": "execute_result"
    }
   ],
   "source": [
    "df.sample(10)"
   ]
  },
  {
   "cell_type": "code",
   "execution_count": 5,
   "metadata": {},
   "outputs": [
    {
     "data": {
      "text/plain": [
       "[(0, 'outcome_type'),\n",
       " (1, 'sex_upon_outcome'),\n",
       " (2, 'age_upon_outcome_(years)'),\n",
       " (3, 'animal_type'),\n",
       " (4, 'intake_condition'),\n",
       " (5, 'intake_type'),\n",
       " (6, 'sex_upon_intake'),\n",
       " (7, 'age_upon_intake_(years)'),\n",
       " (8, 'intake_year'),\n",
       " (9, 'intake_number'),\n",
       " (10, 'time_in_shelter_days')]"
      ]
     },
     "execution_count": 5,
     "metadata": {},
     "output_type": "execute_result"
    }
   ],
   "source": [
    "list(enumerate(df.columns))"
   ]
  },
  {
   "cell_type": "markdown",
   "metadata": {},
   "source": [
    "## Missing values"
   ]
  },
  {
   "cell_type": "code",
   "execution_count": 6,
   "metadata": {},
   "outputs": [
    {
     "data": {
      "text/plain": [
       "outcome_type                10\n",
       "sex_upon_outcome             1\n",
       "age_upon_outcome_(years)     0\n",
       "animal_type                  0\n",
       "intake_condition             0\n",
       "intake_type                  0\n",
       "sex_upon_intake              1\n",
       "age_upon_intake_(years)      0\n",
       "intake_year                  0\n",
       "intake_number                0\n",
       "time_in_shelter_days         0\n",
       "dtype: int64"
      ]
     },
     "execution_count": 6,
     "metadata": {},
     "output_type": "execute_result"
    }
   ],
   "source": [
    "df.isna().sum()"
   ]
  },
  {
   "cell_type": "code",
   "execution_count": 7,
   "metadata": {},
   "outputs": [
    {
     "name": "stdout",
     "output_type": "stream",
     "text": [
      "(79672, 11)\n"
     ]
    },
    {
     "data": {
      "text/plain": [
       "(79661, 11)"
      ]
     },
     "execution_count": 7,
     "metadata": {},
     "output_type": "execute_result"
    }
   ],
   "source": [
    "print(df.shape)\n",
    "df.dropna(inplace=True)\n",
    "df.shape"
   ]
  },
  {
   "cell_type": "markdown",
   "metadata": {},
   "source": [
    "## Data viz\n",
    "\n"
   ]
  },
  {
   "cell_type": "markdown",
   "metadata": {},
   "source": [
    "### Categorical "
   ]
  },
  {
   "cell_type": "code",
   "execution_count": 8,
   "metadata": {},
   "outputs": [
    {
     "data": {
      "image/png": "[encoded data removed]",
      "text/plain": [
       "<Figure size 864x432 with 6 Axes>"
      ]
     },
     "metadata": {
      "needs_background": "light"
     },
     "output_type": "display_data"
    }
   ],
   "source": [
    "cat = [0, 1, 3, 4, 5, 6]\n",
    "cat = [df.columns[i] for i in cat]\n",
    "\n",
    "fig,ax = plt.subplots(2, 3, figsize=(12, 6))\n",
    "for a, c in zip(ax.ravel(), cat):\n",
    "    sns.countplot(y=c, ax=a, data=df)\n",
    "    a.set_ylabel('')\n",
    "    a.set_title(c)\n",
    "\n",
    "plt.tight_layout()"
   ]
  },
  {
   "cell_type": "markdown",
   "metadata": {},
   "source": [
    "### Continuous"
   ]
  },
  {
   "cell_type": "code",
   "execution_count": 11,
   "metadata": {},
   "outputs": [
    {
     "data": {
      "image/png": "[encoded data removed]",
      "text/plain": [
       "<Figure size 864x432 with 6 Axes>"
      ]
     },
     "metadata": {
      "needs_background": "light"
     },
     "output_type": "display_data"
    }
   ],
   "source": [
    "cont = [df.columns[i] for i in range(df.shape[1]) if df.columns[i] not in cat]\n",
    "\n",
    "fig, ax = plt.subplots(2, 3, figsize=(12, 6))\n",
    "for a, c in zip(ax.ravel(), cont):\n",
    "    sns.distplot(df[c], ax=a)\n",
    "    \n",
    "ax[1, 1].set_xscale('log')\n",
    "ax[1, 0].set_yscale('log')\n",
    "plt.tight_layout()"
   ]
  },
  {
   "cell_type": "markdown",
   "metadata": {},
   "source": [
    "# Exercises"
   ]
  },
  {
   "cell_type": "markdown",
   "metadata": {},
   "source": [
    "## A) Load the dataset and convert categorical features to a suitable numerical representation (use dummy-variable encoding). \n",
    "- Split the data into a training set (80%) and a test set (20%). Pair each feature vector with the corresponding label, i.e., whether the outcome_type is adoption or not. \n",
    "- Standardize the values of each feature in the data to have mean 0 and variance 1.\n",
    "\n",
    "The use of external libraries is not permitted in part A, except for numpy and pandas. \n",
    "You can drop entries with missing values."
   ]
  },
  {
   "cell_type": "markdown",
   "metadata": {},
   "source": [
    "**QUESTION / TODO**: get dummies except last one, right ?"
   ]
  },
  {
   "cell_type": "markdown",
   "metadata": {},
   "source": [
    "**QUESTION TODO**: order splitting / dummies / standardization : if:\n",
    "\n",
    "1. dummy\n",
    "1. split\n",
    "1. standardize\n",
    "\n",
    "-> we don't want to standardize dummies"
   ]
  },
  {
   "cell_type": "markdown",
   "metadata": {},
   "source": [
    "We perform \n",
    "\n",
    "1. Split data\n",
    "1. Standardization\n",
    "1. Generate dummy variables"
   ]
  },
  {
   "cell_type": "markdown",
   "metadata": {},
   "source": [
    "In this specific order. For instance, we don't want to standardize after dummy variables generation (we want to keep binary vars as... binary)."
   ]
  },
  {
   "cell_type": "markdown",
   "metadata": {},
   "source": [
    "### Process outcome"
   ]
  },
  {
   "cell_type": "code",
   "execution_count": 12,
   "metadata": {},
   "outputs": [
    {
     "data": {
      "text/plain": [
       "array([0, 0, 0, ..., 0, 0, 0])"
      ]
     },
     "execution_count": 12,
     "metadata": {},
     "output_type": "execute_result"
    }
   ],
   "source": [
    "y = df['outcome_type'].values\n",
    "y = (y == 'Adoption') * 1\n",
    "y"
   ]
  },
  {
   "cell_type": "code",
   "execution_count": 13,
   "metadata": {},
   "outputs": [
    {
     "data": {
      "text/plain": [
       "(array([0, 1]), array([46067, 33594]))"
      ]
     },
     "execution_count": 13,
     "metadata": {},
     "output_type": "execute_result"
    }
   ],
   "source": [
    "np.unique(y, return_counts=True)"
   ]
  },
  {
   "cell_type": "markdown",
   "metadata": {},
   "source": [
    "### Split data"
   ]
  },
  {
   "cell_type": "code",
   "execution_count": 14,
   "metadata": {},
   "outputs": [
    {
     "data": {
      "text/plain": [
       "((63728, 10), (15933, 10), (63728,), (15933,))"
      ]
     },
     "execution_count": 14,
     "metadata": {},
     "output_type": "execute_result"
    }
   ],
   "source": [
    "shuff_ids = np.random.permutation(df.shape[0])\n",
    "train_ratio = .8\n",
    "id_split = int(train_ratio * shuff_ids.shape[0])\n",
    "\n",
    "train = df.iloc[shuff_ids[:id_split], 1:]\n",
    "ytrain = y[shuff_ids[:id_split]]\n",
    "\n",
    "test = df.iloc[shuff_ids[id_split:], 1:]\n",
    "ytest = y[shuff_ids[id_split:]]\n",
    "\n",
    "train.shape, test.shape, ytrain.shape, ytest.shape"
   ]
  },
  {
   "cell_type": "markdown",
   "metadata": {},
   "source": [
    "### Standardization"
   ]
  },
  {
   "cell_type": "code",
   "execution_count": 15,
   "metadata": {},
   "outputs": [],
   "source": [
    "for c in cont:\n",
    "    mean = train[c].mean()\n",
    "    std = train[c].std()\n",
    "    \n",
    "    train[c] = (train[c] - mean) / std\n",
    "    test[c] = (test[c] - mean) / std"
   ]
  },
  {
   "cell_type": "markdown",
   "metadata": {},
   "source": [
    "### Categorical features conversion\n",
    "\n",
    "We provide the argument `drop_first=True` to `pd.get_dummies` in order to get $(k-1)$ dummy variables instead of $k$, where $k$ is the number of factors of a categorical variable. This is because the last factor is represented by all dummy variables being 0."
   ]
  },
  {
   "cell_type": "code",
   "execution_count": 16,
   "metadata": {},
   "outputs": [],
   "source": [
    "train = pd.get_dummies(train, drop_first=True)\n",
    "test = pd.get_dummies(test, drop_first=True)"
   ]
  },
  {
   "cell_type": "code",
   "execution_count": 17,
   "metadata": {},
   "outputs": [
    {
     "data": {
      "text/plain": [
       "['sex_upon_outcome_Intact Male',\n",
       " 'sex_upon_outcome_Neutered Male',\n",
       " 'sex_upon_outcome_Spayed Female',\n",
       " 'sex_upon_outcome_Unknown',\n",
       " 'animal_type_Cat',\n",
       " 'animal_type_Dog',\n",
       " 'animal_type_Other',\n",
       " 'intake_condition_Feral',\n",
       " 'intake_condition_Injured',\n",
       " 'intake_condition_Normal',\n",
       " 'intake_condition_Nursing',\n",
       " 'intake_condition_Other',\n",
       " 'intake_condition_Pregnant',\n",
       " 'intake_condition_Sick',\n",
       " 'intake_type_Owner Surrender',\n",
       " 'intake_type_Public Assist',\n",
       " 'intake_type_Stray',\n",
       " 'intake_type_Wildlife',\n",
       " 'sex_upon_intake_Intact Male',\n",
       " 'sex_upon_intake_Neutered Male',\n",
       " 'sex_upon_intake_Spayed Female',\n",
       " 'sex_upon_intake_Unknown']"
      ]
     },
     "execution_count": 17,
     "metadata": {},
     "output_type": "execute_result"
    }
   ],
   "source": [
    "[e for e in train.columns if e not in cat+cont]"
   ]
  },
  {
   "cell_type": "code",
   "execution_count": 18,
   "metadata": {},
   "outputs": [
    {
     "data": {
      "text/html": [
       "<div>\n",
       "<style scoped>\n",
       "    .dataframe tbody tr th:only-of-type {\n",
       "        vertical-align: middle;\n",
       "    }\n",
       "\n",
       "    .dataframe tbody tr th {\n",
       "        vertical-align: top;\n",
       "    }\n",
       "\n",
       "    .dataframe thead th {\n",
       "        text-align: right;\n",
       "    }\n",
       "</style>\n",
       "<table border=\"1\" class=\"dataframe\">\n",
       "  <thead>\n",
       "    <tr style=\"text-align: right;\">\n",
       "      <th></th>\n",
       "      <th>age_upon_outcome_(years)</th>\n",
       "      <th>age_upon_intake_(years)</th>\n",
       "      <th>intake_year</th>\n",
       "      <th>intake_number</th>\n",
       "      <th>time_in_shelter_days</th>\n",
       "      <th>sex_upon_outcome_Intact Male</th>\n",
       "      <th>sex_upon_outcome_Neutered Male</th>\n",
       "      <th>sex_upon_outcome_Spayed Female</th>\n",
       "      <th>sex_upon_outcome_Unknown</th>\n",
       "      <th>animal_type_Cat</th>\n",
       "      <th>...</th>\n",
       "      <th>intake_condition_Pregnant</th>\n",
       "      <th>intake_condition_Sick</th>\n",
       "      <th>intake_type_Owner Surrender</th>\n",
       "      <th>intake_type_Public Assist</th>\n",
       "      <th>intake_type_Stray</th>\n",
       "      <th>intake_type_Wildlife</th>\n",
       "      <th>sex_upon_intake_Intact Male</th>\n",
       "      <th>sex_upon_intake_Neutered Male</th>\n",
       "      <th>sex_upon_intake_Spayed Female</th>\n",
       "      <th>sex_upon_intake_Unknown</th>\n",
       "    </tr>\n",
       "  </thead>\n",
       "  <tbody>\n",
       "    <tr>\n",
       "      <th>8222</th>\n",
       "      <td>-0.051158</td>\n",
       "      <td>-0.039346</td>\n",
       "      <td>-1.866030</td>\n",
       "      <td>-0.278366</td>\n",
       "      <td>-0.375128</td>\n",
       "      <td>0</td>\n",
       "      <td>1</td>\n",
       "      <td>0</td>\n",
       "      <td>0</td>\n",
       "      <td>0</td>\n",
       "      <td>...</td>\n",
       "      <td>0</td>\n",
       "      <td>0</td>\n",
       "      <td>0</td>\n",
       "      <td>0</td>\n",
       "      <td>1</td>\n",
       "      <td>0</td>\n",
       "      <td>0</td>\n",
       "      <td>1</td>\n",
       "      <td>0</td>\n",
       "      <td>0</td>\n",
       "    </tr>\n",
       "    <tr>\n",
       "      <th>49886</th>\n",
       "      <td>-0.395349</td>\n",
       "      <td>-0.384364</td>\n",
       "      <td>0.432220</td>\n",
       "      <td>-0.278366</td>\n",
       "      <td>-0.253516</td>\n",
       "      <td>0</td>\n",
       "      <td>1</td>\n",
       "      <td>0</td>\n",
       "      <td>0</td>\n",
       "      <td>0</td>\n",
       "      <td>...</td>\n",
       "      <td>0</td>\n",
       "      <td>0</td>\n",
       "      <td>0</td>\n",
       "      <td>0</td>\n",
       "      <td>1</td>\n",
       "      <td>0</td>\n",
       "      <td>1</td>\n",
       "      <td>0</td>\n",
       "      <td>0</td>\n",
       "      <td>0</td>\n",
       "    </tr>\n",
       "    <tr>\n",
       "      <th>58070</th>\n",
       "      <td>0.293033</td>\n",
       "      <td>0.305673</td>\n",
       "      <td>0.432220</td>\n",
       "      <td>4.128475</td>\n",
       "      <td>-0.347457</td>\n",
       "      <td>0</td>\n",
       "      <td>1</td>\n",
       "      <td>0</td>\n",
       "      <td>0</td>\n",
       "      <td>0</td>\n",
       "      <td>...</td>\n",
       "      <td>0</td>\n",
       "      <td>0</td>\n",
       "      <td>0</td>\n",
       "      <td>1</td>\n",
       "      <td>0</td>\n",
       "      <td>0</td>\n",
       "      <td>0</td>\n",
       "      <td>1</td>\n",
       "      <td>0</td>\n",
       "      <td>0</td>\n",
       "    </tr>\n",
       "    <tr>\n",
       "      <th>65496</th>\n",
       "      <td>-0.711251</td>\n",
       "      <td>-0.716148</td>\n",
       "      <td>1.198304</td>\n",
       "      <td>-0.278366</td>\n",
       "      <td>0.525074</td>\n",
       "      <td>0</td>\n",
       "      <td>1</td>\n",
       "      <td>0</td>\n",
       "      <td>0</td>\n",
       "      <td>1</td>\n",
       "      <td>...</td>\n",
       "      <td>0</td>\n",
       "      <td>0</td>\n",
       "      <td>0</td>\n",
       "      <td>0</td>\n",
       "      <td>1</td>\n",
       "      <td>0</td>\n",
       "      <td>1</td>\n",
       "      <td>0</td>\n",
       "      <td>0</td>\n",
       "      <td>0</td>\n",
       "    </tr>\n",
       "    <tr>\n",
       "      <th>32531</th>\n",
       "      <td>4.767522</td>\n",
       "      <td>4.790910</td>\n",
       "      <td>-0.333863</td>\n",
       "      <td>-0.278366</td>\n",
       "      <td>-0.363724</td>\n",
       "      <td>0</td>\n",
       "      <td>0</td>\n",
       "      <td>1</td>\n",
       "      <td>0</td>\n",
       "      <td>0</td>\n",
       "      <td>...</td>\n",
       "      <td>0</td>\n",
       "      <td>0</td>\n",
       "      <td>0</td>\n",
       "      <td>0</td>\n",
       "      <td>1</td>\n",
       "      <td>0</td>\n",
       "      <td>0</td>\n",
       "      <td>0</td>\n",
       "      <td>1</td>\n",
       "      <td>0</td>\n",
       "    </tr>\n",
       "    <tr>\n",
       "      <th>13016</th>\n",
       "      <td>-0.395349</td>\n",
       "      <td>-0.384364</td>\n",
       "      <td>-1.099947</td>\n",
       "      <td>-0.278366</td>\n",
       "      <td>-0.373994</td>\n",
       "      <td>0</td>\n",
       "      <td>0</td>\n",
       "      <td>0</td>\n",
       "      <td>0</td>\n",
       "      <td>1</td>\n",
       "      <td>...</td>\n",
       "      <td>0</td>\n",
       "      <td>0</td>\n",
       "      <td>0</td>\n",
       "      <td>0</td>\n",
       "      <td>1</td>\n",
       "      <td>0</td>\n",
       "      <td>0</td>\n",
       "      <td>0</td>\n",
       "      <td>0</td>\n",
       "      <td>0</td>\n",
       "    </tr>\n",
       "    <tr>\n",
       "      <th>23434</th>\n",
       "      <td>-0.051158</td>\n",
       "      <td>-0.039346</td>\n",
       "      <td>-1.099947</td>\n",
       "      <td>-0.278366</td>\n",
       "      <td>-0.281122</td>\n",
       "      <td>0</td>\n",
       "      <td>0</td>\n",
       "      <td>1</td>\n",
       "      <td>0</td>\n",
       "      <td>0</td>\n",
       "      <td>...</td>\n",
       "      <td>0</td>\n",
       "      <td>0</td>\n",
       "      <td>0</td>\n",
       "      <td>0</td>\n",
       "      <td>1</td>\n",
       "      <td>0</td>\n",
       "      <td>0</td>\n",
       "      <td>0</td>\n",
       "      <td>0</td>\n",
       "      <td>0</td>\n",
       "    </tr>\n",
       "    <tr>\n",
       "      <th>226</th>\n",
       "      <td>2.702373</td>\n",
       "      <td>2.720801</td>\n",
       "      <td>-0.333863</td>\n",
       "      <td>-0.278366</td>\n",
       "      <td>-0.108752</td>\n",
       "      <td>0</td>\n",
       "      <td>1</td>\n",
       "      <td>0</td>\n",
       "      <td>0</td>\n",
       "      <td>0</td>\n",
       "      <td>...</td>\n",
       "      <td>0</td>\n",
       "      <td>0</td>\n",
       "      <td>1</td>\n",
       "      <td>0</td>\n",
       "      <td>0</td>\n",
       "      <td>0</td>\n",
       "      <td>0</td>\n",
       "      <td>1</td>\n",
       "      <td>0</td>\n",
       "      <td>0</td>\n",
       "    </tr>\n",
       "    <tr>\n",
       "      <th>19</th>\n",
       "      <td>4.423330</td>\n",
       "      <td>4.445892</td>\n",
       "      <td>-1.866030</td>\n",
       "      <td>-0.278366</td>\n",
       "      <td>-0.395865</td>\n",
       "      <td>0</td>\n",
       "      <td>1</td>\n",
       "      <td>0</td>\n",
       "      <td>0</td>\n",
       "      <td>0</td>\n",
       "      <td>...</td>\n",
       "      <td>0</td>\n",
       "      <td>1</td>\n",
       "      <td>1</td>\n",
       "      <td>0</td>\n",
       "      <td>0</td>\n",
       "      <td>0</td>\n",
       "      <td>0</td>\n",
       "      <td>1</td>\n",
       "      <td>0</td>\n",
       "      <td>0</td>\n",
       "    </tr>\n",
       "    <tr>\n",
       "      <th>59904</th>\n",
       "      <td>0.293033</td>\n",
       "      <td>0.305673</td>\n",
       "      <td>0.432220</td>\n",
       "      <td>4.128475</td>\n",
       "      <td>-0.088853</td>\n",
       "      <td>0</td>\n",
       "      <td>1</td>\n",
       "      <td>0</td>\n",
       "      <td>0</td>\n",
       "      <td>0</td>\n",
       "      <td>...</td>\n",
       "      <td>0</td>\n",
       "      <td>0</td>\n",
       "      <td>0</td>\n",
       "      <td>0</td>\n",
       "      <td>1</td>\n",
       "      <td>0</td>\n",
       "      <td>1</td>\n",
       "      <td>0</td>\n",
       "      <td>0</td>\n",
       "      <td>0</td>\n",
       "    </tr>\n",
       "  </tbody>\n",
       "</table>\n",
       "<p>10 rows × 27 columns</p>\n",
       "</div>"
      ],
      "text/plain": [
       "       age_upon_outcome_(years)  age_upon_intake_(years)  intake_year  \\\n",
       "8222                  -0.051158                -0.039346    -1.866030   \n",
       "49886                 -0.395349                -0.384364     0.432220   \n",
       "58070                  0.293033                 0.305673     0.432220   \n",
       "65496                 -0.711251                -0.716148     1.198304   \n",
       "32531                  4.767522                 4.790910    -0.333863   \n",
       "13016                 -0.395349                -0.384364    -1.099947   \n",
       "23434                 -0.051158                -0.039346    -1.099947   \n",
       "226                    2.702373                 2.720801    -0.333863   \n",
       "19                     4.423330                 4.445892    -1.866030   \n",
       "59904                  0.293033                 0.305673     0.432220   \n",
       "\n",
       "       intake_number  time_in_shelter_days  sex_upon_outcome_Intact Male  \\\n",
       "8222       -0.278366             -0.375128                             0   \n",
       "49886      -0.278366             -0.253516                             0   \n",
       "58070       4.128475             -0.347457                             0   \n",
       "65496      -0.278366              0.525074                             0   \n",
       "32531      -0.278366             -0.363724                             0   \n",
       "13016      -0.278366             -0.373994                             0   \n",
       "23434      -0.278366             -0.281122                             0   \n",
       "226        -0.278366             -0.108752                             0   \n",
       "19         -0.278366             -0.395865                             0   \n",
       "59904       4.128475             -0.088853                             0   \n",
       "\n",
       "       sex_upon_outcome_Neutered Male  sex_upon_outcome_Spayed Female  \\\n",
       "8222                                1                               0   \n",
       "49886                               1                               0   \n",
       "58070                               1                               0   \n",
       "65496                               1                               0   \n",
       "32531                               0                               1   \n",
       "13016                               0                               0   \n",
       "23434                               0                               1   \n",
       "226                                 1                               0   \n",
       "19                                  1                               0   \n",
       "59904                               1                               0   \n",
       "\n",
       "       sex_upon_outcome_Unknown  animal_type_Cat  ...  \\\n",
       "8222                          0                0  ...   \n",
       "49886                         0                0  ...   \n",
       "58070                         0                0  ...   \n",
       "65496                         0                1  ...   \n",
       "32531                         0                0  ...   \n",
       "13016                         0                1  ...   \n",
       "23434                         0                0  ...   \n",
       "226                           0                0  ...   \n",
       "19                            0                0  ...   \n",
       "59904                         0                0  ...   \n",
       "\n",
       "       intake_condition_Pregnant  intake_condition_Sick  \\\n",
       "8222                           0                      0   \n",
       "49886                          0                      0   \n",
       "58070                          0                      0   \n",
       "65496                          0                      0   \n",
       "32531                          0                      0   \n",
       "13016                          0                      0   \n",
       "23434                          0                      0   \n",
       "226                            0                      0   \n",
       "19                             0                      1   \n",
       "59904                          0                      0   \n",
       "\n",
       "       intake_type_Owner Surrender  intake_type_Public Assist  \\\n",
       "8222                             0                          0   \n",
       "49886                            0                          0   \n",
       "58070                            0                          1   \n",
       "65496                            0                          0   \n",
       "32531                            0                          0   \n",
       "13016                            0                          0   \n",
       "23434                            0                          0   \n",
       "226                              1                          0   \n",
       "19                               1                          0   \n",
       "59904                            0                          0   \n",
       "\n",
       "       intake_type_Stray  intake_type_Wildlife  sex_upon_intake_Intact Male  \\\n",
       "8222                   1                     0                            0   \n",
       "49886                  1                     0                            1   \n",
       "58070                  0                     0                            0   \n",
       "65496                  1                     0                            1   \n",
       "32531                  1                     0                            0   \n",
       "13016                  1                     0                            0   \n",
       "23434                  1                     0                            0   \n",
       "226                    0                     0                            0   \n",
       "19                     0                     0                            0   \n",
       "59904                  1                     0                            1   \n",
       "\n",
       "       sex_upon_intake_Neutered Male  sex_upon_intake_Spayed Female  \\\n",
       "8222                               1                              0   \n",
       "49886                              0                              0   \n",
       "58070                              1                              0   \n",
       "65496                              0                              0   \n",
       "32531                              0                              1   \n",
       "13016                              0                              0   \n",
       "23434                              0                              0   \n",
       "226                                1                              0   \n",
       "19                                 1                              0   \n",
       "59904                              0                              0   \n",
       "\n",
       "       sex_upon_intake_Unknown  \n",
       "8222                         0  \n",
       "49886                        0  \n",
       "58070                        0  \n",
       "65496                        0  \n",
       "32531                        0  \n",
       "13016                        0  \n",
       "23434                        0  \n",
       "226                          0  \n",
       "19                           0  \n",
       "59904                        0  \n",
       "\n",
       "[10 rows x 27 columns]"
      ]
     },
     "execution_count": 18,
     "metadata": {},
     "output_type": "execute_result"
    }
   ],
   "source": [
    "train.sample(10)"
   ]
  },
  {
   "cell_type": "code",
   "execution_count": 19,
   "metadata": {},
   "outputs": [
    {
     "data": {
      "text/plain": [
       "((63728, 27), (15933, 27))"
      ]
     },
     "execution_count": 19,
     "metadata": {},
     "output_type": "execute_result"
    }
   ],
   "source": [
    "train.shape, test.shape"
   ]
  },
  {
   "cell_type": "markdown",
   "metadata": {},
   "source": [
    "## B) Train a logistic regression classifier on your training set. Logistic regression returns probabilities as predictions, so in order to arrive at a binary prediction, you need to put a threshold on the predicted probabilities. \n",
    "- For the decision threshold of 0.5, present the performance of your classifier on the test set by displaying the confusion matrix. Based on the confusion matrix, manually calculate accuracy, precision, recall, and F1-score with respect to the positive and the negative class. "
   ]
  },
  {
   "cell_type": "code",
   "execution_count": 20,
   "metadata": {},
   "outputs": [],
   "source": [
    "from sklearn.metrics import confusion_matrix"
   ]
  },
  {
   "cell_type": "code",
   "execution_count": 21,
   "metadata": {},
   "outputs": [
    {
     "name": "stdout",
     "output_type": "stream",
     "text": [
      "Confusion matrix:\n"
     ]
    },
    {
     "name": "stderr",
     "output_type": "stream",
     "text": [
      "/home/maousi/anaconda3/envs/ada/lib/python3.8/site-packages/sklearn/linear_model/_logistic.py:762: ConvergenceWarning: lbfgs failed to converge (status=1):\n",
      "STOP: TOTAL NO. of ITERATIONS REACHED LIMIT.\n",
      "\n",
      "Increase the number of iterations (max_iter) or scale the data as shown in:\n",
      "    https://scikit-learn.org/stable/modules/preprocessing.html\n",
      "Please also refer to the documentation for alternative solver options:\n",
      "    https://scikit-learn.org/stable/modules/linear_model.html#logistic-regression\n",
      "  n_iter_i = _check_optimize_result(\n"
     ]
    },
    {
     "data": {
      "text/plain": [
       "array([[0.4724785 , 0.09922802],\n",
       "       [0.07500157, 0.35329191]])"
      ]
     },
     "execution_count": 21,
     "metadata": {},
     "output_type": "execute_result"
    }
   ],
   "source": [
    "lr = LogisticRegression()\n",
    "lr.fit(train, ytrain)\n",
    "\n",
    "# Automatically uses threshold 0.5\n",
    "yhat = lr.predict(test)\n",
    "\n",
    "print('Confusion matrix:')\n",
    "mx = confusion_matrix(ytest, yhat, normalize='all')\n",
    "mx"
   ]
  },
  {
   "cell_type": "markdown",
   "metadata": {},
   "source": [
    "The confusion matrix function returns in order: tn, fp, fn, tp."
   ]
  },
  {
   "cell_type": "markdown",
   "metadata": {},
   "source": [
    "* **Precision**: among the (+) classed samples, how much are really (+)? In other words, probability to be (+) if you are said you're (+)\n",
    "* **Recall**: among the truly (+) samples, probability to get (+) class? In other words, probability to be classified (+) if we know you're (+)"
   ]
  },
  {
   "cell_type": "code",
   "execution_count": 22,
   "metadata": {},
   "outputs": [
    {
     "name": "stdout",
     "output_type": "stream",
     "text": [
      "accuracy = 0.8257704136069792\n",
      "precision = 0.7807212205270458\n",
      "recall = 0.8248827667057443\n",
      "F1 = 0.8021946700869318\n"
     ]
    }
   ],
   "source": [
    "tn, fp, fn, tp = mx.ravel()\n",
    "\n",
    "pr = tp / (tp + fp)\n",
    "rec = tp / (tp + fn)\n",
    "\n",
    "print('accuracy =', tp + tn)\n",
    "print('precision =', pr)\n",
    "print('recall =', rec)\n",
    "print('F1 =', 2 * pr * rec / (pr + rec))"
   ]
  },
  {
   "cell_type": "markdown",
   "metadata": {},
   "source": [
    "### C) Vary the value of the threshold in the range from 0 to 1 and visualize the value of accuracy, precision, recall, and F1-score (with respect to both classes) as a function of the threshold."
   ]
  },
  {
   "cell_type": "markdown",
   "metadata": {},
   "source": [
    "**QUESTION / TODO: with respect to both classes??**"
   ]
  },
  {
   "cell_type": "code",
   "execution_count": 52,
   "metadata": {},
   "outputs": [],
   "source": [
    "def evaluate_prediction(y, yhat):\n",
    "    \"\"\"\n",
    "    :return: confusion matrix, accuracy, precision, recall\n",
    "    \"\"\"\n",
    "    mx = confusion_matrix(y, yhat, normalize='all')\n",
    "    \n",
    "    tn, fp, fn, tp = mx.ravel()\n",
    "\n",
    "    acc = tp + tn\n",
    "    pr = tp / (tp + fp)\n",
    "    rec = tp / (tp + fn)\n",
    "    F1 = 2 * pr * rec / (pr + rec)\n",
    "    \n",
    "    return mx, acc, pr, rec, F1\n",
    "\n",
    "def report(y, yhat):\n",
    "    mx, acc, pr, rec, F1 = evaluate_prediction(y, yhat)\n",
    "\n",
    "    print(f'Confusion matrix:\\n{mx}')\n",
    "    print('accuracy =', acc)\n",
    "    print('precision =', pr)\n",
    "    print('recall =', rec)\n",
    "    print('F1 =', F1)"
   ]
  },
  {
   "cell_type": "code",
   "execution_count": 53,
   "metadata": {},
   "outputs": [
    {
     "name": "stdout",
     "output_type": "stream",
     "text": [
      "Confusion matrix:\n",
      "[[0.4724785  0.09922802]\n",
      " [0.07500157 0.35329191]]\n",
      "accuracy = 0.8257704136069792\n",
      "precision = 0.7807212205270458\n",
      "recall = 0.8248827667057443\n",
      "F1 = 0.8021946700869318\n"
     ]
    }
   ],
   "source": [
    "report(ytest, yhat)"
   ]
  },
  {
   "cell_type": "markdown",
   "metadata": {},
   "source": [
    "We now predict with a different threshold using `predict_proba`"
   ]
  },
  {
   "cell_type": "code",
   "execution_count": 54,
   "metadata": {},
   "outputs": [
    {
     "data": {
      "text/plain": [
       "array([[0.        , 0.8201114 , 0.1798886 ],\n",
       "       [1.        , 0.32038657, 0.67961343],\n",
       "       [1.        , 0.30660394, 0.69339606],\n",
       "       ...,\n",
       "       [1.        , 0.40436436, 0.59563564],\n",
       "       [1.        , 0.19023012, 0.80976988],\n",
       "       [0.        , 0.75075297, 0.24924703]])"
      ]
     },
     "execution_count": 54,
     "metadata": {},
     "output_type": "execute_result"
    }
   ],
   "source": [
    "# Display prediction in column 0 and probabilities in columns 1 and 2\n",
    "# => identify which probability corresponds to 1\n",
    "np.c_[lr.predict(test), lr.predict_proba(test)]"
   ]
  },
  {
   "cell_type": "code",
   "execution_count": 34,
   "metadata": {},
   "outputs": [],
   "source": [
    "def predict(model, x, threshold):\n",
    "    p_1 = model.predict_proba(x)[:, 1]\n",
    "    yhat = (p_1 > threshold) * 1\n",
    "    return yhat"
   ]
  },
  {
   "cell_type": "code",
   "execution_count": 36,
   "metadata": {},
   "outputs": [
    {
     "data": {
      "text/plain": [
       "True"
      ]
     },
     "execution_count": 36,
     "metadata": {},
     "output_type": "execute_result"
    }
   ],
   "source": [
    "# Sanity check\n",
    "np.all(predict(lr, test, 0.5) == lr.predict(test))"
   ]
  },
  {
   "cell_type": "code",
   "execution_count": 56,
   "metadata": {},
   "outputs": [
    {
     "name": "stderr",
     "output_type": "stream",
     "text": [
      "<ipython-input-52-e6fd76518218>:10: RuntimeWarning: invalid value encountered in double_scalars\n",
      "  pr = tp / (tp + fp)\n"
     ]
    },
    {
     "data": {
      "text/html": [
       "<div>\n",
       "<style scoped>\n",
       "    .dataframe tbody tr th:only-of-type {\n",
       "        vertical-align: middle;\n",
       "    }\n",
       "\n",
       "    .dataframe tbody tr th {\n",
       "        vertical-align: top;\n",
       "    }\n",
       "\n",
       "    .dataframe thead th {\n",
       "        text-align: right;\n",
       "    }\n",
       "</style>\n",
       "<table border=\"1\" class=\"dataframe\">\n",
       "  <thead>\n",
       "    <tr style=\"text-align: right;\">\n",
       "      <th></th>\n",
       "      <th>accuracy</th>\n",
       "      <th>precision</th>\n",
       "      <th>recall</th>\n",
       "      <th>F1</th>\n",
       "    </tr>\n",
       "  </thead>\n",
       "  <tbody>\n",
       "    <tr>\n",
       "      <th>0.00</th>\n",
       "      <td>0.428293</td>\n",
       "      <td>0.428293</td>\n",
       "      <td>1.000000</td>\n",
       "      <td>0.599728</td>\n",
       "    </tr>\n",
       "    <tr>\n",
       "      <th>0.01</th>\n",
       "      <td>0.496328</td>\n",
       "      <td>0.459538</td>\n",
       "      <td>0.999414</td>\n",
       "      <td>0.629587</td>\n",
       "    </tr>\n",
       "    <tr>\n",
       "      <th>0.02</th>\n",
       "      <td>0.533609</td>\n",
       "      <td>0.478679</td>\n",
       "      <td>0.998535</td>\n",
       "      <td>0.647134</td>\n",
       "    </tr>\n",
       "    <tr>\n",
       "      <th>0.03</th>\n",
       "      <td>0.546225</td>\n",
       "      <td>0.485523</td>\n",
       "      <td>0.997655</td>\n",
       "      <td>0.653171</td>\n",
       "    </tr>\n",
       "    <tr>\n",
       "      <th>0.04</th>\n",
       "      <td>0.564301</td>\n",
       "      <td>0.495700</td>\n",
       "      <td>0.996630</td>\n",
       "      <td>0.662091</td>\n",
       "    </tr>\n",
       "  </tbody>\n",
       "</table>\n",
       "</div>"
      ],
      "text/plain": [
       "      accuracy  precision    recall        F1\n",
       "0.00  0.428293   0.428293  1.000000  0.599728\n",
       "0.01  0.496328   0.459538  0.999414  0.629587\n",
       "0.02  0.533609   0.478679  0.998535  0.647134\n",
       "0.03  0.546225   0.485523  0.997655  0.653171\n",
       "0.04  0.564301   0.495700  0.996630  0.662091"
      ]
     },
     "execution_count": 56,
     "metadata": {},
     "output_type": "execute_result"
    }
   ],
   "source": [
    "thresholds = np.linspace(0.0, 1.0, 101)\n",
    "\n",
    "metrics = [\n",
    "    evaluate_prediction(ytest, predict(lr, test, threshold))[1:]\n",
    "    for threshold in thresholds\n",
    "]\n",
    "\n",
    "metrics = pd.DataFrame(metrics, index=thresholds, columns=['accuracy', 'precision', 'recall', 'F1'])\n",
    "metrics.head()"
   ]
  },
  {
   "cell_type": "code",
   "execution_count": 65,
   "metadata": {},
   "outputs": [
    {
     "data": {
      "image/png": "[encoded data removed]",
      "text/plain": [
       "<Figure size 720x288 with 1 Axes>"
      ]
     },
     "metadata": {},
     "output_type": "display_data"
    }
   ],
   "source": [
    "with sns.axes_style('whitegrid'):\n",
    "    metrics.plot(figsize=(10, 4))\n",
    "\n",
    "plt.gca().axis(ymin=.4)\n",
    "plt.gca().set_xlabel('Threshold');"
   ]
  },
  {
   "cell_type": "markdown",
   "metadata": {},
   "source": [
    "**TODO QUESTION**: the accuracy curve is not normal ???"
   ]
  },
  {
   "cell_type": "markdown",
   "metadata": {},
   "source": [
    "### D) Plot in a bar chart the coefficients of the logistic regression sorted by their contribution to the prediction."
   ]
  },
  {
   "cell_type": "code",
   "execution_count": 112,
   "metadata": {},
   "outputs": [
    {
     "data": {
      "text/html": [
       "<div>\n",
       "<style scoped>\n",
       "    .dataframe tbody tr th:only-of-type {\n",
       "        vertical-align: middle;\n",
       "    }\n",
       "\n",
       "    .dataframe tbody tr th {\n",
       "        vertical-align: top;\n",
       "    }\n",
       "\n",
       "    .dataframe thead th {\n",
       "        text-align: right;\n",
       "    }\n",
       "</style>\n",
       "<table border=\"1\" class=\"dataframe\">\n",
       "  <thead>\n",
       "    <tr style=\"text-align: right;\">\n",
       "      <th></th>\n",
       "      <th>feature</th>\n",
       "      <th>value</th>\n",
       "      <th>abs</th>\n",
       "    </tr>\n",
       "  </thead>\n",
       "  <tbody>\n",
       "    <tr>\n",
       "      <th>7</th>\n",
       "      <td>sex_upon_outcome_Spayed Female</td>\n",
       "      <td>3.50541</td>\n",
       "      <td>3.50541</td>\n",
       "    </tr>\n",
       "    <tr>\n",
       "      <th>10</th>\n",
       "      <td>animal_type_Dog</td>\n",
       "      <td>-3.35988</td>\n",
       "      <td>3.35988</td>\n",
       "    </tr>\n",
       "    <tr>\n",
       "      <th>9</th>\n",
       "      <td>animal_type_Cat</td>\n",
       "      <td>-3.33585</td>\n",
       "      <td>3.33585</td>\n",
       "    </tr>\n",
       "    <tr>\n",
       "      <th>11</th>\n",
       "      <td>animal_type_Other</td>\n",
       "      <td>-2.66891</td>\n",
       "      <td>2.66891</td>\n",
       "    </tr>\n",
       "    <tr>\n",
       "      <th>1</th>\n",
       "      <td>age_upon_intake_(years)</td>\n",
       "      <td>-2.28364</td>\n",
       "      <td>2.28364</td>\n",
       "    </tr>\n",
       "  </tbody>\n",
       "</table>\n",
       "</div>"
      ],
      "text/plain": [
       "                           feature    value      abs\n",
       "7   sex_upon_outcome_Spayed Female  3.50541  3.50541\n",
       "10                 animal_type_Dog -3.35988  3.35988\n",
       "9                  animal_type_Cat -3.33585  3.33585\n",
       "11               animal_type_Other -2.66891  2.66891\n",
       "1          age_upon_intake_(years) -2.28364  2.28364"
      ]
     },
     "execution_count": 112,
     "metadata": {},
     "output_type": "execute_result"
    }
   ],
   "source": [
    "coefs = np.c_[train.columns, lr.coef_.ravel()]\n",
    "# intercept\n",
    "coefs = np.concatenate([coefs, [['intercept', lr.intercept_]]])\n",
    "\n",
    "coefs = pd.DataFrame(coefs, columns=['feature', 'value'])\n",
    "coefs['abs'] = coefs.value.abs()\n",
    "coefs.sort_values('abs', inplace=True, ascending=False)\n",
    "coefs.head()"
   ]
  },
  {
   "cell_type": "code",
   "execution_count": 166,
   "metadata": {},
   "outputs": [
    {
     "data": {
      "image/png": "[encoded data removed]",
      "text/plain": [
       "<Figure size 360x576 with 1 Axes>"
      ]
     },
     "metadata": {
      "needs_background": "light"
     },
     "output_type": "display_data"
    }
   ],
   "source": [
    "plt.figure(figsize=(5, 8))\n",
    "\n",
    "with sns.axes_style('whitegrid'):\n",
    "    bars = sns.barplot(y='feature', x='abs', data=coefs, palette='viridis')\n",
    "    \n",
    "plt.xlabel('Coefficient absolute value');"
   ]
  },
  {
   "cell_type": "markdown",
   "metadata": {},
   "source": [
    "Much better if we plot diverging lines to show whether a feature is positive or negative:"
   ]
  },
  {
   "cell_type": "code",
   "execution_count": 169,
   "metadata": {},
   "outputs": [
    {
     "data": {
      "text/plain": [
       "<matplotlib.collections.LineCollection at 0x7f1e59774f10>"
      ]
     },
     "execution_count": 169,
     "metadata": {},
     "output_type": "execute_result"
    },
    {
     "data": {
      "image/png": "[encoded data removed]",
      "text/plain": [
       "<Figure size 432x288 with 1 Axes>"
      ]
     },
     "metadata": {
      "needs_background": "light"
     },
     "output_type": "display_data"
    }
   ],
   "source": [
    "plt.hlines([-1,2,3], -3, 4)"
   ]
  },
  {
   "cell_type": "code",
   "execution_count": 193,
   "metadata": {},
   "outputs": [],
   "source": [
    "coefs.sort_values('value', inplace=True)\n",
    "coefs.reset_index(inplace=True, drop=True)"
   ]
  },
  {
   "cell_type": "code",
   "execution_count": 209,
   "metadata": {},
   "outputs": [
    {
     "data": {
      "image/png": "[encoded data removed]",
      "text/plain": [
       "<Figure size 720x576 with 1 Axes>"
      ]
     },
     "metadata": {
      "needs_background": "light"
     },
     "output_type": "display_data"
    }
   ],
   "source": [
    "cmap = matplotlib.cm.get_cmap('coolwarm')\n",
    "idx_zero = np.where(coefs.value > 0)[0][0]\n",
    "colors = np.r_[\n",
    "    cmap(np.linspace(0, 0.5, idx_zero)),\n",
    "    cmap(np.linspace(0.5, 1, coefs.shape[0] - idx_zero))\n",
    "]\n",
    "\n",
    "plt.figure(figsize=(10, 8))\n",
    "with sns.axes_style('whitegrid'):\n",
    "    plt.hlines(coefs.feature, xmin=0, xmax=coefs['value'], color=colors, lw=10)\n",
    "    \n",
    "plt.xlabel('Coefficient value')\n",
    "plt.title('Barplot of coefficients value for logistic regression');"
   ]
  },
  {
   "cell_type": "markdown",
   "metadata": {},
   "source": [
    "To prepare for this exam, let's wrap this divergin barplot in a function:"
   ]
  },
  {
   "cell_type": "code",
   "execution_count": 218,
   "metadata": {},
   "outputs": [],
   "source": [
    "%run ../plotting.py"
   ]
  },
  {
   "cell_type": "code",
   "execution_count": 221,
   "metadata": {},
   "outputs": [
    {
     "data": {
      "image/png": "[encoded data removed]",
      "text/plain": [
       "<Figure size 720x576 with 1 Axes>"
      ]
     },
     "metadata": {
      "needs_background": "light"
     },
     "output_type": "display_data"
    }
   ],
   "source": [
    "plt.figure(figsize=(10, 8))\n",
    "with sns.axes_style('whitegrid'):\n",
    "    diverging_bars(coefs.feature, coefs.value)"
   ]
  },
  {
   "cell_type": "markdown",
   "metadata": {},
   "source": [
    "# Quiz\n",
    "\n",
    "## Questions 1: Which of the following metrics is most suitable when you are dealing with unbalanced classes?\n",
    "\n",
    "- a) F1 Score\n",
    "- b) Recall\n",
    "- c) Precision\n",
    "- d) Accuracy"
   ]
  },
  {
   "cell_type": "markdown",
   "metadata": {},
   "source": [
    "Answer: a"
   ]
  },
  {
   "cell_type": "markdown",
   "metadata": {},
   "source": [
    "## Question 2: You are working on a binary classification problem. You trained a model on a training dataset and got the following confusion matrix on the test dataset. What is true about the evaluation metrics (rounded to the second decimal point):\n",
    "\n",
    "|            | Pred = NO|Pred=YES|\n",
    "|------------|----------|--------|\n",
    "| Actual NO  |    50    |   10   |\n",
    "| Actual YES |    5     |   100  |\n",
    "\n",
    "- a) Accuracy is 0.95\n",
    "- b) Accuracy is 0.85\n",
    "- c) False positive rate is 0.95\n",
    "- d) True positive rate is 0.95"
   ]
  },
  {
   "cell_type": "code",
   "execution_count": 66,
   "metadata": {},
   "outputs": [
    {
     "data": {
      "text/plain": [
       "0.9090909090909091"
      ]
     },
     "execution_count": 66,
     "metadata": {},
     "output_type": "execute_result"
    }
   ],
   "source": [
    "# accuracy\n",
    "(50+100) / 165"
   ]
  },
  {
   "cell_type": "code",
   "execution_count": 67,
   "metadata": {},
   "outputs": [
    {
     "data": {
      "text/plain": [
       "0.06060606060606061"
      ]
     },
     "execution_count": 67,
     "metadata": {},
     "output_type": "execute_result"
    }
   ],
   "source": [
    "# fp\n",
    "10 / 165"
   ]
  },
  {
   "cell_type": "code",
   "execution_count": 68,
   "metadata": {},
   "outputs": [
    {
     "data": {
      "text/plain": [
       "0.6060606060606061"
      ]
     },
     "execution_count": 68,
     "metadata": {},
     "output_type": "execute_result"
    }
   ],
   "source": [
    "# tp\n",
    "100 / 165"
   ]
  }
 ],
 "metadata": {
  "kernelspec": {
   "display_name": "Python 3",
   "language": "python",
   "name": "python3"
  },
  "language_info": {
   "codemirror_mode": {
    "name": "ipython",
    "version": 3
   },
   "file_extension": ".py",
   "mimetype": "text/x-python",
   "name": "python",
   "nbconvert_exporter": "python",
   "pygments_lexer": "ipython3",
   "version": "3.8.5"
  },
  "varInspector": {
   "cols": {
    "lenName": 16,
    "lenType": 16,
    "lenVar": 40
   },
   "kernels_config": {
    "python": {
     "delete_cmd_postfix": "",
     "delete_cmd_prefix": "del ",
     "library": "var_list.py",
     "varRefreshCmd": "print(var_dic_list())"
    },
    "r": {
     "delete_cmd_postfix": ") ",
     "delete_cmd_prefix": "rm(",
     "library": "var_list.r",
     "varRefreshCmd": "cat(var_dic_list()) "
    }
   },
   "types_to_exclude": [
    "module",
    "function",
    "builtin_function_or_method",
    "instance",
    "_Feature"
   ],
   "window_display": false
  }
 },
 "nbformat": 4,
 "nbformat_minor": 4
}
